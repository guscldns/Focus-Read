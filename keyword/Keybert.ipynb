{
  "nbformat": 4,
  "nbformat_minor": 0,
  "metadata": {
    "colab": {
      "provenance": [],
      "authorship_tag": "ABX9TyN9YziUm3/NN6veD+EXVVw6",
      "include_colab_link": true
    },
    "kernelspec": {
      "name": "python3",
      "display_name": "Python 3"
    },
    "language_info": {
      "name": "python"
    }
  },
  "cells": [
    {
      "cell_type": "markdown",
      "metadata": {
        "id": "view-in-github",
        "colab_type": "text"
      },
      "source": [
        "<a href=\"https://colab.research.google.com/github/guscldns/Focus-Read/blob/main/keyword/Keybert.ipynb\" target=\"_parent\"><img src=\"https://colab.research.google.com/assets/colab-badge.svg\" alt=\"Open In Colab\"/></a>"
      ]
    },
    {
      "cell_type": "code",
      "source": [
        "!pip install keybert\n",
        "!pip install kiwipiepy"
      ],
      "metadata": {
        "id": "RP-O1Us-1oL4"
      },
      "execution_count": null,
      "outputs": []
    },
    {
      "cell_type": "code",
      "source": [
        "from keybert import KeyBERT\n",
        "from kiwipiepy import Kiwi\n",
        "from transformers import BertModel"
      ],
      "metadata": {
        "id": "43ekHv3xjYtp"
      },
      "execution_count": null,
      "outputs": []
    },
    {
      "cell_type": "code",
      "source": [
        "### 키워드 명사로만 제공\n",
        "from kiwipiepy import Kiwi\n",
        "from transformers import BertModel\n",
        "from keybert import KeyBERT\n",
        "\n",
        "# 텍스트 입력\n",
        "text= \"\"\"<그 애> 작자미상 우리는 개천 쪽으로 문이 난 납작한 집들이 게딱지처럼 따닥따닥 붙어있는 동네에서 자 랐다. 그 동네에선 누구나 그렇듯 그 애와 나도 가난했다. 물론 다른 점도 있었다. 내 아 버지는 번번히 월급이 밀리는 시원찮은 회사의 영업사원이었다. 그 애의 아버지는 한쪽 안구에 개 눈을 박아 넣고 지하철에서 구걸을 했다. 내 어머니는 방 한가운데 산처럼 쌓 아 놓은 개구리 인형에 눈을 박았다. 그 애의 어머니는 청계천 골목에서 커피도 팔고 박 카스도 팔고 이따금 곱창집 뒷 방에서 몸도 팔았다. 우리집은 네 가족이 방 두 개짜리 전세금에 쩔쩔맸고, 그 애는 화장실 옆 천막을 치고 아궁이를 걸어 간이 부엌을 만든 하코방에서 살았다. 나는 어린이날 탕수육을 못 먹고 짜장면만 먹는다고 울었고, 그 애는 엄마가 외박하는 밤이면 아버지의 허리띠를 피해서 맨발로 포도를 다다다닥 달렸다. 말하자면 그렇다. 우리집은 가난했고, 그 애는 불행했다. 가난한 동네는 국민학교도 작았다. 우리는 4학년때 처음 한 반이 되었다. 우연히 그 애 집을 지나가다가 길가로 훤히 드러나는 아궁이에다 라면을 끓이는 그 애를 보았다. 그 애가 입은 늘어난 러닝셔츠엔 김치국물이 묻어 있었고 얼굴엔 김치국물 같은 핏자국이 말라붙어 있었다. 눈싸움인지 서로를 노려보다가 내가 먼저 말했다. 너네 부엌 뽑기 만들 기에 최고다. 나는 집에서 국자와 설탕을 훔쳐왔고, 국자바닥을 까맣게 태우면서 우리는 친구가 되었다. 사정이 좀 풀려서 우리집은 서울 반대편으로 이사를 했다. 아버지는 친척이 소개 시켜준 회사에 나갔다. 월급은 밀리지 않았고 어머니는 부업을 그만두었다. 나는 가끔 그 애에게 편지를 썼다. 크리스마스에는 일년동안 쓴 딱딱한 커버의 일기장을 그 애에게 보내기도 했다. 그 애는 얇은 공책을 하나 보냈다. 일기는 몇 장 되지 않았다. decoded_paragraphs=[3월 4일 개학했다. 선생님한테 맞았다. 6월 1일 딸기를 먹었다. 9월 3일 누나가 아파서 아버지가 화냈다. 11 월 4일 생일이다. 그 애는 딸기를 먹으면 일기를 썼다. 딸기를 먹는 것이 일기를 쓸만한 일이었다. 우리는 중학생이 되었다.\"\"\"\n",
        "# Kiwi 형태소 분석기 초기화\n",
        "kiwi = Kiwi()\n",
        "kiwi.analyze(text)\n",
        "\n",
        "# BERT 모델 로드\n",
        "model = BertModel.from_pretrained('skt/kobert-base-v1')\n",
        "\n",
        "# KeyBERT 모델 초기화\n",
        "kw_model = KeyBERT(model)\n",
        "\n",
        "# 키워드 추출\n",
        "keywords = kw_model.extract_keywords(text, keyphrase_ngram_range=(1, 1), stop_words=None, top_n=10)\n",
        "\n",
        "# 참고) 글자수 1100 이내 모델 로드까지 26초, 모델이 로드된 상태라면 7초 걸림"
      ],
      "metadata": {
        "id": "lqK1-LAJy5g_"
      },
      "execution_count": null,
      "outputs": []
    },
    {
      "cell_type": "code",
      "source": [
        "# 명사 키워드 추출 함수 정의\n",
        "def extract_nouns(keyword_list):\n",
        "    noun_keywords = []\n",
        "    keywordscore = []\n",
        "    for keyword, score in keywords:\n",
        "        # 형태소 분석 수행\n",
        "        tokens = kiwi.analyze(keyword)\n",
        "        # print(tokens)\n",
        "        for tk in tokens[0][0]:\n",
        "            # print(tk)\n",
        "            if tk.tag == \"NNG\":\n",
        "                if tk.form not in noun_keywords:\n",
        "                    noun_keywords.append(tk.form)\n",
        "                    keywordscore.append((tk.form,score))\n",
        "\n",
        "    return noun_keywords, keywordscore"
      ],
      "metadata": {
        "id": "PpUzS07GgoVI"
      },
      "execution_count": null,
      "outputs": []
    },
    {
      "cell_type": "code",
      "source": [
        "# 명사 키워드 추출(명사로 다 이어붙인 다음에 키워드 추출은 성능이 안좋아서 폐기)\n",
        "noun_keywords, keywordscore = extract_nouns(keywords)\n",
        "print('noun_keywords:', noun_keywords)\n",
        "print('keywordscore:', keywordscore)"
      ],
      "metadata": {
        "colab": {
          "base_uri": "https://localhost:8080/"
        },
        "id": "W2XgdpHh94Gc",
        "outputId": "6438d934-d238-40c1-d4c9-bf0548e31d5a"
      },
      "execution_count": null,
      "outputs": [
        {
          "output_type": "stream",
          "name": "stdout",
          "text": [
            "noun_keywords: ['가난', '집', '동네', '학년', '때', '불행']\n",
            "keywordscore: [('가난', 0.381), ('집', 0.3747), ('동네', 0.3289), ('학년', 0.3283), ('때', 0.3283), ('불행', 0.3224)]\n"
          ]
        }
      ]
    }
  ]
}
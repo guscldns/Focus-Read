{
  "cells": [
    {
      "cell_type": "markdown",
      "metadata": {
        "colab_type": "text",
        "id": "view-in-github"
      },
      "source": [
        "<a href=\"https://colab.research.google.com/github/guscldns/Focus-Read/blob/main/Dount/json_to_text%2C_image.ipynb\" target=\"_parent\"><img src=\"https://colab.research.google.com/assets/colab-badge.svg\" alt=\"Open In Colab\"/></a>"
      ]
    },
    {
      "cell_type": "markdown",
      "metadata": {
        "id": "RDIPKWVDTSs7"
      },
      "source": [
        "## 데이터 및 라이브러리 import"
      ]
    },
    {
      "cell_type": "code",
      "execution_count": null,
      "metadata": {
        "id": "zNSgmmwVafim"
      },
      "outputs": [],
      "source": [
        "# # 샘플파일\n",
        "# !gdown 1rswWV67Idv8OXI1qQ7o5aSSWvP_uA5MW\n",
        "# 맑음고딕 폰트\n",
        "!gdown 1G4jAcJLy_1PC9YQR36t7jMapj9da4vPd"
      ]
    },
    {
      "cell_type": "code",
      "execution_count": null,
      "metadata": {
        "id": "tXMYLzVPpoIC"
      },
      "outputs": [],
      "source": [
        "# cuda 사용하도록 변경\n",
        "import torch\n",
        "print ( \"CUDA 사용 가능:\" , torch.cuda.is_available())\n",
        "!nvcc --version\n",
        "\n",
        "# 관련 라이브러리, 파일 설치\n",
        "!git clone https://github.com/clovaai/donut.git\n",
        "!cd donut && pip install"
      ]
    },
    {
      "cell_type": "code",
      "execution_count": null,
      "metadata": {
        "id": "K63agfAqTB-S"
      },
      "outputs": [],
      "source": [
        "!pip install gradio\n",
        "!pip install timm==0.4.9\n",
        "!pip install Transformers==4.25.1"
      ]
    },
    {
      "cell_type": "code",
      "execution_count": null,
      "metadata": {
        "id": "oQxQ_E0DauX1"
      },
      "outputs": [],
      "source": [
        "# 라이브러리\n",
        "import zipfile\n",
        "import os\n",
        "import json\n",
        "import torch\n",
        "import argparse\n",
        "import gradio as gr\n",
        "from donut import DonutModel\n",
        "from PIL import Image, ImageDraw, ImageFont\n",
        "torch.cuda.is_available()"
      ]
    },
    {
      "cell_type": "markdown",
      "metadata": {
        "id": "F7Cm3GetPk6S"
      },
      "source": [
        "## 데이터 변환 : synthdog 사용"
      ]
    },
    {
      "cell_type": "code",
      "execution_count": null,
      "metadata": {
        "id": "xG2iB5Bc1NQn"
      },
      "outputs": [],
      "source": [
        "# donut/synthdog 설치용\n",
        "!pip install synthtiger"
      ]
    },
    {
      "cell_type": "code",
      "execution_count": null,
      "metadata": {
        "id": "CIbPuAJV5Az9"
      },
      "outputs": [],
      "source": [
        "import os\n",
        "import json\n",
        "\n",
        "foilderlist = os.listdir('./sample')\n",
        "\n",
        "# 'kowiki.text' 파일 내용 초기화\n",
        "with open(f'./donut/synthdog/resources/corpus/kowiki.txt', \"w\", encoding='utf-8') as fi:\n",
        "    fi.truncate(0)\n",
        "fi.close()\n",
        "\n",
        "for i in foilderlist:\n",
        "    per_path = f'./sample/{i}/20per'\n",
        "    sent_path = f'./sample/{i}/2~3sent'\n",
        "    per_list = os.listdir(per_path)\n",
        "    sent_list = os.listdir(sent_path)\n",
        "\n",
        "    # 원문만 불러오기\n",
        "    for a, j in enumerate(per_list):\n",
        "        with open(f'{per_path}/{j}', 'r', encoding='utf-8') as file:\n",
        "            text = json.load(file)\n",
        "            ground_truth_parse =  f\" {text['Meta(Refine)']['passage']}\"\n",
        "            paasage = ground_truth_parse.replace('\\n', ' ')\n",
        "\n",
        "            # 원문 'kowiki.text' 에 덮어쓰기\n",
        "            with open(f'./donut/synthdog/resources/corpus/kowiki.txt', 'a', encoding='utf-8') as f:\n",
        "                f.write(f'{paasage} \\n')"
      ]
    },
    {
      "cell_type": "code",
      "execution_count": null,
      "metadata": {
        "id": "7HVo-otQPket"
      },
      "outputs": [],
      "source": [
        "%cd ./donut/synthdog\n",
        "# 환경 변수 설정\n",
        "!export OBJC_DISABLE_INITIALIZE_FORK_SAFETY=YES\n",
        "\n",
        "# SynthDoG 실행\n",
        "!synthtiger -o /home/alpaco/final_Project/donut/synthdog/outputs/KoreanData -c 100 -w 8 -v /home/alpaco/final_Project/donut/synthdog/template.py SynthDoG /home/alpaco/final_Project/donut/synthdog/config_ko.yaml"
      ]
    },
    {
      "cell_type": "markdown",
      "metadata": {
        "id": "mD1c0GD_pmMM"
      },
      "source": [
        "## dount"
      ]
    },
    {
      "cell_type": "markdown",
      "metadata": {
        "id": "jAOGei7aynOG"
      },
      "source": [
        "### 훈련"
      ]
    },
    {
      "cell_type": "code",
      "execution_count": null,
      "metadata": {
        "colab": {
          "base_uri": "https://localhost:8080/",
          "height": 194,
          "referenced_widgets": [
            "69777b5aa6ff43c4a30a94ebdf23b6ad",
            "2c07957bef7c4231be6ef67beffc12d8",
            "78eb37cff0da433f98448f2f6e9e03bb",
            "05e4c9e30034484ca0c215747b4915e1",
            "90d9358e83e64eba877372a0fe3525ae",
            "7253ece8a3fa4bada2a9c222bf2d06dc",
            "aafd20936fca424897c0c1eb0044943b",
            "32deeff688b6487a9e749ae283cc2e99",
            "4cd7892d5a91435199734612b6f536c4",
            "2d5668a02a5646cb926522c3d65b8d11",
            "a67d1cd870f44a20a587f548450cf5b4",
            "55b9711af76f4f4e954c5fe2fd95f302",
            "2c79a520391a40b0a70b1449673c4fea",
            "2f8e07741394458a9dfc2fe65683f480",
            "987f33366ed44edd907f8baef218a3b7",
            "3016eb293a8047dbb78c9512651630a6",
            "54d14ecdf4974ae2980a4f2124571ba5",
            "dd35fdbfabc74c4b916a20ab20d3d688",
            "23e959eea5a0456d8f20cf4dec9e7931",
            "ed2274a0218145aaa7d4babe16c69069",
            "ce896ef248944869a6c33cc4792b46a0",
            "db58552a9d6e4ce987fbfafac4c4e6d7"
          ]
        },
        "id": "kze1SqROS90Y",
        "outputId": "581b0ec6-a463-4c52-b075-f2a44e176c33"
      },
      "outputs": [],
      "source": [
        "# model = DonutModel.from_pretrained(\"naver-clova-ix/donut-base-finetuned-cord-v2\")\n",
        "## 모델 학습\n",
        "# 만든 데이터 경로 train_cord.yaml에서 변경\n",
        "# (예시) dataset_name_or_paths: [./donut/synthdog/outputs/KoreanData]\n",
        "# cuda 사용하도록 변경\n",
        "import torch\n",
        "    # --resume_from_checkpoint_path \"/home/alpaco/final_Project/donut/result/train_cord/20230904_113810/\" \\\n",
        "!nvcc --version\n",
        "\n",
        "!CUDA_VISIBLE_DEVICES=1 python /home/alpaco/final_Project/donut/train.py --config /home/alpaco/final_Project/donut/config/train_cord.yaml \\\n",
        "    --pretrained_model_name_or_path \"naver-clova-ix/donut-base-finetuned-cord-v2\" \\\n",
        "    --dataset_name_or_paths '[\"/home/alpaco/final_Project/donut/synthdog/outputs/KoreanData\"]'\\\n",
        "    --resume_from_checkpoint_path \"/home/alpaco/final_Project/donut/result/train_cord/test01/\" \\\n",
        "    --result_path \"/home/alpaco/final_Project/donut/result/\" \\\n",
        "    --exp_version \"test01\""
      ]
    },
    {
      "cell_type": "markdown",
      "metadata": {
        "id": "tVp3R5rjThik"
      },
      "source": [
        "### 테스트 파일로 성능 확인"
      ]
    },
    {
      "cell_type": "code",
      "execution_count": null,
      "metadata": {
        "id": "RQpXuEGYTB_E",
        "outputId": "0f8befca-7535-405a-dce1-109e51ad6167"
      },
      "outputs": [],
      "source": [
        "# test\n",
        "!CUDA_VISIBLE_DEVICES=1 python /home/alpaco/final_Project/donut/test.py --dataset_name_or_path /home/alpaco/final_Project/donut/synthdog/outputs/KoreanData --pretrained_model_name_or_path /home/alpaco/final_Project/donut/result/train_cord/test01 --save_path /home/alpaco/final_Project/donut/result/output.json"
      ]
    },
    {
      "cell_type": "markdown",
      "metadata": {
        "id": "YyBT5oj4TlBT"
      },
      "source": [
        "## 실제 데이터로 테스트"
      ]
    },
    {
      "cell_type": "code",
      "execution_count": null,
      "metadata": {
        "id": "BqVvz7l2TB_F",
        "outputId": "2c3a50ee-e438-4e93-b5bd-7bfb8fb5ffa7"
      },
      "outputs": [],
      "source": [
        "from donut import DonutModel\n",
        "import torch\n",
        "from PIL import Image\n",
        "\n",
        "\n",
        "pretrained_model = DonutModel.from_pretrained(\"/home/alpaco/final_Project/donut/result/train_cord/test01\")\n",
        "if torch.cuda.is_available():\n",
        "    pretrained_model.half()\n",
        "    device = torch.device(\"cuda\")\n",
        "    pretrained_model.to(device)\n",
        "else:\n",
        "    pretrained_model.encoder.to(torch.bfloat16)\n",
        "pretrained_model.eval()\n",
        "\n",
        "task_name = \"synthdog\"\n",
        "task_prompt = f\"<s_{task_name}>\"\n",
        "\n",
        "input_img = Image.open(\"/home/alpaco/final_Project/donut/20230906_110217.jpg\")\n",
        "output = pretrained_model.inference(image=input_img, prompt=task_prompt)[\"predictions\"][0]\n",
        "print(output)"
      ]
    }
  ],
  "metadata": {
    "accelerator": "GPU",
    "colab": {
      "collapsed_sections": [
        "mgtuG9BVp7MT",
        "DZmDVGcfrVu8"
      ],
      "gpuType": "T4",
      "include_colab_link": true,
      "provenance": [],
      "toc_visible": true
    },
    "kernelspec": {
      "display_name": "Python 3",
      "name": "python3"
    },
    "language_info": {
      "codemirror_mode": {
        "name": "ipython",
        "version": 3
      },
      "file_extension": ".py",
      "mimetype": "text/x-python",
      "name": "python",
      "nbconvert_exporter": "python",
      "pygments_lexer": "ipython3",
      "version": "3.11.4"
    },
    "widgets": {
      "application/vnd.jupyter.widget-state+json": {
        "05e4c9e30034484ca0c215747b4915e1": {
          "model_module": "@jupyter-widgets/controls",
          "model_module_version": "1.5.0",
          "model_name": "HTMLModel",
          "state": {
            "_dom_classes": [],
            "_model_module": "@jupyter-widgets/controls",
            "_model_module_version": "1.5.0",
            "_model_name": "HTMLModel",
            "_view_count": null,
            "_view_module": "@jupyter-widgets/controls",
            "_view_module_version": "1.5.0",
            "_view_name": "HTMLView",
            "description": "",
            "description_tooltip": null,
            "layout": "IPY_MODEL_2d5668a02a5646cb926522c3d65b8d11",
            "placeholder": "​",
            "style": "IPY_MODEL_a67d1cd870f44a20a587f548450cf5b4",
            "value": " 404/404 [00:00&lt;00:00, 11.7kB/s]"
          }
        },
        "23e959eea5a0456d8f20cf4dec9e7931": {
          "model_module": "@jupyter-widgets/base",
          "model_module_version": "1.2.0",
          "model_name": "LayoutModel",
          "state": {
            "_model_module": "@jupyter-widgets/base",
            "_model_module_version": "1.2.0",
            "_model_name": "LayoutModel",
            "_view_count": null,
            "_view_module": "@jupyter-widgets/base",
            "_view_module_version": "1.2.0",
            "_view_name": "LayoutView",
            "align_content": null,
            "align_items": null,
            "align_self": null,
            "border": null,
            "bottom": null,
            "display": null,
            "flex": null,
            "flex_flow": null,
            "grid_area": null,
            "grid_auto_columns": null,
            "grid_auto_flow": null,
            "grid_auto_rows": null,
            "grid_column": null,
            "grid_gap": null,
            "grid_row": null,
            "grid_template_areas": null,
            "grid_template_columns": null,
            "grid_template_rows": null,
            "height": null,
            "justify_content": null,
            "justify_items": null,
            "left": null,
            "margin": null,
            "max_height": null,
            "max_width": null,
            "min_height": null,
            "min_width": null,
            "object_fit": null,
            "object_position": null,
            "order": null,
            "overflow": null,
            "overflow_x": null,
            "overflow_y": null,
            "padding": null,
            "right": null,
            "top": null,
            "visibility": null,
            "width": null
          }
        },
        "2c07957bef7c4231be6ef67beffc12d8": {
          "model_module": "@jupyter-widgets/controls",
          "model_module_version": "1.5.0",
          "model_name": "HTMLModel",
          "state": {
            "_dom_classes": [],
            "_model_module": "@jupyter-widgets/controls",
            "_model_module_version": "1.5.0",
            "_model_name": "HTMLModel",
            "_view_count": null,
            "_view_module": "@jupyter-widgets/controls",
            "_view_module_version": "1.5.0",
            "_view_name": "HTMLView",
            "description": "",
            "description_tooltip": null,
            "layout": "IPY_MODEL_7253ece8a3fa4bada2a9c222bf2d06dc",
            "placeholder": "​",
            "style": "IPY_MODEL_aafd20936fca424897c0c1eb0044943b",
            "value": "Downloading (…)official/config.json: 100%"
          }
        },
        "2c79a520391a40b0a70b1449673c4fea": {
          "model_module": "@jupyter-widgets/controls",
          "model_module_version": "1.5.0",
          "model_name": "HTMLModel",
          "state": {
            "_dom_classes": [],
            "_model_module": "@jupyter-widgets/controls",
            "_model_module_version": "1.5.0",
            "_model_name": "HTMLModel",
            "_view_count": null,
            "_view_module": "@jupyter-widgets/controls",
            "_view_module_version": "1.5.0",
            "_view_name": "HTMLView",
            "description": "",
            "description_tooltip": null,
            "layout": "IPY_MODEL_54d14ecdf4974ae2980a4f2124571ba5",
            "placeholder": "​",
            "style": "IPY_MODEL_dd35fdbfabc74c4b916a20ab20d3d688",
            "value": "Downloading pytorch_model.bin: 100%"
          }
        },
        "2d5668a02a5646cb926522c3d65b8d11": {
          "model_module": "@jupyter-widgets/base",
          "model_module_version": "1.2.0",
          "model_name": "LayoutModel",
          "state": {
            "_model_module": "@jupyter-widgets/base",
            "_model_module_version": "1.2.0",
            "_model_name": "LayoutModel",
            "_view_count": null,
            "_view_module": "@jupyter-widgets/base",
            "_view_module_version": "1.2.0",
            "_view_name": "LayoutView",
            "align_content": null,
            "align_items": null,
            "align_self": null,
            "border": null,
            "bottom": null,
            "display": null,
            "flex": null,
            "flex_flow": null,
            "grid_area": null,
            "grid_auto_columns": null,
            "grid_auto_flow": null,
            "grid_auto_rows": null,
            "grid_column": null,
            "grid_gap": null,
            "grid_row": null,
            "grid_template_areas": null,
            "grid_template_columns": null,
            "grid_template_rows": null,
            "height": null,
            "justify_content": null,
            "justify_items": null,
            "left": null,
            "margin": null,
            "max_height": null,
            "max_width": null,
            "min_height": null,
            "min_width": null,
            "object_fit": null,
            "object_position": null,
            "order": null,
            "overflow": null,
            "overflow_x": null,
            "overflow_y": null,
            "padding": null,
            "right": null,
            "top": null,
            "visibility": null,
            "width": null
          }
        },
        "2f8e07741394458a9dfc2fe65683f480": {
          "model_module": "@jupyter-widgets/controls",
          "model_module_version": "1.5.0",
          "model_name": "FloatProgressModel",
          "state": {
            "_dom_classes": [],
            "_model_module": "@jupyter-widgets/controls",
            "_model_module_version": "1.5.0",
            "_model_name": "FloatProgressModel",
            "_view_count": null,
            "_view_module": "@jupyter-widgets/controls",
            "_view_module_version": "1.5.0",
            "_view_name": "ProgressView",
            "bar_style": "success",
            "description": "",
            "description_tooltip": null,
            "layout": "IPY_MODEL_23e959eea5a0456d8f20cf4dec9e7931",
            "max": 858583555,
            "min": 0,
            "orientation": "horizontal",
            "style": "IPY_MODEL_ed2274a0218145aaa7d4babe16c69069",
            "value": 858583555
          }
        },
        "3016eb293a8047dbb78c9512651630a6": {
          "model_module": "@jupyter-widgets/base",
          "model_module_version": "1.2.0",
          "model_name": "LayoutModel",
          "state": {
            "_model_module": "@jupyter-widgets/base",
            "_model_module_version": "1.2.0",
            "_model_name": "LayoutModel",
            "_view_count": null,
            "_view_module": "@jupyter-widgets/base",
            "_view_module_version": "1.2.0",
            "_view_name": "LayoutView",
            "align_content": null,
            "align_items": null,
            "align_self": null,
            "border": null,
            "bottom": null,
            "display": null,
            "flex": null,
            "flex_flow": null,
            "grid_area": null,
            "grid_auto_columns": null,
            "grid_auto_flow": null,
            "grid_auto_rows": null,
            "grid_column": null,
            "grid_gap": null,
            "grid_row": null,
            "grid_template_areas": null,
            "grid_template_columns": null,
            "grid_template_rows": null,
            "height": null,
            "justify_content": null,
            "justify_items": null,
            "left": null,
            "margin": null,
            "max_height": null,
            "max_width": null,
            "min_height": null,
            "min_width": null,
            "object_fit": null,
            "object_position": null,
            "order": null,
            "overflow": null,
            "overflow_x": null,
            "overflow_y": null,
            "padding": null,
            "right": null,
            "top": null,
            "visibility": null,
            "width": null
          }
        },
        "32deeff688b6487a9e749ae283cc2e99": {
          "model_module": "@jupyter-widgets/base",
          "model_module_version": "1.2.0",
          "model_name": "LayoutModel",
          "state": {
            "_model_module": "@jupyter-widgets/base",
            "_model_module_version": "1.2.0",
            "_model_name": "LayoutModel",
            "_view_count": null,
            "_view_module": "@jupyter-widgets/base",
            "_view_module_version": "1.2.0",
            "_view_name": "LayoutView",
            "align_content": null,
            "align_items": null,
            "align_self": null,
            "border": null,
            "bottom": null,
            "display": null,
            "flex": null,
            "flex_flow": null,
            "grid_area": null,
            "grid_auto_columns": null,
            "grid_auto_flow": null,
            "grid_auto_rows": null,
            "grid_column": null,
            "grid_gap": null,
            "grid_row": null,
            "grid_template_areas": null,
            "grid_template_columns": null,
            "grid_template_rows": null,
            "height": null,
            "justify_content": null,
            "justify_items": null,
            "left": null,
            "margin": null,
            "max_height": null,
            "max_width": null,
            "min_height": null,
            "min_width": null,
            "object_fit": null,
            "object_position": null,
            "order": null,
            "overflow": null,
            "overflow_x": null,
            "overflow_y": null,
            "padding": null,
            "right": null,
            "top": null,
            "visibility": null,
            "width": null
          }
        },
        "4cd7892d5a91435199734612b6f536c4": {
          "model_module": "@jupyter-widgets/controls",
          "model_module_version": "1.5.0",
          "model_name": "ProgressStyleModel",
          "state": {
            "_model_module": "@jupyter-widgets/controls",
            "_model_module_version": "1.5.0",
            "_model_name": "ProgressStyleModel",
            "_view_count": null,
            "_view_module": "@jupyter-widgets/base",
            "_view_module_version": "1.2.0",
            "_view_name": "StyleView",
            "bar_color": null,
            "description_width": ""
          }
        },
        "54d14ecdf4974ae2980a4f2124571ba5": {
          "model_module": "@jupyter-widgets/base",
          "model_module_version": "1.2.0",
          "model_name": "LayoutModel",
          "state": {
            "_model_module": "@jupyter-widgets/base",
            "_model_module_version": "1.2.0",
            "_model_name": "LayoutModel",
            "_view_count": null,
            "_view_module": "@jupyter-widgets/base",
            "_view_module_version": "1.2.0",
            "_view_name": "LayoutView",
            "align_content": null,
            "align_items": null,
            "align_self": null,
            "border": null,
            "bottom": null,
            "display": null,
            "flex": null,
            "flex_flow": null,
            "grid_area": null,
            "grid_auto_columns": null,
            "grid_auto_flow": null,
            "grid_auto_rows": null,
            "grid_column": null,
            "grid_gap": null,
            "grid_row": null,
            "grid_template_areas": null,
            "grid_template_columns": null,
            "grid_template_rows": null,
            "height": null,
            "justify_content": null,
            "justify_items": null,
            "left": null,
            "margin": null,
            "max_height": null,
            "max_width": null,
            "min_height": null,
            "min_width": null,
            "object_fit": null,
            "object_position": null,
            "order": null,
            "overflow": null,
            "overflow_x": null,
            "overflow_y": null,
            "padding": null,
            "right": null,
            "top": null,
            "visibility": null,
            "width": null
          }
        },
        "55b9711af76f4f4e954c5fe2fd95f302": {
          "model_module": "@jupyter-widgets/controls",
          "model_module_version": "1.5.0",
          "model_name": "HBoxModel",
          "state": {
            "_dom_classes": [],
            "_model_module": "@jupyter-widgets/controls",
            "_model_module_version": "1.5.0",
            "_model_name": "HBoxModel",
            "_view_count": null,
            "_view_module": "@jupyter-widgets/controls",
            "_view_module_version": "1.5.0",
            "_view_name": "HBoxView",
            "box_style": "",
            "children": [
              "IPY_MODEL_2c79a520391a40b0a70b1449673c4fea",
              "IPY_MODEL_2f8e07741394458a9dfc2fe65683f480",
              "IPY_MODEL_987f33366ed44edd907f8baef218a3b7"
            ],
            "layout": "IPY_MODEL_3016eb293a8047dbb78c9512651630a6"
          }
        },
        "69777b5aa6ff43c4a30a94ebdf23b6ad": {
          "model_module": "@jupyter-widgets/controls",
          "model_module_version": "1.5.0",
          "model_name": "HBoxModel",
          "state": {
            "_dom_classes": [],
            "_model_module": "@jupyter-widgets/controls",
            "_model_module_version": "1.5.0",
            "_model_name": "HBoxModel",
            "_view_count": null,
            "_view_module": "@jupyter-widgets/controls",
            "_view_module_version": "1.5.0",
            "_view_name": "HBoxView",
            "box_style": "",
            "children": [
              "IPY_MODEL_2c07957bef7c4231be6ef67beffc12d8",
              "IPY_MODEL_78eb37cff0da433f98448f2f6e9e03bb",
              "IPY_MODEL_05e4c9e30034484ca0c215747b4915e1"
            ],
            "layout": "IPY_MODEL_90d9358e83e64eba877372a0fe3525ae"
          }
        },
        "7253ece8a3fa4bada2a9c222bf2d06dc": {
          "model_module": "@jupyter-widgets/base",
          "model_module_version": "1.2.0",
          "model_name": "LayoutModel",
          "state": {
            "_model_module": "@jupyter-widgets/base",
            "_model_module_version": "1.2.0",
            "_model_name": "LayoutModel",
            "_view_count": null,
            "_view_module": "@jupyter-widgets/base",
            "_view_module_version": "1.2.0",
            "_view_name": "LayoutView",
            "align_content": null,
            "align_items": null,
            "align_self": null,
            "border": null,
            "bottom": null,
            "display": null,
            "flex": null,
            "flex_flow": null,
            "grid_area": null,
            "grid_auto_columns": null,
            "grid_auto_flow": null,
            "grid_auto_rows": null,
            "grid_column": null,
            "grid_gap": null,
            "grid_row": null,
            "grid_template_areas": null,
            "grid_template_columns": null,
            "grid_template_rows": null,
            "height": null,
            "justify_content": null,
            "justify_items": null,
            "left": null,
            "margin": null,
            "max_height": null,
            "max_width": null,
            "min_height": null,
            "min_width": null,
            "object_fit": null,
            "object_position": null,
            "order": null,
            "overflow": null,
            "overflow_x": null,
            "overflow_y": null,
            "padding": null,
            "right": null,
            "top": null,
            "visibility": null,
            "width": null
          }
        },
        "78eb37cff0da433f98448f2f6e9e03bb": {
          "model_module": "@jupyter-widgets/controls",
          "model_module_version": "1.5.0",
          "model_name": "FloatProgressModel",
          "state": {
            "_dom_classes": [],
            "_model_module": "@jupyter-widgets/controls",
            "_model_module_version": "1.5.0",
            "_model_name": "FloatProgressModel",
            "_view_count": null,
            "_view_module": "@jupyter-widgets/controls",
            "_view_module_version": "1.5.0",
            "_view_name": "ProgressView",
            "bar_style": "success",
            "description": "",
            "description_tooltip": null,
            "layout": "IPY_MODEL_32deeff688b6487a9e749ae283cc2e99",
            "max": 404,
            "min": 0,
            "orientation": "horizontal",
            "style": "IPY_MODEL_4cd7892d5a91435199734612b6f536c4",
            "value": 404
          }
        },
        "90d9358e83e64eba877372a0fe3525ae": {
          "model_module": "@jupyter-widgets/base",
          "model_module_version": "1.2.0",
          "model_name": "LayoutModel",
          "state": {
            "_model_module": "@jupyter-widgets/base",
            "_model_module_version": "1.2.0",
            "_model_name": "LayoutModel",
            "_view_count": null,
            "_view_module": "@jupyter-widgets/base",
            "_view_module_version": "1.2.0",
            "_view_name": "LayoutView",
            "align_content": null,
            "align_items": null,
            "align_self": null,
            "border": null,
            "bottom": null,
            "display": null,
            "flex": null,
            "flex_flow": null,
            "grid_area": null,
            "grid_auto_columns": null,
            "grid_auto_flow": null,
            "grid_auto_rows": null,
            "grid_column": null,
            "grid_gap": null,
            "grid_row": null,
            "grid_template_areas": null,
            "grid_template_columns": null,
            "grid_template_rows": null,
            "height": null,
            "justify_content": null,
            "justify_items": null,
            "left": null,
            "margin": null,
            "max_height": null,
            "max_width": null,
            "min_height": null,
            "min_width": null,
            "object_fit": null,
            "object_position": null,
            "order": null,
            "overflow": null,
            "overflow_x": null,
            "overflow_y": null,
            "padding": null,
            "right": null,
            "top": null,
            "visibility": null,
            "width": null
          }
        },
        "987f33366ed44edd907f8baef218a3b7": {
          "model_module": "@jupyter-widgets/controls",
          "model_module_version": "1.5.0",
          "model_name": "HTMLModel",
          "state": {
            "_dom_classes": [],
            "_model_module": "@jupyter-widgets/controls",
            "_model_module_version": "1.5.0",
            "_model_name": "HTMLModel",
            "_view_count": null,
            "_view_module": "@jupyter-widgets/controls",
            "_view_module_version": "1.5.0",
            "_view_name": "HTMLView",
            "description": "",
            "description_tooltip": null,
            "layout": "IPY_MODEL_ce896ef248944869a6c33cc4792b46a0",
            "placeholder": "​",
            "style": "IPY_MODEL_db58552a9d6e4ce987fbfafac4c4e6d7",
            "value": " 859M/859M [00:05&lt;00:00, 247MB/s]"
          }
        },
        "a67d1cd870f44a20a587f548450cf5b4": {
          "model_module": "@jupyter-widgets/controls",
          "model_module_version": "1.5.0",
          "model_name": "DescriptionStyleModel",
          "state": {
            "_model_module": "@jupyter-widgets/controls",
            "_model_module_version": "1.5.0",
            "_model_name": "DescriptionStyleModel",
            "_view_count": null,
            "_view_module": "@jupyter-widgets/base",
            "_view_module_version": "1.2.0",
            "_view_name": "StyleView",
            "description_width": ""
          }
        },
        "aafd20936fca424897c0c1eb0044943b": {
          "model_module": "@jupyter-widgets/controls",
          "model_module_version": "1.5.0",
          "model_name": "DescriptionStyleModel",
          "state": {
            "_model_module": "@jupyter-widgets/controls",
            "_model_module_version": "1.5.0",
            "_model_name": "DescriptionStyleModel",
            "_view_count": null,
            "_view_module": "@jupyter-widgets/base",
            "_view_module_version": "1.2.0",
            "_view_name": "StyleView",
            "description_width": ""
          }
        },
        "ce896ef248944869a6c33cc4792b46a0": {
          "model_module": "@jupyter-widgets/base",
          "model_module_version": "1.2.0",
          "model_name": "LayoutModel",
          "state": {
            "_model_module": "@jupyter-widgets/base",
            "_model_module_version": "1.2.0",
            "_model_name": "LayoutModel",
            "_view_count": null,
            "_view_module": "@jupyter-widgets/base",
            "_view_module_version": "1.2.0",
            "_view_name": "LayoutView",
            "align_content": null,
            "align_items": null,
            "align_self": null,
            "border": null,
            "bottom": null,
            "display": null,
            "flex": null,
            "flex_flow": null,
            "grid_area": null,
            "grid_auto_columns": null,
            "grid_auto_flow": null,
            "grid_auto_rows": null,
            "grid_column": null,
            "grid_gap": null,
            "grid_row": null,
            "grid_template_areas": null,
            "grid_template_columns": null,
            "grid_template_rows": null,
            "height": null,
            "justify_content": null,
            "justify_items": null,
            "left": null,
            "margin": null,
            "max_height": null,
            "max_width": null,
            "min_height": null,
            "min_width": null,
            "object_fit": null,
            "object_position": null,
            "order": null,
            "overflow": null,
            "overflow_x": null,
            "overflow_y": null,
            "padding": null,
            "right": null,
            "top": null,
            "visibility": null,
            "width": null
          }
        },
        "db58552a9d6e4ce987fbfafac4c4e6d7": {
          "model_module": "@jupyter-widgets/controls",
          "model_module_version": "1.5.0",
          "model_name": "DescriptionStyleModel",
          "state": {
            "_model_module": "@jupyter-widgets/controls",
            "_model_module_version": "1.5.0",
            "_model_name": "DescriptionStyleModel",
            "_view_count": null,
            "_view_module": "@jupyter-widgets/base",
            "_view_module_version": "1.2.0",
            "_view_name": "StyleView",
            "description_width": ""
          }
        },
        "dd35fdbfabc74c4b916a20ab20d3d688": {
          "model_module": "@jupyter-widgets/controls",
          "model_module_version": "1.5.0",
          "model_name": "DescriptionStyleModel",
          "state": {
            "_model_module": "@jupyter-widgets/controls",
            "_model_module_version": "1.5.0",
            "_model_name": "DescriptionStyleModel",
            "_view_count": null,
            "_view_module": "@jupyter-widgets/base",
            "_view_module_version": "1.2.0",
            "_view_name": "StyleView",
            "description_width": ""
          }
        },
        "ed2274a0218145aaa7d4babe16c69069": {
          "model_module": "@jupyter-widgets/controls",
          "model_module_version": "1.5.0",
          "model_name": "ProgressStyleModel",
          "state": {
            "_model_module": "@jupyter-widgets/controls",
            "_model_module_version": "1.5.0",
            "_model_name": "ProgressStyleModel",
            "_view_count": null,
            "_view_module": "@jupyter-widgets/base",
            "_view_module_version": "1.2.0",
            "_view_name": "StyleView",
            "bar_color": null,
            "description_width": ""
          }
        }
      }
    }
  },
  "nbformat": 4,
  "nbformat_minor": 0
}

{
  "nbformat": 4,
  "nbformat_minor": 0,
  "metadata": {
    "colab": {
      "provenance": [],
      "collapsed_sections": [
        "dgSe2KAQeZKV",
        "rf2kNk5Vcxpq",
        "mTqJZt-uc0k9",
        "0THYcA7gc6Sw",
        "mCylDMlNl_dW",
        "SY-VXhqSnfaz",
        "f24Z3BPawMoq",
        "kQGLrPWBjO2-",
        "oqsQ05SLeVKQ",
        "3IpVlxjaVMTH",
        "pRC-TODPVUsB",
        "GsqtRjqz1mSA"
      ],
      "toc_visible": true,
      "mount_file_id": "17hUSu1frtBs5g4C9XDH-5nC00x11TPY9",
      "authorship_tag": "ABX9TyMLMcGRcjsHvwRlkvagy+wD",
      "include_colab_link": true
    },
    "kernelspec": {
      "name": "python3",
      "display_name": "Python 3"
    },
    "language_info": {
      "name": "python"
    },
    "widgets": {
      "application/vnd.jupyter.widget-state+json": {
        "7aff0daf509e49c494f417b5a886e41e": {
          "model_module": "@jupyter-widgets/controls",
          "model_name": "HBoxModel",
          "model_module_version": "1.5.0",
          "state": {
            "_dom_classes": [],
            "_model_module": "@jupyter-widgets/controls",
            "_model_module_version": "1.5.0",
            "_model_name": "HBoxModel",
            "_view_count": null,
            "_view_module": "@jupyter-widgets/controls",
            "_view_module_version": "1.5.0",
            "_view_name": "HBoxView",
            "box_style": "",
            "children": [
              "IPY_MODEL_5bea5a1c797844798dcbf23203a673ac",
              "IPY_MODEL_afb86cfc28224f75a8feb8b32b3e4371",
              "IPY_MODEL_65515b7135b74c6a93f9b7609432da31"
            ],
            "layout": "IPY_MODEL_fc7505745f0746d1aa56624840edfa0f"
          }
        },
        "5bea5a1c797844798dcbf23203a673ac": {
          "model_module": "@jupyter-widgets/controls",
          "model_name": "HTMLModel",
          "model_module_version": "1.5.0",
          "state": {
            "_dom_classes": [],
            "_model_module": "@jupyter-widgets/controls",
            "_model_module_version": "1.5.0",
            "_model_name": "HTMLModel",
            "_view_count": null,
            "_view_module": "@jupyter-widgets/controls",
            "_view_module_version": "1.5.0",
            "_view_name": "HTMLView",
            "description": "",
            "description_tooltip": null,
            "layout": "IPY_MODEL_aa916c809dfc4e118582c35c6ca40fdf",
            "placeholder": "​",
            "style": "IPY_MODEL_9cc9c7f3578641c7921fb330ebb3306b",
            "value": "Downloading (…)/main/tokenizer.json: 100%"
          }
        },
        "afb86cfc28224f75a8feb8b32b3e4371": {
          "model_module": "@jupyter-widgets/controls",
          "model_name": "FloatProgressModel",
          "model_module_version": "1.5.0",
          "state": {
            "_dom_classes": [],
            "_model_module": "@jupyter-widgets/controls",
            "_model_module_version": "1.5.0",
            "_model_name": "FloatProgressModel",
            "_view_count": null,
            "_view_module": "@jupyter-widgets/controls",
            "_view_module_version": "1.5.0",
            "_view_name": "ProgressView",
            "bar_style": "success",
            "description": "",
            "description_tooltip": null,
            "layout": "IPY_MODEL_8bbc5600c66f4f7097c2c7f841de3dab",
            "max": 682152,
            "min": 0,
            "orientation": "horizontal",
            "style": "IPY_MODEL_484a4e234b3146919e44f3467ee96378",
            "value": 682152
          }
        },
        "65515b7135b74c6a93f9b7609432da31": {
          "model_module": "@jupyter-widgets/controls",
          "model_name": "HTMLModel",
          "model_module_version": "1.5.0",
          "state": {
            "_dom_classes": [],
            "_model_module": "@jupyter-widgets/controls",
            "_model_module_version": "1.5.0",
            "_model_name": "HTMLModel",
            "_view_count": null,
            "_view_module": "@jupyter-widgets/controls",
            "_view_module_version": "1.5.0",
            "_view_name": "HTMLView",
            "description": "",
            "description_tooltip": null,
            "layout": "IPY_MODEL_a9a29697e30a4f38966746bfff2c9103",
            "placeholder": "​",
            "style": "IPY_MODEL_550d932ab22c4561b6d16a80a2d6b74e",
            "value": " 682k/682k [00:00&lt;00:00, 6.66MB/s]"
          }
        },
        "fc7505745f0746d1aa56624840edfa0f": {
          "model_module": "@jupyter-widgets/base",
          "model_name": "LayoutModel",
          "model_module_version": "1.2.0",
          "state": {
            "_model_module": "@jupyter-widgets/base",
            "_model_module_version": "1.2.0",
            "_model_name": "LayoutModel",
            "_view_count": null,
            "_view_module": "@jupyter-widgets/base",
            "_view_module_version": "1.2.0",
            "_view_name": "LayoutView",
            "align_content": null,
            "align_items": null,
            "align_self": null,
            "border": null,
            "bottom": null,
            "display": null,
            "flex": null,
            "flex_flow": null,
            "grid_area": null,
            "grid_auto_columns": null,
            "grid_auto_flow": null,
            "grid_auto_rows": null,
            "grid_column": null,
            "grid_gap": null,
            "grid_row": null,
            "grid_template_areas": null,
            "grid_template_columns": null,
            "grid_template_rows": null,
            "height": null,
            "justify_content": null,
            "justify_items": null,
            "left": null,
            "margin": null,
            "max_height": null,
            "max_width": null,
            "min_height": null,
            "min_width": null,
            "object_fit": null,
            "object_position": null,
            "order": null,
            "overflow": null,
            "overflow_x": null,
            "overflow_y": null,
            "padding": null,
            "right": null,
            "top": null,
            "visibility": null,
            "width": null
          }
        },
        "aa916c809dfc4e118582c35c6ca40fdf": {
          "model_module": "@jupyter-widgets/base",
          "model_name": "LayoutModel",
          "model_module_version": "1.2.0",
          "state": {
            "_model_module": "@jupyter-widgets/base",
            "_model_module_version": "1.2.0",
            "_model_name": "LayoutModel",
            "_view_count": null,
            "_view_module": "@jupyter-widgets/base",
            "_view_module_version": "1.2.0",
            "_view_name": "LayoutView",
            "align_content": null,
            "align_items": null,
            "align_self": null,
            "border": null,
            "bottom": null,
            "display": null,
            "flex": null,
            "flex_flow": null,
            "grid_area": null,
            "grid_auto_columns": null,
            "grid_auto_flow": null,
            "grid_auto_rows": null,
            "grid_column": null,
            "grid_gap": null,
            "grid_row": null,
            "grid_template_areas": null,
            "grid_template_columns": null,
            "grid_template_rows": null,
            "height": null,
            "justify_content": null,
            "justify_items": null,
            "left": null,
            "margin": null,
            "max_height": null,
            "max_width": null,
            "min_height": null,
            "min_width": null,
            "object_fit": null,
            "object_position": null,
            "order": null,
            "overflow": null,
            "overflow_x": null,
            "overflow_y": null,
            "padding": null,
            "right": null,
            "top": null,
            "visibility": null,
            "width": null
          }
        },
        "9cc9c7f3578641c7921fb330ebb3306b": {
          "model_module": "@jupyter-widgets/controls",
          "model_name": "DescriptionStyleModel",
          "model_module_version": "1.5.0",
          "state": {
            "_model_module": "@jupyter-widgets/controls",
            "_model_module_version": "1.5.0",
            "_model_name": "DescriptionStyleModel",
            "_view_count": null,
            "_view_module": "@jupyter-widgets/base",
            "_view_module_version": "1.2.0",
            "_view_name": "StyleView",
            "description_width": ""
          }
        },
        "8bbc5600c66f4f7097c2c7f841de3dab": {
          "model_module": "@jupyter-widgets/base",
          "model_name": "LayoutModel",
          "model_module_version": "1.2.0",
          "state": {
            "_model_module": "@jupyter-widgets/base",
            "_model_module_version": "1.2.0",
            "_model_name": "LayoutModel",
            "_view_count": null,
            "_view_module": "@jupyter-widgets/base",
            "_view_module_version": "1.2.0",
            "_view_name": "LayoutView",
            "align_content": null,
            "align_items": null,
            "align_self": null,
            "border": null,
            "bottom": null,
            "display": null,
            "flex": null,
            "flex_flow": null,
            "grid_area": null,
            "grid_auto_columns": null,
            "grid_auto_flow": null,
            "grid_auto_rows": null,
            "grid_column": null,
            "grid_gap": null,
            "grid_row": null,
            "grid_template_areas": null,
            "grid_template_columns": null,
            "grid_template_rows": null,
            "height": null,
            "justify_content": null,
            "justify_items": null,
            "left": null,
            "margin": null,
            "max_height": null,
            "max_width": null,
            "min_height": null,
            "min_width": null,
            "object_fit": null,
            "object_position": null,
            "order": null,
            "overflow": null,
            "overflow_x": null,
            "overflow_y": null,
            "padding": null,
            "right": null,
            "top": null,
            "visibility": null,
            "width": null
          }
        },
        "484a4e234b3146919e44f3467ee96378": {
          "model_module": "@jupyter-widgets/controls",
          "model_name": "ProgressStyleModel",
          "model_module_version": "1.5.0",
          "state": {
            "_model_module": "@jupyter-widgets/controls",
            "_model_module_version": "1.5.0",
            "_model_name": "ProgressStyleModel",
            "_view_count": null,
            "_view_module": "@jupyter-widgets/base",
            "_view_module_version": "1.2.0",
            "_view_name": "StyleView",
            "bar_color": null,
            "description_width": ""
          }
        },
        "a9a29697e30a4f38966746bfff2c9103": {
          "model_module": "@jupyter-widgets/base",
          "model_name": "LayoutModel",
          "model_module_version": "1.2.0",
          "state": {
            "_model_module": "@jupyter-widgets/base",
            "_model_module_version": "1.2.0",
            "_model_name": "LayoutModel",
            "_view_count": null,
            "_view_module": "@jupyter-widgets/base",
            "_view_module_version": "1.2.0",
            "_view_name": "LayoutView",
            "align_content": null,
            "align_items": null,
            "align_self": null,
            "border": null,
            "bottom": null,
            "display": null,
            "flex": null,
            "flex_flow": null,
            "grid_area": null,
            "grid_auto_columns": null,
            "grid_auto_flow": null,
            "grid_auto_rows": null,
            "grid_column": null,
            "grid_gap": null,
            "grid_row": null,
            "grid_template_areas": null,
            "grid_template_columns": null,
            "grid_template_rows": null,
            "height": null,
            "justify_content": null,
            "justify_items": null,
            "left": null,
            "margin": null,
            "max_height": null,
            "max_width": null,
            "min_height": null,
            "min_width": null,
            "object_fit": null,
            "object_position": null,
            "order": null,
            "overflow": null,
            "overflow_x": null,
            "overflow_y": null,
            "padding": null,
            "right": null,
            "top": null,
            "visibility": null,
            "width": null
          }
        },
        "550d932ab22c4561b6d16a80a2d6b74e": {
          "model_module": "@jupyter-widgets/controls",
          "model_name": "DescriptionStyleModel",
          "model_module_version": "1.5.0",
          "state": {
            "_model_module": "@jupyter-widgets/controls",
            "_model_module_version": "1.5.0",
            "_model_name": "DescriptionStyleModel",
            "_view_count": null,
            "_view_module": "@jupyter-widgets/base",
            "_view_module_version": "1.2.0",
            "_view_name": "StyleView",
            "description_width": ""
          }
        },
        "8d2855aad8744aa5ae0c7b6327bb23b0": {
          "model_module": "@jupyter-widgets/controls",
          "model_name": "HBoxModel",
          "model_module_version": "1.5.0",
          "state": {
            "_dom_classes": [],
            "_model_module": "@jupyter-widgets/controls",
            "_model_module_version": "1.5.0",
            "_model_name": "HBoxModel",
            "_view_count": null,
            "_view_module": "@jupyter-widgets/controls",
            "_view_module_version": "1.5.0",
            "_view_name": "HBoxView",
            "box_style": "",
            "children": [
              "IPY_MODEL_cc215bdcf28147399230cba02a746d1c",
              "IPY_MODEL_61fc3dc724c0478eac6daae6d97d783f",
              "IPY_MODEL_6ae43e7eab8e4ba4bd18c012582a25a1"
            ],
            "layout": "IPY_MODEL_5e2425d0f14847658226226d3417c7d8"
          }
        },
        "cc215bdcf28147399230cba02a746d1c": {
          "model_module": "@jupyter-widgets/controls",
          "model_name": "HTMLModel",
          "model_module_version": "1.5.0",
          "state": {
            "_dom_classes": [],
            "_model_module": "@jupyter-widgets/controls",
            "_model_module_version": "1.5.0",
            "_model_name": "HTMLModel",
            "_view_count": null,
            "_view_module": "@jupyter-widgets/controls",
            "_view_module_version": "1.5.0",
            "_view_name": "HTMLView",
            "description": "",
            "description_tooltip": null,
            "layout": "IPY_MODEL_68d13a5490004c1e88c594d1b15e16c3",
            "placeholder": "​",
            "style": "IPY_MODEL_6cbe765330584622934fa6d32385ba30",
            "value": "Downloading (…)in/added_tokens.json: 100%"
          }
        },
        "61fc3dc724c0478eac6daae6d97d783f": {
          "model_module": "@jupyter-widgets/controls",
          "model_name": "FloatProgressModel",
          "model_module_version": "1.5.0",
          "state": {
            "_dom_classes": [],
            "_model_module": "@jupyter-widgets/controls",
            "_model_module_version": "1.5.0",
            "_model_name": "FloatProgressModel",
            "_view_count": null,
            "_view_module": "@jupyter-widgets/controls",
            "_view_module_version": "1.5.0",
            "_view_name": "ProgressView",
            "bar_style": "success",
            "description": "",
            "description_tooltip": null,
            "layout": "IPY_MODEL_cf5d97389e174f7a858aed61f0b3d09c",
            "max": 4,
            "min": 0,
            "orientation": "horizontal",
            "style": "IPY_MODEL_5d31c497b01246f99522f4082897584a",
            "value": 4
          }
        },
        "6ae43e7eab8e4ba4bd18c012582a25a1": {
          "model_module": "@jupyter-widgets/controls",
          "model_name": "HTMLModel",
          "model_module_version": "1.5.0",
          "state": {
            "_dom_classes": [],
            "_model_module": "@jupyter-widgets/controls",
            "_model_module_version": "1.5.0",
            "_model_name": "HTMLModel",
            "_view_count": null,
            "_view_module": "@jupyter-widgets/controls",
            "_view_module_version": "1.5.0",
            "_view_name": "HTMLView",
            "description": "",
            "description_tooltip": null,
            "layout": "IPY_MODEL_d89bcf66e49e457ab0eca707b87fa410",
            "placeholder": "​",
            "style": "IPY_MODEL_c3f1139fb1884068865bad5cc7e627cf",
            "value": " 4.00/4.00 [00:00&lt;00:00, 243B/s]"
          }
        },
        "5e2425d0f14847658226226d3417c7d8": {
          "model_module": "@jupyter-widgets/base",
          "model_name": "LayoutModel",
          "model_module_version": "1.2.0",
          "state": {
            "_model_module": "@jupyter-widgets/base",
            "_model_module_version": "1.2.0",
            "_model_name": "LayoutModel",
            "_view_count": null,
            "_view_module": "@jupyter-widgets/base",
            "_view_module_version": "1.2.0",
            "_view_name": "LayoutView",
            "align_content": null,
            "align_items": null,
            "align_self": null,
            "border": null,
            "bottom": null,
            "display": null,
            "flex": null,
            "flex_flow": null,
            "grid_area": null,
            "grid_auto_columns": null,
            "grid_auto_flow": null,
            "grid_auto_rows": null,
            "grid_column": null,
            "grid_gap": null,
            "grid_row": null,
            "grid_template_areas": null,
            "grid_template_columns": null,
            "grid_template_rows": null,
            "height": null,
            "justify_content": null,
            "justify_items": null,
            "left": null,
            "margin": null,
            "max_height": null,
            "max_width": null,
            "min_height": null,
            "min_width": null,
            "object_fit": null,
            "object_position": null,
            "order": null,
            "overflow": null,
            "overflow_x": null,
            "overflow_y": null,
            "padding": null,
            "right": null,
            "top": null,
            "visibility": null,
            "width": null
          }
        },
        "68d13a5490004c1e88c594d1b15e16c3": {
          "model_module": "@jupyter-widgets/base",
          "model_name": "LayoutModel",
          "model_module_version": "1.2.0",
          "state": {
            "_model_module": "@jupyter-widgets/base",
            "_model_module_version": "1.2.0",
            "_model_name": "LayoutModel",
            "_view_count": null,
            "_view_module": "@jupyter-widgets/base",
            "_view_module_version": "1.2.0",
            "_view_name": "LayoutView",
            "align_content": null,
            "align_items": null,
            "align_self": null,
            "border": null,
            "bottom": null,
            "display": null,
            "flex": null,
            "flex_flow": null,
            "grid_area": null,
            "grid_auto_columns": null,
            "grid_auto_flow": null,
            "grid_auto_rows": null,
            "grid_column": null,
            "grid_gap": null,
            "grid_row": null,
            "grid_template_areas": null,
            "grid_template_columns": null,
            "grid_template_rows": null,
            "height": null,
            "justify_content": null,
            "justify_items": null,
            "left": null,
            "margin": null,
            "max_height": null,
            "max_width": null,
            "min_height": null,
            "min_width": null,
            "object_fit": null,
            "object_position": null,
            "order": null,
            "overflow": null,
            "overflow_x": null,
            "overflow_y": null,
            "padding": null,
            "right": null,
            "top": null,
            "visibility": null,
            "width": null
          }
        },
        "6cbe765330584622934fa6d32385ba30": {
          "model_module": "@jupyter-widgets/controls",
          "model_name": "DescriptionStyleModel",
          "model_module_version": "1.5.0",
          "state": {
            "_model_module": "@jupyter-widgets/controls",
            "_model_module_version": "1.5.0",
            "_model_name": "DescriptionStyleModel",
            "_view_count": null,
            "_view_module": "@jupyter-widgets/base",
            "_view_module_version": "1.2.0",
            "_view_name": "StyleView",
            "description_width": ""
          }
        },
        "cf5d97389e174f7a858aed61f0b3d09c": {
          "model_module": "@jupyter-widgets/base",
          "model_name": "LayoutModel",
          "model_module_version": "1.2.0",
          "state": {
            "_model_module": "@jupyter-widgets/base",
            "_model_module_version": "1.2.0",
            "_model_name": "LayoutModel",
            "_view_count": null,
            "_view_module": "@jupyter-widgets/base",
            "_view_module_version": "1.2.0",
            "_view_name": "LayoutView",
            "align_content": null,
            "align_items": null,
            "align_self": null,
            "border": null,
            "bottom": null,
            "display": null,
            "flex": null,
            "flex_flow": null,
            "grid_area": null,
            "grid_auto_columns": null,
            "grid_auto_flow": null,
            "grid_auto_rows": null,
            "grid_column": null,
            "grid_gap": null,
            "grid_row": null,
            "grid_template_areas": null,
            "grid_template_columns": null,
            "grid_template_rows": null,
            "height": null,
            "justify_content": null,
            "justify_items": null,
            "left": null,
            "margin": null,
            "max_height": null,
            "max_width": null,
            "min_height": null,
            "min_width": null,
            "object_fit": null,
            "object_position": null,
            "order": null,
            "overflow": null,
            "overflow_x": null,
            "overflow_y": null,
            "padding": null,
            "right": null,
            "top": null,
            "visibility": null,
            "width": null
          }
        },
        "5d31c497b01246f99522f4082897584a": {
          "model_module": "@jupyter-widgets/controls",
          "model_name": "ProgressStyleModel",
          "model_module_version": "1.5.0",
          "state": {
            "_model_module": "@jupyter-widgets/controls",
            "_model_module_version": "1.5.0",
            "_model_name": "ProgressStyleModel",
            "_view_count": null,
            "_view_module": "@jupyter-widgets/base",
            "_view_module_version": "1.2.0",
            "_view_name": "StyleView",
            "bar_color": null,
            "description_width": ""
          }
        },
        "d89bcf66e49e457ab0eca707b87fa410": {
          "model_module": "@jupyter-widgets/base",
          "model_name": "LayoutModel",
          "model_module_version": "1.2.0",
          "state": {
            "_model_module": "@jupyter-widgets/base",
            "_model_module_version": "1.2.0",
            "_model_name": "LayoutModel",
            "_view_count": null,
            "_view_module": "@jupyter-widgets/base",
            "_view_module_version": "1.2.0",
            "_view_name": "LayoutView",
            "align_content": null,
            "align_items": null,
            "align_self": null,
            "border": null,
            "bottom": null,
            "display": null,
            "flex": null,
            "flex_flow": null,
            "grid_area": null,
            "grid_auto_columns": null,
            "grid_auto_flow": null,
            "grid_auto_rows": null,
            "grid_column": null,
            "grid_gap": null,
            "grid_row": null,
            "grid_template_areas": null,
            "grid_template_columns": null,
            "grid_template_rows": null,
            "height": null,
            "justify_content": null,
            "justify_items": null,
            "left": null,
            "margin": null,
            "max_height": null,
            "max_width": null,
            "min_height": null,
            "min_width": null,
            "object_fit": null,
            "object_position": null,
            "order": null,
            "overflow": null,
            "overflow_x": null,
            "overflow_y": null,
            "padding": null,
            "right": null,
            "top": null,
            "visibility": null,
            "width": null
          }
        },
        "c3f1139fb1884068865bad5cc7e627cf": {
          "model_module": "@jupyter-widgets/controls",
          "model_name": "DescriptionStyleModel",
          "model_module_version": "1.5.0",
          "state": {
            "_model_module": "@jupyter-widgets/controls",
            "_model_module_version": "1.5.0",
            "_model_name": "DescriptionStyleModel",
            "_view_count": null,
            "_view_module": "@jupyter-widgets/base",
            "_view_module_version": "1.2.0",
            "_view_name": "StyleView",
            "description_width": ""
          }
        },
        "2a2b8e033cbf434db0cf8ae53412f32c": {
          "model_module": "@jupyter-widgets/controls",
          "model_name": "HBoxModel",
          "model_module_version": "1.5.0",
          "state": {
            "_dom_classes": [],
            "_model_module": "@jupyter-widgets/controls",
            "_model_module_version": "1.5.0",
            "_model_name": "HBoxModel",
            "_view_count": null,
            "_view_module": "@jupyter-widgets/controls",
            "_view_module_version": "1.5.0",
            "_view_name": "HBoxView",
            "box_style": "",
            "children": [
              "IPY_MODEL_0b43b90e8f97432d94db62bd3a7bed45",
              "IPY_MODEL_6de9c2c29bda4d038f2f7afb606cc042",
              "IPY_MODEL_2ffe1a777c9944fca4b01f4ede1dac46"
            ],
            "layout": "IPY_MODEL_424fff79ec9346ee9e70e6294ede4495"
          }
        },
        "0b43b90e8f97432d94db62bd3a7bed45": {
          "model_module": "@jupyter-widgets/controls",
          "model_name": "HTMLModel",
          "model_module_version": "1.5.0",
          "state": {
            "_dom_classes": [],
            "_model_module": "@jupyter-widgets/controls",
            "_model_module_version": "1.5.0",
            "_model_name": "HTMLModel",
            "_view_count": null,
            "_view_module": "@jupyter-widgets/controls",
            "_view_module_version": "1.5.0",
            "_view_name": "HTMLView",
            "description": "",
            "description_tooltip": null,
            "layout": "IPY_MODEL_bf1a32c20e1f4ccaba1048163440e21a",
            "placeholder": "​",
            "style": "IPY_MODEL_a18b45b35116431894be8eeeb39294c5",
            "value": "Downloading (…)cial_tokens_map.json: 100%"
          }
        },
        "6de9c2c29bda4d038f2f7afb606cc042": {
          "model_module": "@jupyter-widgets/controls",
          "model_name": "FloatProgressModel",
          "model_module_version": "1.5.0",
          "state": {
            "_dom_classes": [],
            "_model_module": "@jupyter-widgets/controls",
            "_model_module_version": "1.5.0",
            "_model_name": "FloatProgressModel",
            "_view_count": null,
            "_view_module": "@jupyter-widgets/controls",
            "_view_module_version": "1.5.0",
            "_view_name": "ProgressView",
            "bar_style": "success",
            "description": "",
            "description_tooltip": null,
            "layout": "IPY_MODEL_2dd9c19c1ba741b3a6347d62be029879",
            "max": 111,
            "min": 0,
            "orientation": "horizontal",
            "style": "IPY_MODEL_4800f36c35854724ba48ae1325c8e6fc",
            "value": 111
          }
        },
        "2ffe1a777c9944fca4b01f4ede1dac46": {
          "model_module": "@jupyter-widgets/controls",
          "model_name": "HTMLModel",
          "model_module_version": "1.5.0",
          "state": {
            "_dom_classes": [],
            "_model_module": "@jupyter-widgets/controls",
            "_model_module_version": "1.5.0",
            "_model_name": "HTMLModel",
            "_view_count": null,
            "_view_module": "@jupyter-widgets/controls",
            "_view_module_version": "1.5.0",
            "_view_name": "HTMLView",
            "description": "",
            "description_tooltip": null,
            "layout": "IPY_MODEL_7ef2fc71f1264c27af957e99ce7075ba",
            "placeholder": "​",
            "style": "IPY_MODEL_4bd212d5d7254c08accb294327f79b28",
            "value": " 111/111 [00:00&lt;00:00, 6.45kB/s]"
          }
        },
        "424fff79ec9346ee9e70e6294ede4495": {
          "model_module": "@jupyter-widgets/base",
          "model_name": "LayoutModel",
          "model_module_version": "1.2.0",
          "state": {
            "_model_module": "@jupyter-widgets/base",
            "_model_module_version": "1.2.0",
            "_model_name": "LayoutModel",
            "_view_count": null,
            "_view_module": "@jupyter-widgets/base",
            "_view_module_version": "1.2.0",
            "_view_name": "LayoutView",
            "align_content": null,
            "align_items": null,
            "align_self": null,
            "border": null,
            "bottom": null,
            "display": null,
            "flex": null,
            "flex_flow": null,
            "grid_area": null,
            "grid_auto_columns": null,
            "grid_auto_flow": null,
            "grid_auto_rows": null,
            "grid_column": null,
            "grid_gap": null,
            "grid_row": null,
            "grid_template_areas": null,
            "grid_template_columns": null,
            "grid_template_rows": null,
            "height": null,
            "justify_content": null,
            "justify_items": null,
            "left": null,
            "margin": null,
            "max_height": null,
            "max_width": null,
            "min_height": null,
            "min_width": null,
            "object_fit": null,
            "object_position": null,
            "order": null,
            "overflow": null,
            "overflow_x": null,
            "overflow_y": null,
            "padding": null,
            "right": null,
            "top": null,
            "visibility": null,
            "width": null
          }
        },
        "bf1a32c20e1f4ccaba1048163440e21a": {
          "model_module": "@jupyter-widgets/base",
          "model_name": "LayoutModel",
          "model_module_version": "1.2.0",
          "state": {
            "_model_module": "@jupyter-widgets/base",
            "_model_module_version": "1.2.0",
            "_model_name": "LayoutModel",
            "_view_count": null,
            "_view_module": "@jupyter-widgets/base",
            "_view_module_version": "1.2.0",
            "_view_name": "LayoutView",
            "align_content": null,
            "align_items": null,
            "align_self": null,
            "border": null,
            "bottom": null,
            "display": null,
            "flex": null,
            "flex_flow": null,
            "grid_area": null,
            "grid_auto_columns": null,
            "grid_auto_flow": null,
            "grid_auto_rows": null,
            "grid_column": null,
            "grid_gap": null,
            "grid_row": null,
            "grid_template_areas": null,
            "grid_template_columns": null,
            "grid_template_rows": null,
            "height": null,
            "justify_content": null,
            "justify_items": null,
            "left": null,
            "margin": null,
            "max_height": null,
            "max_width": null,
            "min_height": null,
            "min_width": null,
            "object_fit": null,
            "object_position": null,
            "order": null,
            "overflow": null,
            "overflow_x": null,
            "overflow_y": null,
            "padding": null,
            "right": null,
            "top": null,
            "visibility": null,
            "width": null
          }
        },
        "a18b45b35116431894be8eeeb39294c5": {
          "model_module": "@jupyter-widgets/controls",
          "model_name": "DescriptionStyleModel",
          "model_module_version": "1.5.0",
          "state": {
            "_model_module": "@jupyter-widgets/controls",
            "_model_module_version": "1.5.0",
            "_model_name": "DescriptionStyleModel",
            "_view_count": null,
            "_view_module": "@jupyter-widgets/base",
            "_view_module_version": "1.2.0",
            "_view_name": "StyleView",
            "description_width": ""
          }
        },
        "2dd9c19c1ba741b3a6347d62be029879": {
          "model_module": "@jupyter-widgets/base",
          "model_name": "LayoutModel",
          "model_module_version": "1.2.0",
          "state": {
            "_model_module": "@jupyter-widgets/base",
            "_model_module_version": "1.2.0",
            "_model_name": "LayoutModel",
            "_view_count": null,
            "_view_module": "@jupyter-widgets/base",
            "_view_module_version": "1.2.0",
            "_view_name": "LayoutView",
            "align_content": null,
            "align_items": null,
            "align_self": null,
            "border": null,
            "bottom": null,
            "display": null,
            "flex": null,
            "flex_flow": null,
            "grid_area": null,
            "grid_auto_columns": null,
            "grid_auto_flow": null,
            "grid_auto_rows": null,
            "grid_column": null,
            "grid_gap": null,
            "grid_row": null,
            "grid_template_areas": null,
            "grid_template_columns": null,
            "grid_template_rows": null,
            "height": null,
            "justify_content": null,
            "justify_items": null,
            "left": null,
            "margin": null,
            "max_height": null,
            "max_width": null,
            "min_height": null,
            "min_width": null,
            "object_fit": null,
            "object_position": null,
            "order": null,
            "overflow": null,
            "overflow_x": null,
            "overflow_y": null,
            "padding": null,
            "right": null,
            "top": null,
            "visibility": null,
            "width": null
          }
        },
        "4800f36c35854724ba48ae1325c8e6fc": {
          "model_module": "@jupyter-widgets/controls",
          "model_name": "ProgressStyleModel",
          "model_module_version": "1.5.0",
          "state": {
            "_model_module": "@jupyter-widgets/controls",
            "_model_module_version": "1.5.0",
            "_model_name": "ProgressStyleModel",
            "_view_count": null,
            "_view_module": "@jupyter-widgets/base",
            "_view_module_version": "1.2.0",
            "_view_name": "StyleView",
            "bar_color": null,
            "description_width": ""
          }
        },
        "7ef2fc71f1264c27af957e99ce7075ba": {
          "model_module": "@jupyter-widgets/base",
          "model_name": "LayoutModel",
          "model_module_version": "1.2.0",
          "state": {
            "_model_module": "@jupyter-widgets/base",
            "_model_module_version": "1.2.0",
            "_model_name": "LayoutModel",
            "_view_count": null,
            "_view_module": "@jupyter-widgets/base",
            "_view_module_version": "1.2.0",
            "_view_name": "LayoutView",
            "align_content": null,
            "align_items": null,
            "align_self": null,
            "border": null,
            "bottom": null,
            "display": null,
            "flex": null,
            "flex_flow": null,
            "grid_area": null,
            "grid_auto_columns": null,
            "grid_auto_flow": null,
            "grid_auto_rows": null,
            "grid_column": null,
            "grid_gap": null,
            "grid_row": null,
            "grid_template_areas": null,
            "grid_template_columns": null,
            "grid_template_rows": null,
            "height": null,
            "justify_content": null,
            "justify_items": null,
            "left": null,
            "margin": null,
            "max_height": null,
            "max_width": null,
            "min_height": null,
            "min_width": null,
            "object_fit": null,
            "object_position": null,
            "order": null,
            "overflow": null,
            "overflow_x": null,
            "overflow_y": null,
            "padding": null,
            "right": null,
            "top": null,
            "visibility": null,
            "width": null
          }
        },
        "4bd212d5d7254c08accb294327f79b28": {
          "model_module": "@jupyter-widgets/controls",
          "model_name": "DescriptionStyleModel",
          "model_module_version": "1.5.0",
          "state": {
            "_model_module": "@jupyter-widgets/controls",
            "_model_module_version": "1.5.0",
            "_model_name": "DescriptionStyleModel",
            "_view_count": null,
            "_view_module": "@jupyter-widgets/base",
            "_view_module_version": "1.2.0",
            "_view_name": "StyleView",
            "description_width": ""
          }
        },
        "b90d619bf7524f7b990a93eded342a83": {
          "model_module": "@jupyter-widgets/controls",
          "model_name": "HBoxModel",
          "model_module_version": "1.5.0",
          "state": {
            "_dom_classes": [],
            "_model_module": "@jupyter-widgets/controls",
            "_model_module_version": "1.5.0",
            "_model_name": "HBoxModel",
            "_view_count": null,
            "_view_module": "@jupyter-widgets/controls",
            "_view_module_version": "1.5.0",
            "_view_name": "HBoxView",
            "box_style": "",
            "children": [
              "IPY_MODEL_5c94558ade914e6698544436fbcc6785",
              "IPY_MODEL_1ec967577be149398c9d86d877c21b2f",
              "IPY_MODEL_d1f80637f51a4ba89d7cae37d1d3983c"
            ],
            "layout": "IPY_MODEL_95b51485db794a86872342cd64b0cc9f"
          }
        },
        "5c94558ade914e6698544436fbcc6785": {
          "model_module": "@jupyter-widgets/controls",
          "model_name": "HTMLModel",
          "model_module_version": "1.5.0",
          "state": {
            "_dom_classes": [],
            "_model_module": "@jupyter-widgets/controls",
            "_model_module_version": "1.5.0",
            "_model_name": "HTMLModel",
            "_view_count": null,
            "_view_module": "@jupyter-widgets/controls",
            "_view_module_version": "1.5.0",
            "_view_name": "HTMLView",
            "description": "",
            "description_tooltip": null,
            "layout": "IPY_MODEL_6f6b0877342043d2b28c1f4a91e5ad85",
            "placeholder": "​",
            "style": "IPY_MODEL_9c97a756b2084c7d977d2aa57b90445e",
            "value": "Downloading (…)lve/main/config.json: 100%"
          }
        },
        "1ec967577be149398c9d86d877c21b2f": {
          "model_module": "@jupyter-widgets/controls",
          "model_name": "FloatProgressModel",
          "model_module_version": "1.5.0",
          "state": {
            "_dom_classes": [],
            "_model_module": "@jupyter-widgets/controls",
            "_model_module_version": "1.5.0",
            "_model_name": "FloatProgressModel",
            "_view_count": null,
            "_view_module": "@jupyter-widgets/controls",
            "_view_module_version": "1.5.0",
            "_view_name": "ProgressView",
            "bar_style": "success",
            "description": "",
            "description_tooltip": null,
            "layout": "IPY_MODEL_40f4f8ffdd4d4b899e4c25f5632c9e3e",
            "max": 1361,
            "min": 0,
            "orientation": "horizontal",
            "style": "IPY_MODEL_fe66455dfbfa40f58e4d4746f405f576",
            "value": 1361
          }
        },
        "d1f80637f51a4ba89d7cae37d1d3983c": {
          "model_module": "@jupyter-widgets/controls",
          "model_name": "HTMLModel",
          "model_module_version": "1.5.0",
          "state": {
            "_dom_classes": [],
            "_model_module": "@jupyter-widgets/controls",
            "_model_module_version": "1.5.0",
            "_model_name": "HTMLModel",
            "_view_count": null,
            "_view_module": "@jupyter-widgets/controls",
            "_view_module_version": "1.5.0",
            "_view_name": "HTMLView",
            "description": "",
            "description_tooltip": null,
            "layout": "IPY_MODEL_fea4b5b9f59c4aa0ae80a8386c80016b",
            "placeholder": "​",
            "style": "IPY_MODEL_d9530f46b3704c0abe45f9adee7be27d",
            "value": " 1.36k/1.36k [00:00&lt;00:00, 94.0kB/s]"
          }
        },
        "95b51485db794a86872342cd64b0cc9f": {
          "model_module": "@jupyter-widgets/base",
          "model_name": "LayoutModel",
          "model_module_version": "1.2.0",
          "state": {
            "_model_module": "@jupyter-widgets/base",
            "_model_module_version": "1.2.0",
            "_model_name": "LayoutModel",
            "_view_count": null,
            "_view_module": "@jupyter-widgets/base",
            "_view_module_version": "1.2.0",
            "_view_name": "LayoutView",
            "align_content": null,
            "align_items": null,
            "align_self": null,
            "border": null,
            "bottom": null,
            "display": null,
            "flex": null,
            "flex_flow": null,
            "grid_area": null,
            "grid_auto_columns": null,
            "grid_auto_flow": null,
            "grid_auto_rows": null,
            "grid_column": null,
            "grid_gap": null,
            "grid_row": null,
            "grid_template_areas": null,
            "grid_template_columns": null,
            "grid_template_rows": null,
            "height": null,
            "justify_content": null,
            "justify_items": null,
            "left": null,
            "margin": null,
            "max_height": null,
            "max_width": null,
            "min_height": null,
            "min_width": null,
            "object_fit": null,
            "object_position": null,
            "order": null,
            "overflow": null,
            "overflow_x": null,
            "overflow_y": null,
            "padding": null,
            "right": null,
            "top": null,
            "visibility": null,
            "width": null
          }
        },
        "6f6b0877342043d2b28c1f4a91e5ad85": {
          "model_module": "@jupyter-widgets/base",
          "model_name": "LayoutModel",
          "model_module_version": "1.2.0",
          "state": {
            "_model_module": "@jupyter-widgets/base",
            "_model_module_version": "1.2.0",
            "_model_name": "LayoutModel",
            "_view_count": null,
            "_view_module": "@jupyter-widgets/base",
            "_view_module_version": "1.2.0",
            "_view_name": "LayoutView",
            "align_content": null,
            "align_items": null,
            "align_self": null,
            "border": null,
            "bottom": null,
            "display": null,
            "flex": null,
            "flex_flow": null,
            "grid_area": null,
            "grid_auto_columns": null,
            "grid_auto_flow": null,
            "grid_auto_rows": null,
            "grid_column": null,
            "grid_gap": null,
            "grid_row": null,
            "grid_template_areas": null,
            "grid_template_columns": null,
            "grid_template_rows": null,
            "height": null,
            "justify_content": null,
            "justify_items": null,
            "left": null,
            "margin": null,
            "max_height": null,
            "max_width": null,
            "min_height": null,
            "min_width": null,
            "object_fit": null,
            "object_position": null,
            "order": null,
            "overflow": null,
            "overflow_x": null,
            "overflow_y": null,
            "padding": null,
            "right": null,
            "top": null,
            "visibility": null,
            "width": null
          }
        },
        "9c97a756b2084c7d977d2aa57b90445e": {
          "model_module": "@jupyter-widgets/controls",
          "model_name": "DescriptionStyleModel",
          "model_module_version": "1.5.0",
          "state": {
            "_model_module": "@jupyter-widgets/controls",
            "_model_module_version": "1.5.0",
            "_model_name": "DescriptionStyleModel",
            "_view_count": null,
            "_view_module": "@jupyter-widgets/base",
            "_view_module_version": "1.2.0",
            "_view_name": "StyleView",
            "description_width": ""
          }
        },
        "40f4f8ffdd4d4b899e4c25f5632c9e3e": {
          "model_module": "@jupyter-widgets/base",
          "model_name": "LayoutModel",
          "model_module_version": "1.2.0",
          "state": {
            "_model_module": "@jupyter-widgets/base",
            "_model_module_version": "1.2.0",
            "_model_name": "LayoutModel",
            "_view_count": null,
            "_view_module": "@jupyter-widgets/base",
            "_view_module_version": "1.2.0",
            "_view_name": "LayoutView",
            "align_content": null,
            "align_items": null,
            "align_self": null,
            "border": null,
            "bottom": null,
            "display": null,
            "flex": null,
            "flex_flow": null,
            "grid_area": null,
            "grid_auto_columns": null,
            "grid_auto_flow": null,
            "grid_auto_rows": null,
            "grid_column": null,
            "grid_gap": null,
            "grid_row": null,
            "grid_template_areas": null,
            "grid_template_columns": null,
            "grid_template_rows": null,
            "height": null,
            "justify_content": null,
            "justify_items": null,
            "left": null,
            "margin": null,
            "max_height": null,
            "max_width": null,
            "min_height": null,
            "min_width": null,
            "object_fit": null,
            "object_position": null,
            "order": null,
            "overflow": null,
            "overflow_x": null,
            "overflow_y": null,
            "padding": null,
            "right": null,
            "top": null,
            "visibility": null,
            "width": null
          }
        },
        "fe66455dfbfa40f58e4d4746f405f576": {
          "model_module": "@jupyter-widgets/controls",
          "model_name": "ProgressStyleModel",
          "model_module_version": "1.5.0",
          "state": {
            "_model_module": "@jupyter-widgets/controls",
            "_model_module_version": "1.5.0",
            "_model_name": "ProgressStyleModel",
            "_view_count": null,
            "_view_module": "@jupyter-widgets/base",
            "_view_module_version": "1.2.0",
            "_view_name": "StyleView",
            "bar_color": null,
            "description_width": ""
          }
        },
        "fea4b5b9f59c4aa0ae80a8386c80016b": {
          "model_module": "@jupyter-widgets/base",
          "model_name": "LayoutModel",
          "model_module_version": "1.2.0",
          "state": {
            "_model_module": "@jupyter-widgets/base",
            "_model_module_version": "1.2.0",
            "_model_name": "LayoutModel",
            "_view_count": null,
            "_view_module": "@jupyter-widgets/base",
            "_view_module_version": "1.2.0",
            "_view_name": "LayoutView",
            "align_content": null,
            "align_items": null,
            "align_self": null,
            "border": null,
            "bottom": null,
            "display": null,
            "flex": null,
            "flex_flow": null,
            "grid_area": null,
            "grid_auto_columns": null,
            "grid_auto_flow": null,
            "grid_auto_rows": null,
            "grid_column": null,
            "grid_gap": null,
            "grid_row": null,
            "grid_template_areas": null,
            "grid_template_columns": null,
            "grid_template_rows": null,
            "height": null,
            "justify_content": null,
            "justify_items": null,
            "left": null,
            "margin": null,
            "max_height": null,
            "max_width": null,
            "min_height": null,
            "min_width": null,
            "object_fit": null,
            "object_position": null,
            "order": null,
            "overflow": null,
            "overflow_x": null,
            "overflow_y": null,
            "padding": null,
            "right": null,
            "top": null,
            "visibility": null,
            "width": null
          }
        },
        "d9530f46b3704c0abe45f9adee7be27d": {
          "model_module": "@jupyter-widgets/controls",
          "model_name": "DescriptionStyleModel",
          "model_module_version": "1.5.0",
          "state": {
            "_model_module": "@jupyter-widgets/controls",
            "_model_module_version": "1.5.0",
            "_model_name": "DescriptionStyleModel",
            "_view_count": null,
            "_view_module": "@jupyter-widgets/base",
            "_view_module_version": "1.2.0",
            "_view_name": "StyleView",
            "description_width": ""
          }
        }
      }
    }
  },
  "cells": [
    {
      "cell_type": "markdown",
      "metadata": {
        "id": "view-in-github",
        "colab_type": "text"
      },
      "source": [
        "<a href=\"https://colab.research.google.com/github/guscldns/Focus-Read/blob/main/%ED%8C%8C%EC%9D%B4%ED%94%84%EB%9D%BC%EC%9D%B8.ipynb\" target=\"_parent\"><img src=\"https://colab.research.google.com/assets/colab-badge.svg\" alt=\"Open In Colab\"/></a>"
      ]
    },
    {
      "cell_type": "markdown",
      "source": [
        "## 라이브러리 설치 및 불러오기"
      ],
      "metadata": {
        "id": "dgSe2KAQeZKV"
      }
    },
    {
      "cell_type": "code",
      "source": [
        "!pip install google-cloud-vision\n",
        "!pip install PyMuPDF\n",
        "!pip install transformers"
      ],
      "metadata": {
        "id": "tUBkcRzeNXCM"
      },
      "execution_count": null,
      "outputs": []
    },
    {
      "cell_type": "code",
      "source": [
        "from PIL import Image\n",
        "from google.cloud import vision\n",
        "import numpy as np\n",
        "import fitz\n",
        "import zipfile\n",
        "import cv2\n",
        "import io\n",
        "import os\n",
        "import torch\n",
        "from transformers import PreTrainedTokenizerFast\n",
        "from transformers.models.bart import BartForConditionalGeneration"
      ],
      "metadata": {
        "id": "cpzT5MIaIZYN"
      },
      "execution_count": null,
      "outputs": []
    },
    {
      "cell_type": "markdown",
      "source": [
        "#### 파일 저장할 폴더 생성"
      ],
      "metadata": {
        "id": "rf2kNk5Vcxpq"
      }
    },
    {
      "cell_type": "code",
      "source": [
        "# 파일 저장할 폴더 생성\n",
        "os.mkdir(\"/content/upload_file\")\n",
        "os.mkdir(\"/content/image_file\")"
      ],
      "metadata": {
        "id": "TG5WCXYBceQS"
      },
      "execution_count": null,
      "outputs": []
    },
    {
      "cell_type": "markdown",
      "source": [
        "#### 파일 업로드"
      ],
      "metadata": {
        "id": "mTqJZt-uc0k9"
      }
    },
    {
      "cell_type": "code",
      "source": [
        "# 코렙이라서 사용, flask에서는 다른 방법 필요\n",
        "%cd /content/upload_file\n",
        "from google.colab import files\n",
        "uploaded = files.upload()"
      ],
      "metadata": {
        "colab": {
          "base_uri": "https://localhost:8080/",
          "height": 93
        },
        "id": "GrxXVoaZWOx2",
        "outputId": "734417e5-55ea-4d94-ed3a-8a35c52d2dcb"
      },
      "execution_count": null,
      "outputs": [
        {
          "output_type": "stream",
          "name": "stdout",
          "text": [
            "/content/upload_file\n"
          ]
        },
        {
          "output_type": "display_data",
          "data": {
            "text/plain": [
              "<IPython.core.display.HTML object>"
            ],
            "text/html": [
              "\n",
              "     <input type=\"file\" id=\"files-d96cbe54-1ab8-4021-94e4-81753b18dced\" name=\"files[]\" multiple disabled\n",
              "        style=\"border:none\" />\n",
              "     <output id=\"result-d96cbe54-1ab8-4021-94e4-81753b18dced\">\n",
              "      Upload widget is only available when the cell has been executed in the\n",
              "      current browser session. Please rerun this cell to enable.\n",
              "      </output>\n",
              "      <script>// Copyright 2017 Google LLC\n",
              "//\n",
              "// Licensed under the Apache License, Version 2.0 (the \"License\");\n",
              "// you may not use this file except in compliance with the License.\n",
              "// You may obtain a copy of the License at\n",
              "//\n",
              "//      http://www.apache.org/licenses/LICENSE-2.0\n",
              "//\n",
              "// Unless required by applicable law or agreed to in writing, software\n",
              "// distributed under the License is distributed on an \"AS IS\" BASIS,\n",
              "// WITHOUT WARRANTIES OR CONDITIONS OF ANY KIND, either express or implied.\n",
              "// See the License for the specific language governing permissions and\n",
              "// limitations under the License.\n",
              "\n",
              "/**\n",
              " * @fileoverview Helpers for google.colab Python module.\n",
              " */\n",
              "(function(scope) {\n",
              "function span(text, styleAttributes = {}) {\n",
              "  const element = document.createElement('span');\n",
              "  element.textContent = text;\n",
              "  for (const key of Object.keys(styleAttributes)) {\n",
              "    element.style[key] = styleAttributes[key];\n",
              "  }\n",
              "  return element;\n",
              "}\n",
              "\n",
              "// Max number of bytes which will be uploaded at a time.\n",
              "const MAX_PAYLOAD_SIZE = 100 * 1024;\n",
              "\n",
              "function _uploadFiles(inputId, outputId) {\n",
              "  const steps = uploadFilesStep(inputId, outputId);\n",
              "  const outputElement = document.getElementById(outputId);\n",
              "  // Cache steps on the outputElement to make it available for the next call\n",
              "  // to uploadFilesContinue from Python.\n",
              "  outputElement.steps = steps;\n",
              "\n",
              "  return _uploadFilesContinue(outputId);\n",
              "}\n",
              "\n",
              "// This is roughly an async generator (not supported in the browser yet),\n",
              "// where there are multiple asynchronous steps and the Python side is going\n",
              "// to poll for completion of each step.\n",
              "// This uses a Promise to block the python side on completion of each step,\n",
              "// then passes the result of the previous step as the input to the next step.\n",
              "function _uploadFilesContinue(outputId) {\n",
              "  const outputElement = document.getElementById(outputId);\n",
              "  const steps = outputElement.steps;\n",
              "\n",
              "  const next = steps.next(outputElement.lastPromiseValue);\n",
              "  return Promise.resolve(next.value.promise).then((value) => {\n",
              "    // Cache the last promise value to make it available to the next\n",
              "    // step of the generator.\n",
              "    outputElement.lastPromiseValue = value;\n",
              "    return next.value.response;\n",
              "  });\n",
              "}\n",
              "\n",
              "/**\n",
              " * Generator function which is called between each async step of the upload\n",
              " * process.\n",
              " * @param {string} inputId Element ID of the input file picker element.\n",
              " * @param {string} outputId Element ID of the output display.\n",
              " * @return {!Iterable<!Object>} Iterable of next steps.\n",
              " */\n",
              "function* uploadFilesStep(inputId, outputId) {\n",
              "  const inputElement = document.getElementById(inputId);\n",
              "  inputElement.disabled = false;\n",
              "\n",
              "  const outputElement = document.getElementById(outputId);\n",
              "  outputElement.innerHTML = '';\n",
              "\n",
              "  const pickedPromise = new Promise((resolve) => {\n",
              "    inputElement.addEventListener('change', (e) => {\n",
              "      resolve(e.target.files);\n",
              "    });\n",
              "  });\n",
              "\n",
              "  const cancel = document.createElement('button');\n",
              "  inputElement.parentElement.appendChild(cancel);\n",
              "  cancel.textContent = 'Cancel upload';\n",
              "  const cancelPromise = new Promise((resolve) => {\n",
              "    cancel.onclick = () => {\n",
              "      resolve(null);\n",
              "    };\n",
              "  });\n",
              "\n",
              "  // Wait for the user to pick the files.\n",
              "  const files = yield {\n",
              "    promise: Promise.race([pickedPromise, cancelPromise]),\n",
              "    response: {\n",
              "      action: 'starting',\n",
              "    }\n",
              "  };\n",
              "\n",
              "  cancel.remove();\n",
              "\n",
              "  // Disable the input element since further picks are not allowed.\n",
              "  inputElement.disabled = true;\n",
              "\n",
              "  if (!files) {\n",
              "    return {\n",
              "      response: {\n",
              "        action: 'complete',\n",
              "      }\n",
              "    };\n",
              "  }\n",
              "\n",
              "  for (const file of files) {\n",
              "    const li = document.createElement('li');\n",
              "    li.append(span(file.name, {fontWeight: 'bold'}));\n",
              "    li.append(span(\n",
              "        `(${file.type || 'n/a'}) - ${file.size} bytes, ` +\n",
              "        `last modified: ${\n",
              "            file.lastModifiedDate ? file.lastModifiedDate.toLocaleDateString() :\n",
              "                                    'n/a'} - `));\n",
              "    const percent = span('0% done');\n",
              "    li.appendChild(percent);\n",
              "\n",
              "    outputElement.appendChild(li);\n",
              "\n",
              "    const fileDataPromise = new Promise((resolve) => {\n",
              "      const reader = new FileReader();\n",
              "      reader.onload = (e) => {\n",
              "        resolve(e.target.result);\n",
              "      };\n",
              "      reader.readAsArrayBuffer(file);\n",
              "    });\n",
              "    // Wait for the data to be ready.\n",
              "    let fileData = yield {\n",
              "      promise: fileDataPromise,\n",
              "      response: {\n",
              "        action: 'continue',\n",
              "      }\n",
              "    };\n",
              "\n",
              "    // Use a chunked sending to avoid message size limits. See b/62115660.\n",
              "    let position = 0;\n",
              "    do {\n",
              "      const length = Math.min(fileData.byteLength - position, MAX_PAYLOAD_SIZE);\n",
              "      const chunk = new Uint8Array(fileData, position, length);\n",
              "      position += length;\n",
              "\n",
              "      const base64 = btoa(String.fromCharCode.apply(null, chunk));\n",
              "      yield {\n",
              "        response: {\n",
              "          action: 'append',\n",
              "          file: file.name,\n",
              "          data: base64,\n",
              "        },\n",
              "      };\n",
              "\n",
              "      let percentDone = fileData.byteLength === 0 ?\n",
              "          100 :\n",
              "          Math.round((position / fileData.byteLength) * 100);\n",
              "      percent.textContent = `${percentDone}% done`;\n",
              "\n",
              "    } while (position < fileData.byteLength);\n",
              "  }\n",
              "\n",
              "  // All done.\n",
              "  yield {\n",
              "    response: {\n",
              "      action: 'complete',\n",
              "    }\n",
              "  };\n",
              "}\n",
              "\n",
              "scope.google = scope.google || {};\n",
              "scope.google.colab = scope.google.colab || {};\n",
              "scope.google.colab._files = {\n",
              "  _uploadFiles,\n",
              "  _uploadFilesContinue,\n",
              "};\n",
              "})(self);\n",
              "</script> "
            ]
          },
          "metadata": {}
        },
        {
          "output_type": "stream",
          "name": "stdout",
          "text": [
            "Saving 현진건-운수좋은날+B3356-개벽.pdf to 현진건-운수좋은날+B3356-개벽 (1).pdf\n"
          ]
        }
      ]
    },
    {
      "cell_type": "code",
      "source": [
        "file_names = os.listdir('/content/upload_file')\n",
        "if '.ipynb_checkpoints' in file_names:\n",
        "    file_names.remove('.ipynb_checkpoints')\n",
        "file_names"
      ],
      "metadata": {
        "colab": {
          "base_uri": "https://localhost:8080/"
        },
        "id": "xiu-KwXkWdLb",
        "outputId": "3adee9f6-9a98-4cef-fe26-0b6a4cc37c6c"
      },
      "execution_count": null,
      "outputs": [
        {
          "output_type": "execute_result",
          "data": {
            "text/plain": [
              "['현진건-운수좋은날+B3356-개벽 (1).pdf']"
            ]
          },
          "metadata": {},
          "execution_count": 22
        }
      ]
    },
    {
      "cell_type": "markdown",
      "source": [
        "## PDF 혹은 image 파일 ocr"
      ],
      "metadata": {
        "id": "0THYcA7gc6Sw"
      }
    },
    {
      "cell_type": "markdown",
      "source": [
        "##### PDF to IMG"
      ],
      "metadata": {
        "id": "CqpSrstHmfZd"
      }
    },
    {
      "cell_type": "code",
      "source": [
        "def pdf_to_png(files):\n",
        "    path = f\"/content/upload_file/{files}\"\n",
        "    doc = fitz.open(path)\n",
        "    for i, page in enumerate(doc):\n",
        "        img = page.get_pixmap()\n",
        "        img.save(f\"/content/image_file/{i}.png\")"
      ],
      "metadata": {
        "id": "nKmieCgQmek8"
      },
      "execution_count": null,
      "outputs": []
    },
    {
      "cell_type": "code",
      "source": [
        "file_paths = file_names[0]\n",
        "print(file_paths)\n",
        "pdf_to_png(file_paths)"
      ],
      "metadata": {
        "colab": {
          "base_uri": "https://localhost:8080/"
        },
        "id": "21TbUlCYptcd",
        "outputId": "10858b1c-2628-417b-df9a-5d4bcf18a0c9"
      },
      "execution_count": null,
      "outputs": [
        {
          "output_type": "stream",
          "name": "stdout",
          "text": [
            "현진건-운수좋은날+B3356-개벽 (1).pdf\n"
          ]
        }
      ]
    },
    {
      "cell_type": "markdown",
      "source": [
        "##### 함수화"
      ],
      "metadata": {
        "id": "SY-VXhqSnfaz"
      }
    },
    {
      "cell_type": "code",
      "source": [
        "def detect_paragraphs(image_path):\n",
        "    from google.cloud import vision\n",
        "    # API키 가져오기\n",
        "    os.environ[\"GOOGLE_APPLICATION_CREDENTIALS\"] = r\"/content/drive/MyDrive/api-project-397750607032-5ddc025931cd.json\"\n",
        "\n",
        "    # API 가져오기\n",
        "    client = vision.ImageAnnotatorClient()\n",
        "\n",
        "    # 주석을 추가할 이미지 파일 이름\n",
        "    file_name = os.path.abspath(image_path)\n",
        "\n",
        "    # 이미지 로드\n",
        "    with io.open(file_name, 'rb') as image_file:\n",
        "        content = image_file.read()\n",
        "\n",
        "    image = vision.Image(content=content)\n",
        "\n",
        "    # 이미지 OCR\n",
        "    response = client.document_text_detection(image=image)\n",
        "\n",
        "    # 이미지 OCR 텍스트 전문\n",
        "    full_text = response.full_text_annotation.text\n",
        "\n",
        "    # 이미지 OCR 후 결과 (bbox, word 등)\n",
        "    pages = response.full_text_annotation.pages\n",
        "\n",
        "    # 텍스트 주석\n",
        "    # 참고 : https://cloud.google.com/dotnet/docs/reference/Google.Cloud.Vision.V1/latest/Google.Cloud.Vision.V1.TextAnnotation.Types.DetectedBreak.Types.BreakType\n",
        "    # 참고 : https://googleapis.github.io/googleapis/java/grpc-google-cloud-vision-v1/0.1.5/apidocs/com/google/cloud/vision/v1/TextAnnotation.DetectedBreak.BreakType.html\n",
        "    breaks = vision.TextAnnotation.DetectedBreak.BreakType\n",
        "\n",
        "    paragraphs = []\n",
        "    lines = []\n",
        "\n",
        "    for page in pages:\n",
        "        for block in page.blocks:\n",
        "            for paragraph in block.paragraphs:\n",
        "                para = \"★문단시작★\"\n",
        "                line = \"\"\n",
        "                for word in paragraph.words:\n",
        "                    for symbol in word.symbols:\n",
        "                        line += symbol.text\n",
        "                        # breaks.SPACE : 공백\n",
        "                        if symbol.property.detected_break.type == breaks.SPACE:\n",
        "                            line += ' '\n",
        "                        # breaks.EOL_SURE_SPACE : 줄 바꿈\n",
        "                        if symbol.property.detected_break.type == breaks.EOL_SURE_SPACE:\n",
        "                            line += ' '\n",
        "                            lines.append(line)\n",
        "                            para += line\n",
        "                            line = ''\n",
        "                        # breaks.LINE_BREAK : 단락을 끝내는 줄바꿈\n",
        "                        if symbol.property.detected_break.type == breaks.LINE_BREAK:\n",
        "                            lines.append(line)\n",
        "                            para += line\n",
        "                            line = ''\n",
        "                paragraphs.append(para)\n",
        "\n",
        "    return full_text, paragraphs"
      ],
      "metadata": {
        "id": "8R_bF2D3ngzM"
      },
      "execution_count": null,
      "outputs": []
    },
    {
      "cell_type": "markdown",
      "source": [
        "##### 실제 데이터 사용"
      ],
      "metadata": {
        "id": "f24Z3BPawMoq"
      }
    },
    {
      "cell_type": "code",
      "source": [
        "# 함수 시험\n",
        "text_full, paragraphs = [], []\n",
        "for i in os.listdir('/content/image_file'):\n",
        "    image_path = f\"/content/image_file/{i}\"\n",
        "    if image_path[-4:] == '.png':\n",
        "        text_full2, paragraphes = detect_paragraphs(image_path)\n",
        "        text_full.append(text_full2)\n",
        "        paragraphs.append(paragraphes)\n",
        "print(text_full)\n",
        "print(paragraphs)"
      ],
      "metadata": {
        "colab": {
          "base_uri": "https://localhost:8080/"
        },
        "id": "8KEkhqyxxGWi",
        "outputId": "6a46e933-1bf2-4b7e-9952-e55af59b73de"
      },
      "execution_count": null,
      "outputs": [
        {
          "output_type": "stream",
          "name": "stdout",
          "text": [
            "['이 맺히었다. 김첨지의 눈시울도 뜨끈뜨끈하였다.\\n이 환자가 그러고도 먹는 데는 물리지 않았다. 사흘 전부터 설렁탕 국물이\\n마시고 싶다고 남편을 졸랐다.\\n\"이런 오라질 년! 조밥도 못 먹는 년이 설렁탕은 또 처먹고 지랄병을 하\\n게.\"\\n라고, 야단을 쳐보았건만, 못 사주는 마음이 시원치는 않았다.\\n인제 설렁탕을 사줄 수도 있다. 앓는 어미 곁에서 배고파 보채는 개똥이\\n(세살먹이)에게 죽을 사줄 수도 있다 - 팔십 전을 손에 쥔 김 첨지의 마음\\n은 푼푼하였다.\\n그러나 그의 행운은 그걸로 그치지 않았다. 땀과 빗물이 섞여 흐르는 목덜\\n미를 기름주머니가 다된 왜목 수건으로 닦으며, 그 학교 문을 돌아 나올 때\\n였다. 뒤에서 \"인력거!\" 하고 부르는 소리가 난다. 자기를 불러 멈춘 사\\n람이 그 학교 학생인 줄 김첨지는 한번 보고 짐작할 수 있었다. 그 학생은\\n다짜고짜로,\\n\"남대문 정거장까지 얼마요.\"\\n라고 물었다. 아마도 그 학교 기숙사에 있는 이로 동기방학을 이용하여 귀\\n향하려 함이리라. 오늘 가기로 작정은 하였건만 비는 오고, 짐은 있고 해서\\n어찌할 줄 모르다가 마침 김첨지를 보고 뛰어나왔음이리라. 그렇지 않으면\\n왜 구두를 채 신지 못해서 질질 끌고, 비록 고구라 양복일망정 노박이로 비\\n를 맞으며 김첨지를 뒤쫓아 나왔으랴.\\n\"남대문 정거장까지 말씀입니까.\"\\n하고 김첨지는 잠깐 주저하였다. 그는 이 우중에 우장도 없이 그 먼 곳을\\n철벅거리고 가기가 싫었음일까? 처음 것 둘째 것으로 고만 만족하였음일까?\\n아니다 결코 아니다. 이상하게도 꼬리를 맞물고 덤비는 이 행운 앞에 조금\\n겁이 났음이다. 그리고 집을 나올 제 아내의 부탁이 마음이 켕기었다 - 앞\\n집 마마님한테서 부르러 왔을 제 병인은 뼈만 남은 얼굴에 유일의 샘물 같\\n은 유달리 크고 움푹한 눈에 애걸하는 빛을 띄우며,\\n\"오늘은 나가지 말아요. 제발 덕분에 집에 붙어 있어요. 내가 이렇게 아\\n픈데・・・・・..\"\\n라고, 모기 소리같이 중얼거리고 숨을 걸그렁걸그렁하였다. 그때에 김첨지\\n는 대수롭지 않은듯이,\\n\"아따, 젠장맞을 년, 별 빌어먹을 소리를 다 하네. 맞붙들고 앉았으면 누\\n가 먹여 살릴 줄 알아.\"\\n하고 훌쩍 뛰어나오려니까 환자는 붙잡을 듯이 팔을 내저으며,', '니 김첨지는 인력거를 쥔 채 길 한복판에 엉거주춤 멈춰 있지 않은가.\\n“예, 예.\"\\n하고, 김첨지는 또다시 달음질하였다. 집이 차차 멀어 갈수록 김첨지의 걸\\n음에는 다시금 신이 나기 시작하였다. 다리를 재게 놀려야만 쉴새없이 자기\\n의 머리에 떠오르는 모든 근심과 걱정을 잊을 듯이.\\n정거장까지 끌어다 주고 그 깜짝 놀란 일 원 오십 전을 정말 제 손에 쥐에\\n제 말마따나 심리나 되는 길을 비를 맞아 가며 질퍽거리고 온 생각은 아니\\n하고 거저나 얻은 듯이 고마웠다. 졸부나 된 듯이 기뻤다. 제 자식뻘밖에\\n안 되는 어린 손님에게 몇 번 허리를 굽히며,\\n\"안녕히 다녀옵시요.\"\\n라고 깍듯이 재우쳤다.\\n그러나 빈 인력거를 털털거리며 이 우중에 돌아갈 일이 꿈밖이었다. 노동\\n으로 하여 흐른 땀이 식어지자 굶주린 창자에서, 물 흐르는 옷에서 어슬어\\n슬 한기가 솟아나기 비롯하매 일 원 오십 전이란 돈이 얼마나 괜찮고 괴로\\n운 것인 줄 절절히 느끼었다. 정거장을 떠나는 그의 발길은 힘 하나 없었\\n다. 온몸이 옹송그려지며 당장 그 자리에 엎어져 못 일어날 것 같았다.\\n\"젠장맞을 것, 이 비를 맞으며 빈 인력거를 털털거리고 돌아를 간담. 이\\n런 빌어먹을 제 할미를 붙을 비가 왜 남의 상관을 딱딱 때려!\"\\n그는 몹시 화증을 내며 누구에게 반항이나 하는 듯이 게걸거렸다. 그럴 즈\\n음에 그의 머리엔 또 새로운 광명이 비쳤나니 그것은 이러구 갈 게 아니\\n라 이 근처를 빙빙 돌며 차 오기를 기다리면 또 손님을 태우게 될는지도 몰\\n라\\' 란 생각이었다. 오늘 운수가 괴상하게도 좋으니까 그런 요행이 또 한번\\n없으리라고 누가 보증하랴. 꼬리를 굴리는 행운이 꼭 자기를 기다리고 있다\\n고 내기를 해도 좋을 만한 믿음을 얻게 되었다. 그렇다고 정거장 인력거꾼\\n의 등쌀이 무서우니 정거장 앞에 섰을 수는 없었다. 그래 그는 이전에도 여\\n러 번 해본 일이라 바로 정거장 앞 전차 정류장에서 조금 떨어지게 사람 다\\n니는 길과 전찻길 틈에 인력거를 세워 놓고 자기는 그 근처를 빙빙 돌며 형\\n세를 관망하기로 하였다. 얼마 만에 기차는 왔고 수십 명이나 되는 손이 정\\n류장으로 쏟아져 나왔다. 그 중에서 손님을 물색하는 김첨지의 눈엔 양머리\\n에 뒤축 높은 구두를 신고 망토까지 두른 기생 퇴물인 듯 난봉 여학생인 듯\\n한 여편네의 모양이 띄었다. 그는 슬근슬근 그 여자의 곁으로 다가들었다.\\n\"아씨, 인력거 아니 타시랍시요.\"\\n그 여학생인지 만지가 한참은 매우 때깔을 빼며 입술을 꼭 다문 채 김첨지\\n를 거들떠보지도 않았다. 김첨지는 구걸하는 거지나 무엇같이 연해 연방 그', '\"으응, 이것 봐, 아무 말이 없네.\"\\n\"이년아 죽었단 말이냐, 왜 말이 없어.\"\\n\"으응, 또 대답이 없네. 정말 죽었나 버이.\"\\n이러다가 누운 이의 흰 창을 덮은 위로 치뜬 눈을 알아보자마자,\\n\"이 눈깔! 이 눈깔! 왜 나를 바라보지 못하고 천장만 보느냐, 응.\"\\n하는 말 끝엔 목이 메였다. 그러자 산 사람의 눈에서 떨어진 닭의 똥 같은\\n눈물이 죽은 이의 뻣뻣한 얼굴을 어어 적시었다. 문득 김첨지는 미친\\n듯이 제 얼굴을 죽은 이의 얼굴에 한데 비비대며 중얼거렸다.\\n\"설렁탕을 사다 놓았는데 왜 먹지를 못하니, 왜 먹지를 못하니・・・・・・ 괴상\\n하게도 오늘은! 운수가 좋더니만……….”', '\"나가지 말라도 그래, 그러면 일찍이 들어와요.\"\\n하고, 목메인 소리가 뒤를 따랐다.\\n정거장까지 가잔 말을 들은 순간에 경련적으로 떠는 손 유달리 큼직한 눈\\n울 듯한 아내의 얼굴이 김첨지의 눈앞에 어른어른하였다.\\n\"그래 남대문 정거장까지 얼마란 말이요?\"\\n하고 학생은 초조한 듯이 인력거꾼의 얼굴을 바라보며 혼자말같이,\\n\"인천 차가 열한 점에 있고 그 다음에는 새로 두 점이든가.\"\\n라고 중얼거린다.\\n\"일 원 오십 전만 줍시요.\"\\n이 말이 저도 모를 사이에 불쑥 김첨지의 입에서 떨어졌다. 제 입으로 부\\n르고도 스스로 그 엄청난 돈 액수에 놀랐다. 한꺼번에 이런 금액을 불러라\\n도 본 지가 그 얼마 만인가! 그러자 그 돈벌 용기가 병자에 대한 염려를 사\\n르고 말았다. 설마 오늘 내로 어떠랴 싶었다. 무슨 일이 있더라도 제일 제\\n이의 행운을 곱친 것보다고 오히려 갑절이 많은 이 행운을 놓칠 수 없다 하\\n였다.\\n\"일 원 오십 전은 너무 과한데.\"\\n이런 말을 하며 학생은 고개를 기웃하였다.\\n\"아니올시다. 잇수로 치면 여기서 거기가 시오 리가 넘는답니다. 또 이런\\n진날은 좀 더 주셔야지요.\"\\n하고 빙글빙글 웃는 차부의 얼굴에는 숨길 수 없는 기쁨이 넘쳐흘렀다.\\n\"그러면 달라는 대로 줄 터이니 빨리 가요.\"\\n관대한 어린 손님은 이런 말을 남기고 총총히 옷도 입고 짐도 챙기러 갈\\n데로 갔다.\\n그 학생을 태우고 나선 김첨지의 다리는 이상하게 거뿐하였다. 달음질을\\n한다느니보다 거의 나는 듯하였다. 바퀴도 어떻게 속히 도는지 구른다느니\\n보다 마치 얼음을 지쳐 나가는 스케이트 모양으로 미끄러져 가는 듯하였다.\\n언 땅에 비가 내려 미끄럽기도 하였지만.\\n이윽고 끄는 이의 다리는 무거워졌다. 자기 집 가까이 다다른 까닭이다.\\n새삼스러운 염려가 그의 가슴을 눌렀다. “오늘은 나가지 말아요, 내가 이\\n렇게 아픈데 이런 말이 잉잉 그의 귀에 울렸다. 그리고 병자의 움쑥 들어\\n간 눈이 원망하는 듯이 자기를 노리는 듯하였다. 그러자 엉엉 하고 우는 개\\n똥이의 곡성을 들은 듯싶다. 딸국딸국 하고 숨 모으는 소리도 나는 듯싶다.\\n\"왜 이리우, 기차 놓치겠구먼.\"\\n하고 탄 이의 초조한 부르짖음이 간신히 그의 귀에 들어왔다. 언뜻 깨달으', '이한 대상을 짓고 있었다.\\n\"여보게 김첨지, 자네 문안 들어갔다 오는 모양일세그려. 돈 많이 벌었을\\n테니 한잔 빨리게.\"\\n뚱뚱보는 말라깽이를 보던 밑에 부르짖었다. 그 목소리는 몸집과 딴판으로\\n연하고 싹싹하였다. 김첨지는 이 친구를 만난 게 어떻게 반가운지 몰랐다.\\n자기를 살려 준 은인이나 무엇같이 고맙기도 하였다.\\n“자네는 벌써 한잔한 모양일세그려. 자네도 오늘 재미가 좋아 보이.\"\\n하고 김첨지는 얼굴을 펴서 웃었다.\\n\"아따, 재미 안 좋다고 술 못 먹을 낸가. 그런데 여보게, 자네 왼몸이 어\\n째 물독에 빠진 새앙쥐 같은가. 어서 이리 들어와 말리게.\"\\n선술집은 훈훈하고 뜨뜻하였다. 추어탕을 끓이는 솥뚜껑을 열 적마다 뭉게\\n뭉게 떠오르는 흰김 석쇠에서 빼지짓빼지짓 구워지는 너비아니구이며 제육\\n이며 간이며 콩팥이며 북어며 빈대떡이 너저분하게 늘어놓인 안주 탁자\\n에 김첨지는 갑자기 속이 쓰려서 견딜 수 없었다. 마음대로 할 양이면 거기\\n있는 모든 먹음먹이를 모조리 깡그리 집어삼켜도 시원치 않았다 하되 배고\\n픈 이는 위선 분량 많은 빈대떡 두 개를 쪼이기도 하고 추어탕을 한 그릇\\n청하였다. 주린 창자는 음식맛을 보더니 더욱더욱 비어지며 자꾸자꾸 들이\\n라 들이라 하였다. 순식간에 두부와 미꾸리 든 국 한 그릇을 그냥 물같이\\n들이켜고 말았다. 셋째 그릇을 받아 들었을 제 데우던 막걸리 곱배기 두 잔\\n이 더웠다. 치삼이와 같이 마시자 원원이 비었던 속이라 찌르를 하고 창자\\n에 퍼지며 얼굴이 화끈하였다. 눌러 곱배기 한 잔을 또 마셨다.\\n김첨지의 눈은 벌써 개개 풀리기 시작하였다. 석쇠에 얹힌 떡 두 개를 숨\\n덩숭덩 썰어서 볼을 불룩거리며 또 곱배기 두 잔을 부어라 하였다.\\n치삼은 의아한 듯이 김첨지를 보며,\\n\"여보게 또 붓다니, 벌써 우리가 넉 잔씩 먹었네, 돈이 사십 전일세.\"\\n라고 주의시켰다.\\n\"아따 이놈아, 사실 전이 그리 끔찍하냐. 오늘 내가 돈을 막 벌었어. 참\\n오늘 운수가 좋았느니.\"\\n\"그래 얼마를 벌었단 말인가.\"\\n\"삼십 원을 벌었어, 삼십 원을! 이런 젠장맞을 술을 왜 안 부어・・・・・・ 괜찮\\n다 괜찮다, 막 먹어도 상관이 없어. 오늘 돈 산더미같이 벌었는데.\"\\n\"어, 이 사람 취했군, 그만두세.\"\\n\"이놈아, 그걸 먹고 취할 내냐, 어서 더 먹어.\"\\n하고는 치삼의 귀를 잡아 치며 취한 이는 부르짖었다. 그리고 술을 붓는 열', '다섯 살 됨직한 중대가리에게로 달려들며,\\n\"이놈, 오라질 놈, 왜 술을 붓지 않어.\"\\n라고 야단을 쳤다. 중대가리는 희희 웃고 치삼을 보며 문의하는 듯이 눈짓\\n을 하였다. 주정꾼이 이 눈치를 알아보고 화를 버럭 내며,\\n\"에미를 붙을 이 오라질 놈들 같으니, 이놈 내가 돈이 없을 줄 알고.”\\n하자마자 허리춤을 훔칫흠칫하더니 일 원짜리 한 장을 꺼내어 중대가리 앞\\n에 펄쩍 집어던졌다. 그 사품에 몇 푼 은전이 잘그랑 하며 떨어진다.\\n\"여보게 돈 떨어졌네, 왜 돈을 막 끼얹나.\"\\n이런 말을 하며 일변 돈을 줍는다. 김첨지는 취한 중에도 돈의 거처를 살\\n피는 듯이 눈을 크게 떠서 땅을 내려다보다가 불시에 제 하는 짓이 너무 더\\n럽다는 듯이 고개를 소스라치자 더욱 성을 내며,\\n“봐라 봐! 이 더러운 놈들아, 내가 돈이 없나, 다리뼉다구를 꺾어 놓을\\n놈들 같으니.\"\\n하고 치삼의 주워 주는 돈을 받아,\\n\"이 원수엣돈! 이 육시를 할 돈!\"\\n하면서 풀매질을 친다. 벽에 맞아 떨어진 돈은 다시 술 끓이는 양푼에 떨어\\n지며 정당한 매를 맞는다는 듯이 쨍 하고 울었다.\\n곱배기 두 잔은 또 부어질 겨를도 없이 말려 가고 말았다. 김첨지는 입술\\n과 수염에 붙은 술을 빨아들이고 나서 매우 만족한 듯이 그 솔잎 송이 수염\\n을 쓰다듬으며,\\n\"또 부어, 또 부어.\"\\n라고 외쳤다.\\n또 한 잔 먹고 나서 김첨지는 치삼의 어깨를 치며 문득 껄껄 웃는다. 그\\n웃음 소리가 어떻게 컸던지 술집에 있는 이의 눈은 모두 김첨지에게로 몰리\\n었다. 웃는 이는 더욱 웃으며,\\n\"여보게 치삼이, 내 우스운 이야기 하나 할까. 오늘 손을 태고 정거장에\\n가지 않았겠나.\"\\n\"그래서.\"\\n\"갔다가 그저 오기가 안됐데그려. 그래 전차 정류장에서 어름어름하며 손\\n님 하나를 태울 궁리를 하지 않았나. 거기 마침 마마님이신지 여학생이신지\\n(요새야 어디 다니와 아가씨를 구별할 수가 있던가) 망토를 잡수시고 비\\n를 맞고 서 있겠지. 슬슬 가까이 가서 인력거 타시랍시요 하고 손가방\\n을 받으랴니까 내 손을 탁 뿌리치고 홱 돌아서더니만 \\'왜 남을 이렇게 귀\\n찮게 굴어!\\' 그 소리야말로 꾀꼬리 소리지, 허허!\"', '김첨지는 취중에도 설렁탕을 사가지고 집에 다다랐다. 집이라 해도 물론\\n셋집이요 또 집 전체를 세든 게 아니라 안과 뚝 떨어진 행랑방 한 간을 빌\\n려 든 것인데 물을 길어 대고 한 달에 일 원씩 내는 터이다. 만일 김첨지가\\n주기를 띠지 않았던 한 발을 대문에 들여놓았을 제 그곳을 지배하는 무시\\n무시한 정적(靜寂) 폭풍우가 지나간 뒤의 바다 같은 정적이 다리가 떨렸\\n으리라. 쿨룩거리는 기침 소리도 들을 수 없다. 그르렁거리는 숨소리조차\\n들을 수 없다. 다만 이 무덤 같은 침묵을 깨뜨리는 깨뜨린다느니보다 한\\n층 더 침묵을 깊게 하고 불길하게 하는 빡빡 하는 그윽한 소리, 어린애의\\n젖 빠는 소리가 날 뿐이다. 만일 청각(聽覺)이 예민한 이 같으면 그 딱딱\\n소리는 빨 따름이요, 꿀떡꿀떡 하고 젖 넘어가는 소리가 없으니 빈 젖을 빤\\n다는 것도 짐작할는지 모르리라.\\n혹은 김첨지도 이 불길한 침묵을 짐작했는지도 모른다. 그렇지 않으면 대\\n문에 들어서자마자 전에 없이,\\n\"이 난장맞을 년, 남편이 들어오는데 나와 보지도 않아, 이 오라질 년.\"\\n이라고 고함을 친 게 수상하다. 이 고함이야말로 제 몸을 엄습해 오는 무시\\n무시한 증을 쫓아 버리려는 허장성세인 까닭이다.\\n하여간 김첨지는 방문을 왈칵 열었다. 구역을 나게 하는 추기 - 떨어진\\n삿자리 밑에서 나온 먼지내 빨지 않은 기저귀에서 나는 똥내와 오줌내 가지\\n각색 때가 켜켜이 앉은 옷내 병인의 땀 썩은 내가 섞인 추기가 무딘 김첨지\\n의 코를 찔렀다.\\n방 안에 들어서며 설렁탕을 한구석에 놓을 사이도 없이 주정꾼은 목청을\\n있는 대로 다 내어 호통을 쳤다.\\n\"이런 오라질 년, 주야장천 누워만 있으면 제일이야. 남편이 와도 일어나\\n지를 못해.\"\\n라는 소리와 함께 발길로 누운 이의 다리를 몹시 찼다. 그러나 발길에 채이\\n는 건 사람의 살이 아니고 나무등걸과 같은 느낌이 있었다. 이때에 빽 소\\n리가 응아 소리로 변하였다. 개똥이가 물었던 젖을 떼어 놓고 운다. 운대도\\n온 얼굴을 찡그려 붙여서 운다는 표정을 할 뿐이다. 응아 소리도 입에서 나\\n는 게 아니고 마치 뱃속에서 나는 듯하였다. 울다가 울다가 목도 잠겼고 또\\n울 기운조차 시진한 것 같다.\\n발로 차도 그 보람이 없는 걸 보자 남편은 아내의 머리맡으로 달려들어 그\\n야말로 까치집 같은 환자의 머리를 꺼들어 흔들며,\\n\"이년아, 말을 해, 말을! 입이 붙었어, 이 오라질 년!\"', '김첨지는 교묘하게도 정말 꾀꼬리 같은 소리를 내었다. 모든 사람은 일시\\n에 웃었다.\\n\"빌어먹을 깍쟁이 같은 년, 누가 저를 어쩌나, \\'왜 남을 귀찮게 굴어!\\'\\n어이구 소리가 처신도 없지, 허허.\"\\n웃음 소리들은 높아졌다. 그러나 그 웃음 소리들이 사라도 지기 전에 김첨\\n지는 훌쩍훌쩍 울기 시작하였다.\\n치삼은 어이없이 주정뱅이를 바라보며,\\n\"금방 웃고 지랄을 하더니 우는 건 또 무슨 일인가.\"\\n김첨지는 연해 코를 들이마시며,\\n\"우리 마누라가 죽었다네.\"\\n\"뭐, 마누라가 죽다니, 언제?\"\\n\"이놈아 언제는, 오늘이지.\"\\n\"엣기 미친놈, 거짓말 말아.\"\\n\"거짓말은 왜, 참말로 죽었어, 참말로\\n고 내가 술을 먹다니, 내가 죽일 놈이야. 죽일 놈이야.\"\\n하고 김첨지는 엉엉 소리를 내어 운다.\\n마누라 시체를 집에 빼들쳐 놓\\n치삼은 흥이 조금 깨어지는 얼굴로,\\n\"원 이 사람이 참말을 하나 거짓말을 하나. 그러면 집으로 가세, 가.\"\\n하고 우는 이의 팔을 잡아당기었다.\\n치삼의 끄는 손을 뿌리치더니 김첨지는 눈물이 글썽글썽한 눈으로 싱그레\\n웃는다.\\n\"죽기는 누가 죽어.\"\\n하고 득의가 양양.\\n\"죽기는 왜 죽어, 생때같이 살아만 있단다. 그 오라질 년이 밥을 죽이지.\\n인제 나한테 속았다.\"\\n하고 어린애 모양으로 손뼉을 치며 웃는다.\\n“이 사람이 정말 미쳤단 말인가. 나도 아주먼네가 않는단 말은 들었는\\n데.”\\n하고 치삼이도 어느 불안을 느끼는 듯이 김첨지에게 또 돌아가라고 권하였\\n다.\\n\"안 죽었어, 안 죽었대도 그래.\"\\n김첨지는 화증을 내며 확신 있게 소리를 질렀으되 그 소리엔 안 죽은 것을\\n믿으려고 애쓰는 가락이 있었다. 기어이 일 원 어치를 채워서 곱배기 한 잔\\n씩 더 먹고 나왔다. 궂은비는 의연히 추적추적 내린다.', '운수 좋은날\\n현진건\\n새침하게 흐린 품이 눈이 올 듯하더니 눈은 아니 오고 얼다가 만 비가 추\\n적추적 내리는 날이었다.\\n이날이야말로 동소문 안에서 인력거꾼 노릇을 하는 김첨지에게는 오래간만\\n에도 닥친 운수 좋은 날이었다. 문안에 거기도 문밖은 아니지만 들어간답\\n시는 앞집 마마님을 전찻길까지 모셔다 드린 것을 비롯으로 행여나 손님이\\n있을까 하고 정류장에서 어정어정하며 내리는 사람 하나하나에게 거의 비는\\n듯한 눈결을 보내고 있다가 마침내 교원인 듯한 양복쟁이를 동광학교(東光\\n學校)까지 태워다 주기로 되었다.\\n첫 번에 삼십전, 둘째 번에 오십전 - 아침 댓바람에 그리 흉치 않은 일이\\n었다. 그야말로 재수가 옴불어서 근 열흘 동안 돈 구경도 못한 김첨지는 십\\n전짜리 백동화 서 푼, 또는 다섯 푼이 찰깍 하고 손바닥에 떨어질 제 거의\\n눈물을 흘릴 만큼 기뻤었다. 더구나 이날 이때에 이 팔십 전이라는 돈이 그\\n에게 얼마나 유용한지 몰랐다. 컬컬한 목에 모주 한 잔도 적실 수 있거니와\\n그보다도 앓는 아내에게 설렁탕 한 그릇도 사다 줄 수 있음이다.\\n그의 아내가 기침으로 쿨룩거리기는 벌써 달포가 넘었다. 조밥도 굶기를\\n먹다시피 하는 형편이니 물론 약 한 첩 써본 일이 없다. 구태여 쓰려면 못\\n쓸 바도 아니로되 그는 병이란 놈에게 약을 주어 보내면 재미를 붙여서 자\\n꾸 온다는 자기의 신조(信)에 어디까지 충실하였다. 따라서 의사에게 보\\n인 적이 없으니 무슨 병인지는 알 수 없으되 반듯이 누워 가지고 일어나기\\n는 새로 모로도 못 눕는 걸 보면 중증은 중증인 듯. 병이 이대도록 심해지\\n기는 열흘전에 조밥을 먹고 체한 때문이다. 그때도 김첨지가 오래간만에 돈\\n을 얻어서 좁쌀 한 뇌와 십 전짜리 나무 한 단을 사다 주었더니 김첨지의\\n말에 의지하면 그 오라질 년이 천방지축으로 냄비에 대고 끓였다. 마음은\\n급하고 불길은 달지 않아 채 익지도 않은 것을 그 오라질년이 숟가락은 고\\n만두고 손으로 움켜서 두 뺨에 주먹덩이 같은 혹이 불거지도록 누가 빼앗을\\n듯이 처박질하더니만 그날 저녁부터 가슴이 땡긴다. 배가 켕긴다고 눈을 흡\\n뜨고 지랄병을 하였다. 그때 김첨지는 열화와 같이 성을 내며,\\n“에이, 오라질년, 조랑복은 할 수가 없어, 못 먹어 병, 먹어서 병! 어쩌\\n란 말이야! 왜 눈을 바루 뜨지 못해!\"\\n하고 앓는 이의 뺨을 한 번 후려갈겼다. 흡뜬 눈은 조금 바루어졌건만 이슬', '의 기색을 살피며,\\n\"아씨, 정거장 애들보담 아주 싸게 모셔다 드리겠습니다. 댁이 어디신가\\n요.\"\\n하고 추근추근하게도 그 여자의 들고 있는 일본식 버들고리짝에 제 손을 대\\n었다.\\n\"왜 이래, 남 귀치않게.\"\\n소리를 벽력같이 지르고는 돌아선다. 김첨지는 어랍시요 하고 물러섰다.\\n전차는 왔다. 김첨지는 원망스럽게 전차 타는 이를 노리고 있었다. 그러나\\n그의 예감은 틀리지 않았다. 전차가 빡빡하게 사람을 싣고 움직이기\\n시작하였을 제 타고 남은 손 하나가 있었다. 굉장하게 큰 가방을 들고 있는\\n걸 보면 아마 붐비는 차 안에 짐이 크다 하여 차장에게 밀려 내려온 눈치였\\n다. 김첨지는 대어섰다.\\n\"인력거를 타시랍시요.\"\\n한동안 값으로 승강이를 하다가 육십 전에 인사동까지 태워다 주기로 하였\\n다. 인력거가 무거워지매 그의 몸은 이상하게도 가벼워졌고 그리고 또 인력\\n거가 가벼워지니 몸은 다시금 무거워졌건만 이번에는 마음조차 초조해 온\\n다. 집의 광경이 자꾸 눈앞에 어른거리어 인제 요행을 바랄 여유도 없었다.\\n나무 등걸이나 무엇 같고 제 것 같지도 않은 다리를 연해 꾸짖으며 질팡갈\\n팡 뛰는 수밖에 없었다. 저놈의 인력거꾼이 저렇게 술이 취해 가지고 이 진\\n땅에 어찌 가노, 라고 길 가는 사람이 걱정을 하리만큼 그의 걸음은 황급하\\n였다. 흐리고 비 오는 하늘은 어둠침침하게 벌써 황혼에 가까운 듯하다. 창\\n경원 앞까지 다다라서야 그는 턱에 닿은 숨을 돌리고 걸음도 늦추잡았다.\\n한 걸음 두 걸음 집이 가까워 갈수록 그의 마음조차 괴상하게 누그러웠다.\\n그런데 이 누그러움은 안심에서 오는 게 아니요 자기를 덮친 무서운 불행을\\n빈틈없이 알게 될 때가 박두한 것을 두리는 마음에서 오는 것이다. 그는 불\\n행에 다닥치기 전 시간을 얼마쯤이라도 늘이려고 버르적거렸다. 기적(奇蹟)\\n에 가까운 벌이를 하였다는 기쁨을 할 수 있으면 오래 지니고 싶었다. 그는\\n두리번두리번 사면을 살피었다. 그 모양은 마치 자기 집 곧 불행을 향하\\n고 달아가는 제 다리를 제 힘으로는 도저히 어찌할 수 없으니 누구든지 나\\n를 좀 잡아 다고, 구해 다고 하는 듯하였다.\\n그럴 즈음에 마침 길가 선술집에서 그의 친구 치삼이가 나온다. 그의 우글\\n우글 살찐 얼굴에 주홍이 덧는 듯, 온 턱과 뺨을 시커멓게 구레나룻이 덮였\\n거늘 노르탱탱한 얼굴이 바짝 말라서 여기저기 고랑이 패고 수염도 있대야\\n턱밑에만 마치 솔잎 송이를 거꾸로 붙여 놓은 듯한 김첨지의 풍채 하고는 기']\n",
            "[['★문단시작★이 맺히었다. 김첨지의 눈시울도 뜨끈뜨끈하였다.', '★문단시작★이 환자가 그러고도 먹는 데는 물리지 않았다. 사흘 전부터 설렁탕 국물이 마시고 싶다고 남편을 졸랐다.', '★문단시작★\"이런 오라질 년! 조밥도 못 먹는 년이 설렁탕은 또 처먹고 지랄병을 하 게.\"', '★문단시작★라고, 야단을 쳐보았건만, 못 사주는 마음이 시원치는 않았다.', '★문단시작★인제 설렁탕을 사줄 수도 있다. 앓는 어미 곁에서 배고파 보채는 개똥이 (세살먹이)에게 죽을 사줄 수도 있다 - 팔십 전을 손에 쥔 김 첨지의 마음 은 푼푼하였다.', '★문단시작★그러나 그의 행운은 그걸로 그치지 않았다. 땀과 빗물이 섞여 흐르는 목덜 미를 기름주머니가 다된 왜목 수건으로 닦으며, 그 학교 문을 돌아 나올 때 였다. 뒤에서 \"인력거!\" 하고 부르는 소리가 난다. 자기를 불러 멈춘 사 람이 그 학교 학생인 줄 김첨지는 한번 보고 짐작할 수 있었다. 그 학생은 다짜고짜로,', '★문단시작★\"남대문 정거장까지 얼마요.\"', '★문단시작★라고 물었다. 아마도 그 학교 기숙사에 있는 이로 동기방학을 이용하여 귀 향하려 함이리라. 오늘 가기로 작정은 하였건만 비는 오고, 짐은 있고 해서 어찌할 줄 모르다가 마침 김첨지를 보고 뛰어나왔음이리라. 그렇지 않으면 왜 구두를 채 신지 못해서 질질 끌고, 비록 고구라 양복일망정 노박이로 비 를 맞으며 김첨지를 뒤쫓아 나왔으랴.', '★문단시작★\"남대문 정거장까지 말씀입니까.\"', '★문단시작★하고 김첨지는 잠깐 주저하였다. 그는 이 우중에 우장도 없이 그 먼 곳을 철벅거리고 가기가 싫었음일까? 처음 것 둘째 것으로 고만 만족하였음일까? 아니다 결코 아니다. 이상하게도 꼬리를 맞물고 덤비는 이 행운 앞에 조금 겁이 났음이다. 그리고 집을 나올 제 아내의 부탁이 마음이 켕기었다 - 앞 집 마마님한테서 부르러 왔을 제 병인은 뼈만 남은 얼굴에 유일의 샘물 같 은 유달리 크고 움푹한 눈에 애걸하는 빛을 띄우며,', '★문단시작★\"오늘은 나가지 말아요. 제발 덕분에 집에 붙어 있어요. 내가 이렇게 아 픈데・・・・・..\"', '★문단시작★라고, 모기 소리같이 중얼거리고 숨을 걸그렁걸그렁하였다. 그때에 김첨지 는 대수롭지 않은듯이,', '★문단시작★\"아따, 젠장맞을 년, 별 빌어먹을 소리를 다 하네. 맞붙들고 앉았으면 누', '★문단시작★가 먹여 살릴 줄 알아.\"', '★문단시작★하고 훌쩍 뛰어나오려니까 환자는 붙잡을 듯이 팔을 내저으며,'], ['★문단시작★니 김첨지는 인력거를 쥔 채 길 한복판에 엉거주춤 멈춰 있지 않은가.', '★문단시작★“예, 예.\"', '★문단시작★하고, 김첨지는 또다시 달음질하였다. 집이 차차 멀어 갈수록 김첨지의 걸 음에는 다시금 신이 나기 시작하였다. 다리를 재게 놀려야만 쉴새없이 자기 의 머리에 떠오르는 모든 근심과 걱정을 잊을 듯이.', '★문단시작★정거장까지 끌어다 주고 그 깜짝 놀란 일 원 오십 전을 정말 제 손에 쥐에 제 말마따나 심리나 되는 길을 비를 맞아 가며 질퍽거리고 온 생각은 아니 하고 거저나 얻은 듯이 고마웠다. 졸부나 된 듯이 기뻤다. 제 자식뻘밖에 안 되는 어린 손님에게 몇 번 허리를 굽히며,', '★문단시작★\"안녕히 다녀옵시요.\"', '★문단시작★라고 깍듯이 재우쳤다.', '★문단시작★그러나 빈 인력거를 털털거리며 이 우중에 돌아갈 일이 꿈밖이었다. 노동 으로 하여 흐른 땀이 식어지자 굶주린 창자에서, 물 흐르는 옷에서 어슬어 슬 한기가 솟아나기 비롯하매 일 원 오십 전이란 돈이 얼마나 괜찮고 괴로 운 것인 줄 절절히 느끼었다. 정거장을 떠나는 그의 발길은 힘 하나 없었 다. 온몸이 옹송그려지며 당장 그 자리에 엎어져 못 일어날 것 같았다.', '★문단시작★\"젠장맞을 것, 이 비를 맞으며 빈 인력거를 털털거리고 돌아를 간담. 이 런 빌어먹을 제 할미를 붙을 비가 왜 남의 상관을 딱딱 때려!\"', '★문단시작★그는 몹시 화증을 내며 누구에게 반항이나 하는 듯이 게걸거렸다. 그럴 즈 음에 그의 머리엔 또 새로운 광명이 비쳤나니 그것은 이러구 갈 게 아니 라 이 근처를 빙빙 돌며 차 오기를 기다리면 또 손님을 태우게 될는지도 몰 라\\' 란 생각이었다. 오늘 운수가 괴상하게도 좋으니까 그런 요행이 또 한번 없으리라고 누가 보증하랴. 꼬리를 굴리는 행운이 꼭 자기를 기다리고 있다 고 내기를 해도 좋을 만한 믿음을 얻게 되었다. 그렇다고 정거장 인력거꾼 의 등쌀이 무서우니 정거장 앞에 섰을 수는 없었다. 그래 그는 이전에도 여 러 번 해본 일이라 바로 정거장 앞 전차 정류장에서 조금 떨어지게 사람 다 니는 길과 전찻길 틈에 인력거를 세워 놓고 자기는 그 근처를 빙빙 돌며 형 세를 관망하기로 하였다. 얼마 만에 기차는 왔고 수십 명이나 되는 손이 정 류장으로 쏟아져 나왔다. 그 중에서 손님을 물색하는 김첨지의 눈엔 양머리 에 뒤축 높은 구두를 신고 망토까지 두른 기생 퇴물인 듯 난봉 여학생인 듯 한 여편네의 모양이 띄었다. 그는 슬근슬근 그 여자의 곁으로 다가들었다. \"아씨, 인력거 아니 타시랍시요.\"', '★문단시작★그 여학생인지 만지가 한참은 매우 때깔을 빼며 입술을 꼭 다문 채 김첨지 를 거들떠보지도 않았다. 김첨지는 구걸하는 거지나 무엇같이 연해 연방 그'], ['★문단시작★\"으응, 이것 봐, 아무 말이 없네.\"', '★문단시작★\"이년아 죽었단 말이냐, 왜 말이 없어.\"', '★문단시작★\"으응, 또 대답이 없네. 정말 죽었나 버이.\"', '★문단시작★이러다가 누운 이의 흰 창을 덮은 위로 치뜬 눈을 알아보자마자,', '★문단시작★\"이 눈깔! 이 눈깔! 왜 나를 바라보지 못하고 천장만 보느냐, 응.\"', '★문단시작★하는 말 끝엔 목이 메였다. 그러자 산 사람의 눈에서 떨어진 닭의 똥 같은 눈물이 죽은 이의 뻣뻣한 얼굴을 어어 적시었다. 문득 김첨지는 미친 듯이 제 얼굴을 죽은 이의 얼굴에 한데 비비대며 중얼거렸다.', '★문단시작★\"설렁탕을 사다 놓았는데 왜 먹지를 못하니, 왜 먹지를 못하니・・・・・・ 괴상 하게도 오늘은! 운수가 좋더니만……….”'], ['★문단시작★\"나가지 말라도 그래, 그러면 일찍이 들어와요.\"', '★문단시작★하고, 목메인 소리가 뒤를 따랐다.', '★문단시작★정거장까지 가잔 말을 들은 순간에 경련적으로 떠는 손 유달리 큼직한 눈', '★문단시작★울 듯한 아내의 얼굴이 김첨지의 눈앞에 어른어른하였다.', '★문단시작★\"그래 남대문 정거장까지 얼마란 말이요?\"', '★문단시작★하고 학생은 초조한 듯이 인력거꾼의 얼굴을 바라보며 혼자말같이,', '★문단시작★\"인천 차가 열한 점에 있고 그 다음에는 새로 두 점이든가.\"', '★문단시작★라고 중얼거린다.', '★문단시작★\"일 원 오십 전만 줍시요.\"', '★문단시작★이 말이 저도 모를 사이에 불쑥 김첨지의 입에서 떨어졌다. 제 입으로 부 르고도 스스로 그 엄청난 돈 액수에 놀랐다. 한꺼번에 이런 금액을 불러라 도 본 지가 그 얼마 만인가! 그러자 그 돈벌 용기가 병자에 대한 염려를 사 르고 말았다. 설마 오늘 내로 어떠랴 싶었다. 무슨 일이 있더라도 제일 제 이의 행운을 곱친 것보다고 오히려 갑절이 많은 이 행운을 놓칠 수 없다 하 였다.', '★문단시작★\"일 원 오십 전은 너무 과한데.\"', '★문단시작★이런 말을 하며 학생은 고개를 기웃하였다.', '★문단시작★\"아니올시다. 잇수로 치면 여기서 거기가 시오 리가 넘는답니다. 또 이런', '★문단시작★진날은 좀 더 주셔야지요.\"', '★문단시작★하고 빙글빙글 웃는 차부의 얼굴에는 숨길 수 없는 기쁨이 넘쳐흘렀다.', '★문단시작★\"그러면 달라는 대로 줄 터이니 빨리 가요.\"', '★문단시작★관대한 어린 손님은 이런 말을 남기고 총총히 옷도 입고 짐도 챙기러 갈 데로 갔다.', '★문단시작★그 학생을 태우고 나선 김첨지의 다리는 이상하게 거뿐하였다. 달음질을 한다느니보다 거의 나는 듯하였다. 바퀴도 어떻게 속히 도는지 구른다느니 보다 마치 얼음을 지쳐 나가는 스케이트 모양으로 미끄러져 가는 듯하였다. 언 땅에 비가 내려 미끄럽기도 하였지만.', '★문단시작★이윽고 끄는 이의 다리는 무거워졌다. 자기 집 가까이 다다른 까닭이다. 새삼스러운 염려가 그의 가슴을 눌렀다. “오늘은 나가지 말아요, 내가 이 렇게 아픈데 이런 말이 잉잉 그의 귀에 울렸다. 그리고 병자의 움쑥 들어 간 눈이 원망하는 듯이 자기를 노리는 듯하였다. 그러자 엉엉 하고 우는 개 똥이의 곡성을 들은 듯싶다. 딸국딸국 하고 숨 모으는 소리도 나는 듯싶다. \"왜 이리우, 기차 놓치겠구먼.\"', '★문단시작★하고 탄 이의 초조한 부르짖음이 간신히 그의 귀에 들어왔다. 언뜻 깨달으'], ['★문단시작★이한 대상을 짓고 있었다.', '★문단시작★\"여보게 김첨지, 자네 문안 들어갔다 오는 모양일세그려. 돈 많이 벌었을 테니 한잔 빨리게.\"', '★문단시작★뚱뚱보는 말라깽이를 보던 밑에 부르짖었다. 그 목소리는 몸집과 딴판으로 연하고 싹싹하였다. 김첨지는 이 친구를 만난 게 어떻게 반가운지 몰랐다. 자기를 살려 준 은인이나 무엇같이 고맙기도 하였다.', '★문단시작★“자네는 벌써 한잔한 모양일세그려. 자네도 오늘 재미가 좋아 보이.\" 하고 김첨지는 얼굴을 펴서 웃었다.', '★문단시작★\"아따, 재미 안 좋다고 술 못 먹을 낸가. 그런데 여보게, 자네 왼몸이 어 째 물독에 빠진 새앙쥐 같은가. 어서 이리 들어와 말리게.\"', '★문단시작★선술집은 훈훈하고 뜨뜻하였다. 추어탕을 끓이는 솥뚜껑을 열 적마다 뭉게 뭉게 떠오르는 흰김 석쇠에서 빼지짓빼지짓 구워지는 너비아니구이며 제육 이며 간이며 콩팥이며 북어며 빈대떡이 너저분하게 늘어놓인 안주 탁자 에 김첨지는 갑자기 속이 쓰려서 견딜 수 없었다. 마음대로 할 양이면 거기 있는 모든 먹음먹이를 모조리 깡그리 집어삼켜도 시원치 않았다 하되 배고 픈 이는 위선 분량 많은 빈대떡 두 개를 쪼이기도 하고 추어탕을 한 그릇 청하였다. 주린 창자는 음식맛을 보더니 더욱더욱 비어지며 자꾸자꾸 들이 라 들이라 하였다. 순식간에 두부와 미꾸리 든 국 한 그릇을 그냥 물같이 들이켜고 말았다. 셋째 그릇을 받아 들었을 제 데우던 막걸리 곱배기 두 잔 이 더웠다. 치삼이와 같이 마시자 원원이 비었던 속이라 찌르를 하고 창자 에 퍼지며 얼굴이 화끈하였다. 눌러 곱배기 한 잔을 또 마셨다.', '★문단시작★김첨지의 눈은 벌써 개개 풀리기 시작하였다. 석쇠에 얹힌 떡 두 개를 숨 덩숭덩 썰어서 볼을 불룩거리며 또 곱배기 두 잔을 부어라 하였다.', '★문단시작★치삼은 의아한 듯이 김첨지를 보며,', '★문단시작★\"여보게 또 붓다니, 벌써 우리가 넉 잔씩 먹었네, 돈이 사십 전일세.\"', '★문단시작★라고 주의시켰다.', '★문단시작★\"아따 이놈아, 사실 전이 그리 끔찍하냐. 오늘 내가 돈을 막 벌었어. 참 오늘 운수가 좋았느니.\"', '★문단시작★\"그래 얼마를 벌었단 말인가.\"', '★문단시작★\"삼십 원을 벌었어, 삼십 원을! 이런 젠장맞을 술을 왜 안 부어・・・・・・ 괜찮', '★문단시작★다 괜찮다, 막 먹어도 상관이 없어. 오늘 돈 산더미같이 벌었는데.\"', '★문단시작★\"어, 이 사람 취했군, 그만두세.\"', '★문단시작★\"이놈아, 그걸 먹고 취할 내냐, 어서 더 먹어.\"', '★문단시작★하고는 치삼의 귀를 잡아 치며 취한 이는 부르짖었다. 그리고 술을 붓는 열'], ['★문단시작★다섯 살 됨직한 중대가리에게로 달려들며,', '★문단시작★\"이놈, 오라질 놈, 왜 술을 붓지 않어.\"', '★문단시작★라고 야단을 쳤다. 중대가리는 희희 웃고 치삼을 보며 문의하는 듯이 눈짓 을 하였다. 주정꾼이 이 눈치를 알아보고 화를 버럭 내며,', '★문단시작★\"에미를 붙을 이 오라질 놈들 같으니, 이놈 내가 돈이 없을 줄 알고.” 하자마자 허리춤을 훔칫흠칫하더니 일 원짜리 한 장을 꺼내어 중대가리 앞 에 펄쩍 집어던졌다. 그 사품에 몇 푼 은전이 잘그랑 하며 떨어진다.', '★문단시작★\"여보게 돈 떨어졌네, 왜 돈을 막 끼얹나.\"', '★문단시작★이런 말을 하며 일변 돈을 줍는다. 김첨지는 취한 중에도 돈의 거처를 살 피는 듯이 눈을 크게 떠서 땅을 내려다보다가 불시에 제 하는 짓이 너무 더 럽다는 듯이 고개를 소스라치자 더욱 성을 내며,', '★문단시작★“봐라 봐! 이 더러운 놈들아, 내가 돈이 없나, 다리뼉다구를 꺾어 놓을 놈들 같으니.\"', '★문단시작★하고 치삼의 주워 주는 돈을 받아,', '★문단시작★\"이 원수엣돈! 이 육시를 할 돈!\"', '★문단시작★하면서 풀매질을 친다. 벽에 맞아 떨어진 돈은 다시 술 끓이는 양푼에 떨어 지며 정당한 매를 맞는다는 듯이 쨍 하고 울었다.', '★문단시작★곱배기 두 잔은 또 부어질 겨를도 없이 말려 가고 말았다. 김첨지는 입술 과 수염에 붙은 술을 빨아들이고 나서 매우 만족한 듯이 그 솔잎 송이 수염 을 쓰다듬으며,', '★문단시작★\"또 부어, 또 부어.\"', '★문단시작★라고 외쳤다.', '★문단시작★또 한 잔 먹고 나서 김첨지는 치삼의 어깨를 치며 문득 껄껄 웃는다. 그 웃음 소리가 어떻게 컸던지 술집에 있는 이의 눈은 모두 김첨지에게로 몰리 었다. 웃는 이는 더욱 웃으며,', '★문단시작★\"여보게 치삼이, 내 우스운 이야기 하나 할까. 오늘 손을 태고 정거장에 가지 않았겠나.\"', '★문단시작★\"그래서.\"', '★문단시작★\"갔다가 그저 오기가 안됐데그려. 그래 전차 정류장에서 어름어름하며 손 님 하나를 태울 궁리를 하지 않았나. 거기 마침 마마님이신지 여학생이신지 (요새야 어디 다니와 아가씨를 구별할 수가 있던가) 망토를 잡수시고 비 를 맞고 서 있겠지. 슬슬 가까이 가서 인력거 타시랍시요 하고 손가방 을 받으랴니까 내 손을 탁 뿌리치고 홱 돌아서더니만 \\'왜 남을 이렇게 귀 찮게 굴어!\\' 그 소리야말로 꾀꼬리 소리지, 허허!\"'], ['★문단시작★김첨지는 취중에도 설렁탕을 사가지고 집에 다다랐다. 집이라 해도 물론 셋집이요 또 집 전체를 세든 게 아니라 안과 뚝 떨어진 행랑방 한 간을 빌 려 든 것인데 물을 길어 대고 한 달에 일 원씩 내는 터이다. 만일 김첨지가 주기를 띠지 않았던 한 발을 대문에 들여놓았을 제 그곳을 지배하는 무시 무시한 정적(靜寂) 폭풍우가 지나간 뒤의 바다 같은 정적이 다리가 떨렸 으리라. 쿨룩거리는 기침 소리도 들을 수 없다. 그르렁거리는 숨소리조차 들을 수 없다. 다만 이 무덤 같은 침묵을 깨뜨리는 깨뜨린다느니보다 한 층 더 침묵을 깊게 하고 불길하게 하는 빡빡 하는 그윽한 소리, 어린애의 젖 빠는 소리가 날 뿐이다. 만일 청각(聽覺)이 예민한 이 같으면 그 딱딱 소리는 빨 따름이요, 꿀떡꿀떡 하고 젖 넘어가는 소리가 없으니 빈 젖을 빤 다는 것도 짐작할는지 모르리라.', '★문단시작★혹은 김첨지도 이 불길한 침묵을 짐작했는지도 모른다. 그렇지 않으면 대 문에 들어서자마자 전에 없이,', '★문단시작★\"이 난장맞을 년, 남편이 들어오는데 나와 보지도 않아, 이 오라질 년.\" 이라고 고함을 친 게 수상하다. 이 고함이야말로 제 몸을 엄습해 오는 무시 무시한 증을 쫓아 버리려는 허장성세인 까닭이다.', '★문단시작★하여간 김첨지는 방문을 왈칵 열었다. 구역을 나게 하는 추기 - 떨어진 삿자리 밑에서 나온 먼지내 빨지 않은 기저귀에서 나는 똥내와 오줌내 가지 각색 때가 켜켜이 앉은 옷내 병인의 땀 썩은 내가 섞인 추기가 무딘 김첨지 의 코를 찔렀다.', '★문단시작★방 안에 들어서며 설렁탕을 한구석에 놓을 사이도 없이 주정꾼은 목청을 있는 대로 다 내어 호통을 쳤다.', '★문단시작★\"이런 오라질 년, 주야장천 누워만 있으면 제일이야. 남편이 와도 일어나 지를 못해.\"', '★문단시작★라는 소리와 함께 발길로 누운 이의 다리를 몹시 찼다. 그러나 발길에 채이 는 건 사람의 살이 아니고 나무등걸과 같은 느낌이 있었다. 이때에 빽 소 리가 응아 소리로 변하였다. 개똥이가 물었던 젖을 떼어 놓고 운다. 운대도 온 얼굴을 찡그려 붙여서 운다는 표정을 할 뿐이다. 응아 소리도 입에서 나 는 게 아니고 마치 뱃속에서 나는 듯하였다. 울다가 울다가 목도 잠겼고 또 울 기운조차 시진한 것 같다.', '★문단시작★발로 차도 그 보람이 없는 걸 보자 남편은 아내의 머리맡으로 달려들어 그 야말로 까치집 같은 환자의 머리를 꺼들어 흔들며,', '★문단시작★\"이년아, 말을 해, 말을! 입이 붙었어, 이 오라질 년!\"'], ['★문단시작★김첨지는 교묘하게도 정말 꾀꼬리 같은 소리를 내었다. 모든 사람은 일시 에 웃었다.', '★문단시작★\"빌어먹을 깍쟁이 같은 년, 누가 저를 어쩌나, \\'왜 남을 귀찮게 굴어!\\' 어이구 소리가 처신도 없지, 허허.\"', '★문단시작★웃음 소리들은 높아졌다. 그러나 그 웃음 소리들이 사라도 지기 전에 김첨 지는 훌쩍훌쩍 울기 시작하였다.', '★문단시작★치삼은 어이없이 주정뱅이를 바라보며,', '★문단시작★\"금방 웃고 지랄을 하더니 우는 건 또 무슨 일인가.\"', '★문단시작★김첨지는 연해 코를 들이마시며,', '★문단시작★\"우리 마누라가 죽었다네.\"', '★문단시작★\"뭐, 마누라가 죽다니, 언제?\"', '★문단시작★\"이놈아 언제는, 오늘이지.\"', '★문단시작★\"엣기 미친놈, 거짓말 말아.\"', '★문단시작★\"거짓말은 왜, 참말로 죽었어, 참말로', '★문단시작★고 내가 술을 먹다니, 내가 죽일 놈이야. 죽일 놈이야.\"', '★문단시작★하고 김첨지는 엉엉 소리를 내어 운다.', '★문단시작★마누라 시체를 집에 빼들쳐 놓', '★문단시작★치삼은 흥이 조금 깨어지는 얼굴로,', '★문단시작★\"원 이 사람이 참말을 하나 거짓말을 하나. 그러면 집으로 가세, 가.\"', '★문단시작★하고 우는 이의 팔을 잡아당기었다.', '★문단시작★치삼의 끄는 손을 뿌리치더니 김첨지는 눈물이 글썽글썽한 눈으로 싱그레 웃는다.', '★문단시작★\"죽기는 누가 죽어.\"', '★문단시작★하고 득의가 양양.', '★문단시작★\"죽기는 왜 죽어, 생때같이 살아만 있단다. 그 오라질 년이 밥을 죽이지.', '★문단시작★인제 나한테 속았다.\"', '★문단시작★하고 어린애 모양으로 손뼉을 치며 웃는다.', '★문단시작★“이 사람이 정말 미쳤단 말인가. 나도 아주먼네가 않는단 말은 들었는', '★문단시작★데.”', '★문단시작★하고 치삼이도 어느 불안을 느끼는 듯이 김첨지에게 또 돌아가라고 권하였 다.', '★문단시작★\"안 죽었어, 안 죽었대도 그래.\"', '★문단시작★김첨지는 화증을 내며 확신 있게 소리를 질렀으되 그 소리엔 안 죽은 것을 믿으려고 애쓰는 가락이 있었다. 기어이 일 원 어치를 채워서 곱배기 한 잔 씩 더 먹고 나왔다. 궂은비는 의연히 추적추적 내린다.'], ['★문단시작★운수 좋은날', '★문단시작★현진건', '★문단시작★새침하게 흐린 품이 눈이 올 듯하더니 눈은 아니 오고 얼다가 만 비가 추 적추적 내리는 날이었다.', '★문단시작★이날이야말로 동소문 안에서 인력거꾼 노릇을 하는 김첨지에게는 오래간만 에도 닥친 운수 좋은 날이었다. 문안에 거기도 문밖은 아니지만 들어간답 시는 앞집 마마님을 전찻길까지 모셔다 드린 것을 비롯으로 행여나 손님이 있을까 하고 정류장에서 어정어정하며 내리는 사람 하나하나에게 거의 비는 듯한 눈결을 보내고 있다가 마침내 교원인 듯한 양복쟁이를 동광학교(東光 學校)까지 태워다 주기로 되었다.', '★문단시작★첫 번에 삼십전, 둘째 번에 오십전 - 아침 댓바람에 그리 흉치 않은 일이 었다. 그야말로 재수가 옴불어서 근 열흘 동안 돈 구경도 못한 김첨지는 십 전짜리 백동화 서 푼, 또는 다섯 푼이 찰깍 하고 손바닥에 떨어질 제 거의 눈물을 흘릴 만큼 기뻤었다. 더구나 이날 이때에 이 팔십 전이라는 돈이 그 에게 얼마나 유용한지 몰랐다. 컬컬한 목에 모주 한 잔도 적실 수 있거니와 그보다도 앓는 아내에게 설렁탕 한 그릇도 사다 줄 수 있음이다.', '★문단시작★그의 아내가 기침으로 쿨룩거리기는 벌써 달포가 넘었다. 조밥도 굶기를 먹다시피 하는 형편이니 물론 약 한 첩 써본 일이 없다. 구태여 쓰려면 못 쓸 바도 아니로되 그는 병이란 놈에게 약을 주어 보내면 재미를 붙여서 자 꾸 온다는 자기의 신조(信)에 어디까지 충실하였다. 따라서 의사에게 보 인 적이 없으니 무슨 병인지는 알 수 없으되 반듯이 누워 가지고 일어나기 는 새로 모로도 못 눕는 걸 보면 중증은 중증인 듯. 병이 이대도록 심해지 기는 열흘전에 조밥을 먹고 체한 때문이다. 그때도 김첨지가 오래간만에 돈 을 얻어서 좁쌀 한 뇌와 십 전짜리 나무 한 단을 사다 주었더니 김첨지의 말에 의지하면 그 오라질 년이 천방지축으로 냄비에 대고 끓였다. 마음은 급하고 불길은 달지 않아 채 익지도 않은 것을 그 오라질년이 숟가락은 고 만두고 손으로 움켜서 두 뺨에 주먹덩이 같은 혹이 불거지도록 누가 빼앗을 듯이 처박질하더니만 그날 저녁부터 가슴이 땡긴다. 배가 켕긴다고 눈을 흡 뜨고 지랄병을 하였다. 그때 김첨지는 열화와 같이 성을 내며,', '★문단시작★“에이, 오라질년, 조랑복은 할 수가 없어, 못 먹어 병, 먹어서 병! 어쩌 란 말이야! 왜 눈을 바루 뜨지 못해!\"', '★문단시작★하고 앓는 이의 뺨을 한 번 후려갈겼다. 흡뜬 눈은 조금 바루어졌건만 이슬'], ['★문단시작★의 기색을 살피며,', '★문단시작★\"아씨, 정거장 애들보담 아주 싸게 모셔다 드리겠습니다. 댁이 어디신가 요.\"', '★문단시작★하고 추근추근하게도 그 여자의 들고 있는 일본식 버들고리짝에 제 손을 대 었다.', '★문단시작★\"왜 이래, 남 귀치않게.\"', '★문단시작★소리를 벽력같이 지르고는 돌아선다. 김첨지는 어랍시요 하고 물러섰다. 전차는 왔다. 김첨지는 원망스럽게 전차 타는 이를 노리고 있었다. 그러나 그의 예감은 틀리지 않았다. 전차가 빡빡하게 사람을 싣고 움직이기 시작하였을 제 타고 남은 손 하나가 있었다. 굉장하게 큰 가방을 들고 있는 걸 보면 아마 붐비는 차 안에 짐이 크다 하여 차장에게 밀려 내려온 눈치였 다. 김첨지는 대어섰다.', '★문단시작★\"인력거를 타시랍시요.\"', '★문단시작★한동안 값으로 승강이를 하다가 육십 전에 인사동까지 태워다 주기로 하였 다. 인력거가 무거워지매 그의 몸은 이상하게도 가벼워졌고 그리고 또 인력 거가 가벼워지니 몸은 다시금 무거워졌건만 이번에는 마음조차 초조해 온 다. 집의 광경이 자꾸 눈앞에 어른거리어 인제 요행을 바랄 여유도 없었다. 나무 등걸이나 무엇 같고 제 것 같지도 않은 다리를 연해 꾸짖으며 질팡갈 팡 뛰는 수밖에 없었다. 저놈의 인력거꾼이 저렇게 술이 취해 가지고 이 진 땅에 어찌 가노, 라고 길 가는 사람이 걱정을 하리만큼 그의 걸음은 황급하 였다. 흐리고 비 오는 하늘은 어둠침침하게 벌써 황혼에 가까운 듯하다. 창 경원 앞까지 다다라서야 그는 턱에 닿은 숨을 돌리고 걸음도 늦추잡았다. 한 걸음 두 걸음 집이 가까워 갈수록 그의 마음조차 괴상하게 누그러웠다. 그런데 이 누그러움은 안심에서 오는 게 아니요 자기를 덮친 무서운 불행을 빈틈없이 알게 될 때가 박두한 것을 두리는 마음에서 오는 것이다. 그는 불 행에 다닥치기 전 시간을 얼마쯤이라도 늘이려고 버르적거렸다. 기적(奇蹟) 에 가까운 벌이를 하였다는 기쁨을 할 수 있으면 오래 지니고 싶었다. 그는 두리번두리번 사면을 살피었다. 그 모양은 마치 자기 집 곧 불행을 향하 고 달아가는 제 다리를 제 힘으로는 도저히 어찌할 수 없으니 누구든지 나 를 좀 잡아 다고, 구해 다고 하는 듯하였다.', '★문단시작★그럴 즈음에 마침 길가 선술집에서 그의 친구 치삼이가 나온다. 그의 우글 우글 살찐 얼굴에 주홍이 덧는 듯, 온 턱과 뺨을 시커멓게 구레나룻이 덮였 거늘 노르탱탱한 얼굴이 바짝 말라서 여기저기 고랑이 패고 수염도 있대야 턱밑에만 마치 솔잎 송이를 거꾸로 붙여 놓은 듯한 김첨지의 풍채 하고는 기']]\n"
          ]
        }
      ]
    },
    {
      "cell_type": "markdown",
      "source": [
        "## 요약모델"
      ],
      "metadata": {
        "id": "oqsQ05SLeVKQ"
      }
    },
    {
      "cell_type": "code",
      "source": [
        "# # 모델 불러오기\n",
        "# %cd /content\n",
        "# !gdown 1T_dCqTY0RXp9qR3Wlk9i3k9x4iMLR490\n",
        "# #아래 링크에서 폴더 다운로드 or 서버의 '/home/alpaco/hw/KoBART-summarization/kobart_summary' 폴더 다운받기\n",
        "# #https://drive.google.com/drive/folders/1kncgLWMal5TtnDPPPaswmRkw1k18Jcsa?usp=drive_link"
      ],
      "metadata": {
        "id": "9Fg7Ti851XiO",
        "colab": {
          "base_uri": "https://localhost:8080/"
        },
        "outputId": "6c4722bc-5e57-4db2-aa93-fc0284dcd4e6"
      },
      "execution_count": null,
      "outputs": [
        {
          "output_type": "stream",
          "name": "stdout",
          "text": [
            "/content\n",
            "Downloading...\n",
            "From: https://drive.google.com/uc?id=1T_dCqTY0RXp9qR3Wlk9i3k9x4iMLR490\n",
            "To: /content/kobart_summary.zip\n",
            "100% 460M/460M [00:06<00:00, 68.1MB/s]\n"
          ]
        }
      ]
    },
    {
      "cell_type": "code",
      "source": [
        "# # unzip\n",
        "# import zipfile\n",
        "# import os\n",
        "# os.mkdir('/content/kobart_summary')\n",
        "# with zipfile.ZipFile('/content/kobart_summary.zip') as f:\n",
        "#     f.extractall(path ='/content/kobart_summary')"
      ],
      "metadata": {
        "id": "xxZZwMivzXBS"
      },
      "execution_count": null,
      "outputs": []
    },
    {
      "cell_type": "code",
      "source": [
        "import torch\n",
        "from transformers import PreTrainedTokenizerFast\n",
        "from transformers.models.bart import BartForConditionalGeneration, BartForCausalLM\n",
        "\n",
        "# 모델과 토크나이저 로드\n",
        "# model = BartForConditionalGeneration.from_pretrained('/content/kobart_summary')\n",
        "model = BartForConditionalGeneration.from_pretrained('/content/drive/MyDrive/KoBART-summarization/kobart_summary')\n",
        "tokenizer = PreTrainedTokenizerFast.from_pretrained('gogamza/kobart-base-v1')"
      ],
      "metadata": {
        "colab": {
          "base_uri": "https://localhost:8080/",
          "height": 182,
          "referenced_widgets": [
            "7aff0daf509e49c494f417b5a886e41e",
            "5bea5a1c797844798dcbf23203a673ac",
            "afb86cfc28224f75a8feb8b32b3e4371",
            "65515b7135b74c6a93f9b7609432da31",
            "fc7505745f0746d1aa56624840edfa0f",
            "aa916c809dfc4e118582c35c6ca40fdf",
            "9cc9c7f3578641c7921fb330ebb3306b",
            "8bbc5600c66f4f7097c2c7f841de3dab",
            "484a4e234b3146919e44f3467ee96378",
            "a9a29697e30a4f38966746bfff2c9103",
            "550d932ab22c4561b6d16a80a2d6b74e",
            "8d2855aad8744aa5ae0c7b6327bb23b0",
            "cc215bdcf28147399230cba02a746d1c",
            "61fc3dc724c0478eac6daae6d97d783f",
            "6ae43e7eab8e4ba4bd18c012582a25a1",
            "5e2425d0f14847658226226d3417c7d8",
            "68d13a5490004c1e88c594d1b15e16c3",
            "6cbe765330584622934fa6d32385ba30",
            "cf5d97389e174f7a858aed61f0b3d09c",
            "5d31c497b01246f99522f4082897584a",
            "d89bcf66e49e457ab0eca707b87fa410",
            "c3f1139fb1884068865bad5cc7e627cf",
            "2a2b8e033cbf434db0cf8ae53412f32c",
            "0b43b90e8f97432d94db62bd3a7bed45",
            "6de9c2c29bda4d038f2f7afb606cc042",
            "2ffe1a777c9944fca4b01f4ede1dac46",
            "424fff79ec9346ee9e70e6294ede4495",
            "bf1a32c20e1f4ccaba1048163440e21a",
            "a18b45b35116431894be8eeeb39294c5",
            "2dd9c19c1ba741b3a6347d62be029879",
            "4800f36c35854724ba48ae1325c8e6fc",
            "7ef2fc71f1264c27af957e99ce7075ba",
            "4bd212d5d7254c08accb294327f79b28",
            "b90d619bf7524f7b990a93eded342a83",
            "5c94558ade914e6698544436fbcc6785",
            "1ec967577be149398c9d86d877c21b2f",
            "d1f80637f51a4ba89d7cae37d1d3983c",
            "95b51485db794a86872342cd64b0cc9f",
            "6f6b0877342043d2b28c1f4a91e5ad85",
            "9c97a756b2084c7d977d2aa57b90445e",
            "40f4f8ffdd4d4b899e4c25f5632c9e3e",
            "fe66455dfbfa40f58e4d4746f405f576",
            "fea4b5b9f59c4aa0ae80a8386c80016b",
            "d9530f46b3704c0abe45f9adee7be27d"
          ]
        },
        "id": "MbhtDtRjfh35",
        "outputId": "21ca3857-b5ff-4071-8d39-32e5520e9e03"
      },
      "execution_count": null,
      "outputs": [
        {
          "output_type": "stream",
          "name": "stderr",
          "text": [
            "You passed along `num_labels=3` with an incompatible id to label map: {'0': 'NEGATIVE', '1': 'POSITIVE'}. The number of labels wil be overwritten to 2.\n"
          ]
        },
        {
          "output_type": "display_data",
          "data": {
            "text/plain": [
              "Downloading (…)/main/tokenizer.json:   0%|          | 0.00/682k [00:00<?, ?B/s]"
            ],
            "application/vnd.jupyter.widget-view+json": {
              "version_major": 2,
              "version_minor": 0,
              "model_id": "7aff0daf509e49c494f417b5a886e41e"
            }
          },
          "metadata": {}
        },
        {
          "output_type": "display_data",
          "data": {
            "text/plain": [
              "Downloading (…)in/added_tokens.json:   0%|          | 0.00/4.00 [00:00<?, ?B/s]"
            ],
            "application/vnd.jupyter.widget-view+json": {
              "version_major": 2,
              "version_minor": 0,
              "model_id": "8d2855aad8744aa5ae0c7b6327bb23b0"
            }
          },
          "metadata": {}
        },
        {
          "output_type": "display_data",
          "data": {
            "text/plain": [
              "Downloading (…)cial_tokens_map.json:   0%|          | 0.00/111 [00:00<?, ?B/s]"
            ],
            "application/vnd.jupyter.widget-view+json": {
              "version_major": 2,
              "version_minor": 0,
              "model_id": "2a2b8e033cbf434db0cf8ae53412f32c"
            }
          },
          "metadata": {}
        },
        {
          "output_type": "display_data",
          "data": {
            "text/plain": [
              "Downloading (…)lve/main/config.json:   0%|          | 0.00/1.36k [00:00<?, ?B/s]"
            ],
            "application/vnd.jupyter.widget-view+json": {
              "version_major": 2,
              "version_minor": 0,
              "model_id": "b90d619bf7524f7b990a93eded342a83"
            }
          },
          "metadata": {}
        },
        {
          "output_type": "stream",
          "name": "stderr",
          "text": [
            "You passed along `num_labels=3` with an incompatible id to label map: {'0': 'NEGATIVE', '1': 'POSITIVE'}. The number of labels wil be overwritten to 2.\n"
          ]
        }
      ]
    },
    {
      "cell_type": "code",
      "source": [
        "# 파일 여러개라 생긴 이중 리스트 통합\n",
        "paragraphs = sum(paragraphs,[])\n",
        "paragraphs"
      ],
      "metadata": {
        "colab": {
          "base_uri": "https://localhost:8080/"
        },
        "id": "94lNG-X3Q_2-",
        "outputId": "a178e70c-91cd-4b1b-ed04-3711a166fc37"
      },
      "execution_count": null,
      "outputs": [
        {
          "output_type": "execute_result",
          "data": {
            "text/plain": [
              "['★문단시작★이 맺히었다. 김첨지의 눈시울도 뜨끈뜨끈하였다.',\n",
              " '★문단시작★이 환자가 그러고도 먹는 데는 물리지 않았다. 사흘 전부터 설렁탕 국물이 마시고 싶다고 남편을 졸랐다.',\n",
              " '★문단시작★\"이런 오라질 년! 조밥도 못 먹는 년이 설렁탕은 또 처먹고 지랄병을 하 게.\"',\n",
              " '★문단시작★라고, 야단을 쳐보았건만, 못 사주는 마음이 시원치는 않았다.',\n",
              " '★문단시작★인제 설렁탕을 사줄 수도 있다. 앓는 어미 곁에서 배고파 보채는 개똥이 (세살먹이)에게 죽을 사줄 수도 있다 - 팔십 전을 손에 쥔 김 첨지의 마음 은 푼푼하였다.',\n",
              " '★문단시작★그러나 그의 행운은 그걸로 그치지 않았다. 땀과 빗물이 섞여 흐르는 목덜 미를 기름주머니가 다된 왜목 수건으로 닦으며, 그 학교 문을 돌아 나올 때 였다. 뒤에서 \"인력거!\" 하고 부르는 소리가 난다. 자기를 불러 멈춘 사 람이 그 학교 학생인 줄 김첨지는 한번 보고 짐작할 수 있었다. 그 학생은 다짜고짜로,',\n",
              " '★문단시작★\"남대문 정거장까지 얼마요.\"',\n",
              " '★문단시작★라고 물었다. 아마도 그 학교 기숙사에 있는 이로 동기방학을 이용하여 귀 향하려 함이리라. 오늘 가기로 작정은 하였건만 비는 오고, 짐은 있고 해서 어찌할 줄 모르다가 마침 김첨지를 보고 뛰어나왔음이리라. 그렇지 않으면 왜 구두를 채 신지 못해서 질질 끌고, 비록 고구라 양복일망정 노박이로 비 를 맞으며 김첨지를 뒤쫓아 나왔으랴.',\n",
              " '★문단시작★\"남대문 정거장까지 말씀입니까.\"',\n",
              " '★문단시작★하고 김첨지는 잠깐 주저하였다. 그는 이 우중에 우장도 없이 그 먼 곳을 철벅거리고 가기가 싫었음일까? 처음 것 둘째 것으로 고만 만족하였음일까? 아니다 결코 아니다. 이상하게도 꼬리를 맞물고 덤비는 이 행운 앞에 조금 겁이 났음이다. 그리고 집을 나올 제 아내의 부탁이 마음이 켕기었다 - 앞 집 마마님한테서 부르러 왔을 제 병인은 뼈만 남은 얼굴에 유일의 샘물 같 은 유달리 크고 움푹한 눈에 애걸하는 빛을 띄우며,',\n",
              " '★문단시작★\"오늘은 나가지 말아요. 제발 덕분에 집에 붙어 있어요. 내가 이렇게 아 픈데・・・・・..\"',\n",
              " '★문단시작★라고, 모기 소리같이 중얼거리고 숨을 걸그렁걸그렁하였다. 그때에 김첨지 는 대수롭지 않은듯이,',\n",
              " '★문단시작★\"아따, 젠장맞을 년, 별 빌어먹을 소리를 다 하네. 맞붙들고 앉았으면 누',\n",
              " '★문단시작★가 먹여 살릴 줄 알아.\"',\n",
              " '★문단시작★하고 훌쩍 뛰어나오려니까 환자는 붙잡을 듯이 팔을 내저으며,',\n",
              " '★문단시작★니 김첨지는 인력거를 쥔 채 길 한복판에 엉거주춤 멈춰 있지 않은가.',\n",
              " '★문단시작★“예, 예.\"',\n",
              " '★문단시작★하고, 김첨지는 또다시 달음질하였다. 집이 차차 멀어 갈수록 김첨지의 걸 음에는 다시금 신이 나기 시작하였다. 다리를 재게 놀려야만 쉴새없이 자기 의 머리에 떠오르는 모든 근심과 걱정을 잊을 듯이.',\n",
              " '★문단시작★정거장까지 끌어다 주고 그 깜짝 놀란 일 원 오십 전을 정말 제 손에 쥐에 제 말마따나 심리나 되는 길을 비를 맞아 가며 질퍽거리고 온 생각은 아니 하고 거저나 얻은 듯이 고마웠다. 졸부나 된 듯이 기뻤다. 제 자식뻘밖에 안 되는 어린 손님에게 몇 번 허리를 굽히며,',\n",
              " '★문단시작★\"안녕히 다녀옵시요.\"',\n",
              " '★문단시작★라고 깍듯이 재우쳤다.',\n",
              " '★문단시작★그러나 빈 인력거를 털털거리며 이 우중에 돌아갈 일이 꿈밖이었다. 노동 으로 하여 흐른 땀이 식어지자 굶주린 창자에서, 물 흐르는 옷에서 어슬어 슬 한기가 솟아나기 비롯하매 일 원 오십 전이란 돈이 얼마나 괜찮고 괴로 운 것인 줄 절절히 느끼었다. 정거장을 떠나는 그의 발길은 힘 하나 없었 다. 온몸이 옹송그려지며 당장 그 자리에 엎어져 못 일어날 것 같았다.',\n",
              " '★문단시작★\"젠장맞을 것, 이 비를 맞으며 빈 인력거를 털털거리고 돌아를 간담. 이 런 빌어먹을 제 할미를 붙을 비가 왜 남의 상관을 딱딱 때려!\"',\n",
              " '★문단시작★그는 몹시 화증을 내며 누구에게 반항이나 하는 듯이 게걸거렸다. 그럴 즈 음에 그의 머리엔 또 새로운 광명이 비쳤나니 그것은 이러구 갈 게 아니 라 이 근처를 빙빙 돌며 차 오기를 기다리면 또 손님을 태우게 될는지도 몰 라\\' 란 생각이었다. 오늘 운수가 괴상하게도 좋으니까 그런 요행이 또 한번 없으리라고 누가 보증하랴. 꼬리를 굴리는 행운이 꼭 자기를 기다리고 있다 고 내기를 해도 좋을 만한 믿음을 얻게 되었다. 그렇다고 정거장 인력거꾼 의 등쌀이 무서우니 정거장 앞에 섰을 수는 없었다. 그래 그는 이전에도 여 러 번 해본 일이라 바로 정거장 앞 전차 정류장에서 조금 떨어지게 사람 다 니는 길과 전찻길 틈에 인력거를 세워 놓고 자기는 그 근처를 빙빙 돌며 형 세를 관망하기로 하였다. 얼마 만에 기차는 왔고 수십 명이나 되는 손이 정 류장으로 쏟아져 나왔다. 그 중에서 손님을 물색하는 김첨지의 눈엔 양머리 에 뒤축 높은 구두를 신고 망토까지 두른 기생 퇴물인 듯 난봉 여학생인 듯 한 여편네의 모양이 띄었다. 그는 슬근슬근 그 여자의 곁으로 다가들었다. \"아씨, 인력거 아니 타시랍시요.\"',\n",
              " '★문단시작★그 여학생인지 만지가 한참은 매우 때깔을 빼며 입술을 꼭 다문 채 김첨지 를 거들떠보지도 않았다. 김첨지는 구걸하는 거지나 무엇같이 연해 연방 그',\n",
              " '★문단시작★\"으응, 이것 봐, 아무 말이 없네.\"',\n",
              " '★문단시작★\"이년아 죽었단 말이냐, 왜 말이 없어.\"',\n",
              " '★문단시작★\"으응, 또 대답이 없네. 정말 죽었나 버이.\"',\n",
              " '★문단시작★이러다가 누운 이의 흰 창을 덮은 위로 치뜬 눈을 알아보자마자,',\n",
              " '★문단시작★\"이 눈깔! 이 눈깔! 왜 나를 바라보지 못하고 천장만 보느냐, 응.\"',\n",
              " '★문단시작★하는 말 끝엔 목이 메였다. 그러자 산 사람의 눈에서 떨어진 닭의 똥 같은 눈물이 죽은 이의 뻣뻣한 얼굴을 어어 적시었다. 문득 김첨지는 미친 듯이 제 얼굴을 죽은 이의 얼굴에 한데 비비대며 중얼거렸다.',\n",
              " '★문단시작★\"설렁탕을 사다 놓았는데 왜 먹지를 못하니, 왜 먹지를 못하니・・・・・・ 괴상 하게도 오늘은! 운수가 좋더니만……….”',\n",
              " '★문단시작★\"나가지 말라도 그래, 그러면 일찍이 들어와요.\"',\n",
              " '★문단시작★하고, 목메인 소리가 뒤를 따랐다.',\n",
              " '★문단시작★정거장까지 가잔 말을 들은 순간에 경련적으로 떠는 손 유달리 큼직한 눈',\n",
              " '★문단시작★울 듯한 아내의 얼굴이 김첨지의 눈앞에 어른어른하였다.',\n",
              " '★문단시작★\"그래 남대문 정거장까지 얼마란 말이요?\"',\n",
              " '★문단시작★하고 학생은 초조한 듯이 인력거꾼의 얼굴을 바라보며 혼자말같이,',\n",
              " '★문단시작★\"인천 차가 열한 점에 있고 그 다음에는 새로 두 점이든가.\"',\n",
              " '★문단시작★라고 중얼거린다.',\n",
              " '★문단시작★\"일 원 오십 전만 줍시요.\"',\n",
              " '★문단시작★이 말이 저도 모를 사이에 불쑥 김첨지의 입에서 떨어졌다. 제 입으로 부 르고도 스스로 그 엄청난 돈 액수에 놀랐다. 한꺼번에 이런 금액을 불러라 도 본 지가 그 얼마 만인가! 그러자 그 돈벌 용기가 병자에 대한 염려를 사 르고 말았다. 설마 오늘 내로 어떠랴 싶었다. 무슨 일이 있더라도 제일 제 이의 행운을 곱친 것보다고 오히려 갑절이 많은 이 행운을 놓칠 수 없다 하 였다.',\n",
              " '★문단시작★\"일 원 오십 전은 너무 과한데.\"',\n",
              " '★문단시작★이런 말을 하며 학생은 고개를 기웃하였다.',\n",
              " '★문단시작★\"아니올시다. 잇수로 치면 여기서 거기가 시오 리가 넘는답니다. 또 이런',\n",
              " '★문단시작★진날은 좀 더 주셔야지요.\"',\n",
              " '★문단시작★하고 빙글빙글 웃는 차부의 얼굴에는 숨길 수 없는 기쁨이 넘쳐흘렀다.',\n",
              " '★문단시작★\"그러면 달라는 대로 줄 터이니 빨리 가요.\"',\n",
              " '★문단시작★관대한 어린 손님은 이런 말을 남기고 총총히 옷도 입고 짐도 챙기러 갈 데로 갔다.',\n",
              " '★문단시작★그 학생을 태우고 나선 김첨지의 다리는 이상하게 거뿐하였다. 달음질을 한다느니보다 거의 나는 듯하였다. 바퀴도 어떻게 속히 도는지 구른다느니 보다 마치 얼음을 지쳐 나가는 스케이트 모양으로 미끄러져 가는 듯하였다. 언 땅에 비가 내려 미끄럽기도 하였지만.',\n",
              " '★문단시작★이윽고 끄는 이의 다리는 무거워졌다. 자기 집 가까이 다다른 까닭이다. 새삼스러운 염려가 그의 가슴을 눌렀다. “오늘은 나가지 말아요, 내가 이 렇게 아픈데 이런 말이 잉잉 그의 귀에 울렸다. 그리고 병자의 움쑥 들어 간 눈이 원망하는 듯이 자기를 노리는 듯하였다. 그러자 엉엉 하고 우는 개 똥이의 곡성을 들은 듯싶다. 딸국딸국 하고 숨 모으는 소리도 나는 듯싶다. \"왜 이리우, 기차 놓치겠구먼.\"',\n",
              " '★문단시작★하고 탄 이의 초조한 부르짖음이 간신히 그의 귀에 들어왔다. 언뜻 깨달으',\n",
              " '★문단시작★이한 대상을 짓고 있었다.',\n",
              " '★문단시작★\"여보게 김첨지, 자네 문안 들어갔다 오는 모양일세그려. 돈 많이 벌었을 테니 한잔 빨리게.\"',\n",
              " '★문단시작★뚱뚱보는 말라깽이를 보던 밑에 부르짖었다. 그 목소리는 몸집과 딴판으로 연하고 싹싹하였다. 김첨지는 이 친구를 만난 게 어떻게 반가운지 몰랐다. 자기를 살려 준 은인이나 무엇같이 고맙기도 하였다.',\n",
              " '★문단시작★“자네는 벌써 한잔한 모양일세그려. 자네도 오늘 재미가 좋아 보이.\" 하고 김첨지는 얼굴을 펴서 웃었다.',\n",
              " '★문단시작★\"아따, 재미 안 좋다고 술 못 먹을 낸가. 그런데 여보게, 자네 왼몸이 어 째 물독에 빠진 새앙쥐 같은가. 어서 이리 들어와 말리게.\"',\n",
              " '★문단시작★선술집은 훈훈하고 뜨뜻하였다. 추어탕을 끓이는 솥뚜껑을 열 적마다 뭉게 뭉게 떠오르는 흰김 석쇠에서 빼지짓빼지짓 구워지는 너비아니구이며 제육 이며 간이며 콩팥이며 북어며 빈대떡이 너저분하게 늘어놓인 안주 탁자 에 김첨지는 갑자기 속이 쓰려서 견딜 수 없었다. 마음대로 할 양이면 거기 있는 모든 먹음먹이를 모조리 깡그리 집어삼켜도 시원치 않았다 하되 배고 픈 이는 위선 분량 많은 빈대떡 두 개를 쪼이기도 하고 추어탕을 한 그릇 청하였다. 주린 창자는 음식맛을 보더니 더욱더욱 비어지며 자꾸자꾸 들이 라 들이라 하였다. 순식간에 두부와 미꾸리 든 국 한 그릇을 그냥 물같이 들이켜고 말았다. 셋째 그릇을 받아 들었을 제 데우던 막걸리 곱배기 두 잔 이 더웠다. 치삼이와 같이 마시자 원원이 비었던 속이라 찌르를 하고 창자 에 퍼지며 얼굴이 화끈하였다. 눌러 곱배기 한 잔을 또 마셨다.',\n",
              " '★문단시작★김첨지의 눈은 벌써 개개 풀리기 시작하였다. 석쇠에 얹힌 떡 두 개를 숨 덩숭덩 썰어서 볼을 불룩거리며 또 곱배기 두 잔을 부어라 하였다.',\n",
              " '★문단시작★치삼은 의아한 듯이 김첨지를 보며,',\n",
              " '★문단시작★\"여보게 또 붓다니, 벌써 우리가 넉 잔씩 먹었네, 돈이 사십 전일세.\"',\n",
              " '★문단시작★라고 주의시켰다.',\n",
              " '★문단시작★\"아따 이놈아, 사실 전이 그리 끔찍하냐. 오늘 내가 돈을 막 벌었어. 참 오늘 운수가 좋았느니.\"',\n",
              " '★문단시작★\"그래 얼마를 벌었단 말인가.\"',\n",
              " '★문단시작★\"삼십 원을 벌었어, 삼십 원을! 이런 젠장맞을 술을 왜 안 부어・・・・・・ 괜찮',\n",
              " '★문단시작★다 괜찮다, 막 먹어도 상관이 없어. 오늘 돈 산더미같이 벌었는데.\"',\n",
              " '★문단시작★\"어, 이 사람 취했군, 그만두세.\"',\n",
              " '★문단시작★\"이놈아, 그걸 먹고 취할 내냐, 어서 더 먹어.\"',\n",
              " '★문단시작★하고는 치삼의 귀를 잡아 치며 취한 이는 부르짖었다. 그리고 술을 붓는 열',\n",
              " '★문단시작★다섯 살 됨직한 중대가리에게로 달려들며,',\n",
              " '★문단시작★\"이놈, 오라질 놈, 왜 술을 붓지 않어.\"',\n",
              " '★문단시작★라고 야단을 쳤다. 중대가리는 희희 웃고 치삼을 보며 문의하는 듯이 눈짓 을 하였다. 주정꾼이 이 눈치를 알아보고 화를 버럭 내며,',\n",
              " '★문단시작★\"에미를 붙을 이 오라질 놈들 같으니, 이놈 내가 돈이 없을 줄 알고.” 하자마자 허리춤을 훔칫흠칫하더니 일 원짜리 한 장을 꺼내어 중대가리 앞 에 펄쩍 집어던졌다. 그 사품에 몇 푼 은전이 잘그랑 하며 떨어진다.',\n",
              " '★문단시작★\"여보게 돈 떨어졌네, 왜 돈을 막 끼얹나.\"',\n",
              " '★문단시작★이런 말을 하며 일변 돈을 줍는다. 김첨지는 취한 중에도 돈의 거처를 살 피는 듯이 눈을 크게 떠서 땅을 내려다보다가 불시에 제 하는 짓이 너무 더 럽다는 듯이 고개를 소스라치자 더욱 성을 내며,',\n",
              " '★문단시작★“봐라 봐! 이 더러운 놈들아, 내가 돈이 없나, 다리뼉다구를 꺾어 놓을 놈들 같으니.\"',\n",
              " '★문단시작★하고 치삼의 주워 주는 돈을 받아,',\n",
              " '★문단시작★\"이 원수엣돈! 이 육시를 할 돈!\"',\n",
              " '★문단시작★하면서 풀매질을 친다. 벽에 맞아 떨어진 돈은 다시 술 끓이는 양푼에 떨어 지며 정당한 매를 맞는다는 듯이 쨍 하고 울었다.',\n",
              " '★문단시작★곱배기 두 잔은 또 부어질 겨를도 없이 말려 가고 말았다. 김첨지는 입술 과 수염에 붙은 술을 빨아들이고 나서 매우 만족한 듯이 그 솔잎 송이 수염 을 쓰다듬으며,',\n",
              " '★문단시작★\"또 부어, 또 부어.\"',\n",
              " '★문단시작★라고 외쳤다.',\n",
              " '★문단시작★또 한 잔 먹고 나서 김첨지는 치삼의 어깨를 치며 문득 껄껄 웃는다. 그 웃음 소리가 어떻게 컸던지 술집에 있는 이의 눈은 모두 김첨지에게로 몰리 었다. 웃는 이는 더욱 웃으며,',\n",
              " '★문단시작★\"여보게 치삼이, 내 우스운 이야기 하나 할까. 오늘 손을 태고 정거장에 가지 않았겠나.\"',\n",
              " '★문단시작★\"그래서.\"',\n",
              " '★문단시작★\"갔다가 그저 오기가 안됐데그려. 그래 전차 정류장에서 어름어름하며 손 님 하나를 태울 궁리를 하지 않았나. 거기 마침 마마님이신지 여학생이신지 (요새야 어디 다니와 아가씨를 구별할 수가 있던가) 망토를 잡수시고 비 를 맞고 서 있겠지. 슬슬 가까이 가서 인력거 타시랍시요 하고 손가방 을 받으랴니까 내 손을 탁 뿌리치고 홱 돌아서더니만 \\'왜 남을 이렇게 귀 찮게 굴어!\\' 그 소리야말로 꾀꼬리 소리지, 허허!\"',\n",
              " '★문단시작★김첨지는 취중에도 설렁탕을 사가지고 집에 다다랐다. 집이라 해도 물론 셋집이요 또 집 전체를 세든 게 아니라 안과 뚝 떨어진 행랑방 한 간을 빌 려 든 것인데 물을 길어 대고 한 달에 일 원씩 내는 터이다. 만일 김첨지가 주기를 띠지 않았던 한 발을 대문에 들여놓았을 제 그곳을 지배하는 무시 무시한 정적(靜寂) 폭풍우가 지나간 뒤의 바다 같은 정적이 다리가 떨렸 으리라. 쿨룩거리는 기침 소리도 들을 수 없다. 그르렁거리는 숨소리조차 들을 수 없다. 다만 이 무덤 같은 침묵을 깨뜨리는 깨뜨린다느니보다 한 층 더 침묵을 깊게 하고 불길하게 하는 빡빡 하는 그윽한 소리, 어린애의 젖 빠는 소리가 날 뿐이다. 만일 청각(聽覺)이 예민한 이 같으면 그 딱딱 소리는 빨 따름이요, 꿀떡꿀떡 하고 젖 넘어가는 소리가 없으니 빈 젖을 빤 다는 것도 짐작할는지 모르리라.',\n",
              " '★문단시작★혹은 김첨지도 이 불길한 침묵을 짐작했는지도 모른다. 그렇지 않으면 대 문에 들어서자마자 전에 없이,',\n",
              " '★문단시작★\"이 난장맞을 년, 남편이 들어오는데 나와 보지도 않아, 이 오라질 년.\" 이라고 고함을 친 게 수상하다. 이 고함이야말로 제 몸을 엄습해 오는 무시 무시한 증을 쫓아 버리려는 허장성세인 까닭이다.',\n",
              " '★문단시작★하여간 김첨지는 방문을 왈칵 열었다. 구역을 나게 하는 추기 - 떨어진 삿자리 밑에서 나온 먼지내 빨지 않은 기저귀에서 나는 똥내와 오줌내 가지 각색 때가 켜켜이 앉은 옷내 병인의 땀 썩은 내가 섞인 추기가 무딘 김첨지 의 코를 찔렀다.',\n",
              " '★문단시작★방 안에 들어서며 설렁탕을 한구석에 놓을 사이도 없이 주정꾼은 목청을 있는 대로 다 내어 호통을 쳤다.',\n",
              " '★문단시작★\"이런 오라질 년, 주야장천 누워만 있으면 제일이야. 남편이 와도 일어나 지를 못해.\"',\n",
              " '★문단시작★라는 소리와 함께 발길로 누운 이의 다리를 몹시 찼다. 그러나 발길에 채이 는 건 사람의 살이 아니고 나무등걸과 같은 느낌이 있었다. 이때에 빽 소 리가 응아 소리로 변하였다. 개똥이가 물었던 젖을 떼어 놓고 운다. 운대도 온 얼굴을 찡그려 붙여서 운다는 표정을 할 뿐이다. 응아 소리도 입에서 나 는 게 아니고 마치 뱃속에서 나는 듯하였다. 울다가 울다가 목도 잠겼고 또 울 기운조차 시진한 것 같다.',\n",
              " '★문단시작★발로 차도 그 보람이 없는 걸 보자 남편은 아내의 머리맡으로 달려들어 그 야말로 까치집 같은 환자의 머리를 꺼들어 흔들며,',\n",
              " '★문단시작★\"이년아, 말을 해, 말을! 입이 붙었어, 이 오라질 년!\"',\n",
              " '★문단시작★김첨지는 교묘하게도 정말 꾀꼬리 같은 소리를 내었다. 모든 사람은 일시 에 웃었다.',\n",
              " '★문단시작★\"빌어먹을 깍쟁이 같은 년, 누가 저를 어쩌나, \\'왜 남을 귀찮게 굴어!\\' 어이구 소리가 처신도 없지, 허허.\"',\n",
              " '★문단시작★웃음 소리들은 높아졌다. 그러나 그 웃음 소리들이 사라도 지기 전에 김첨 지는 훌쩍훌쩍 울기 시작하였다.',\n",
              " '★문단시작★치삼은 어이없이 주정뱅이를 바라보며,',\n",
              " '★문단시작★\"금방 웃고 지랄을 하더니 우는 건 또 무슨 일인가.\"',\n",
              " '★문단시작★김첨지는 연해 코를 들이마시며,',\n",
              " '★문단시작★\"우리 마누라가 죽었다네.\"',\n",
              " '★문단시작★\"뭐, 마누라가 죽다니, 언제?\"',\n",
              " '★문단시작★\"이놈아 언제는, 오늘이지.\"',\n",
              " '★문단시작★\"엣기 미친놈, 거짓말 말아.\"',\n",
              " '★문단시작★\"거짓말은 왜, 참말로 죽었어, 참말로',\n",
              " '★문단시작★고 내가 술을 먹다니, 내가 죽일 놈이야. 죽일 놈이야.\"',\n",
              " '★문단시작★하고 김첨지는 엉엉 소리를 내어 운다.',\n",
              " '★문단시작★마누라 시체를 집에 빼들쳐 놓',\n",
              " '★문단시작★치삼은 흥이 조금 깨어지는 얼굴로,',\n",
              " '★문단시작★\"원 이 사람이 참말을 하나 거짓말을 하나. 그러면 집으로 가세, 가.\"',\n",
              " '★문단시작★하고 우는 이의 팔을 잡아당기었다.',\n",
              " '★문단시작★치삼의 끄는 손을 뿌리치더니 김첨지는 눈물이 글썽글썽한 눈으로 싱그레 웃는다.',\n",
              " '★문단시작★\"죽기는 누가 죽어.\"',\n",
              " '★문단시작★하고 득의가 양양.',\n",
              " '★문단시작★\"죽기는 왜 죽어, 생때같이 살아만 있단다. 그 오라질 년이 밥을 죽이지.',\n",
              " '★문단시작★인제 나한테 속았다.\"',\n",
              " '★문단시작★하고 어린애 모양으로 손뼉을 치며 웃는다.',\n",
              " '★문단시작★“이 사람이 정말 미쳤단 말인가. 나도 아주먼네가 않는단 말은 들었는',\n",
              " '★문단시작★데.”',\n",
              " '★문단시작★하고 치삼이도 어느 불안을 느끼는 듯이 김첨지에게 또 돌아가라고 권하였 다.',\n",
              " '★문단시작★\"안 죽었어, 안 죽었대도 그래.\"',\n",
              " '★문단시작★김첨지는 화증을 내며 확신 있게 소리를 질렀으되 그 소리엔 안 죽은 것을 믿으려고 애쓰는 가락이 있었다. 기어이 일 원 어치를 채워서 곱배기 한 잔 씩 더 먹고 나왔다. 궂은비는 의연히 추적추적 내린다.',\n",
              " '★문단시작★운수 좋은날',\n",
              " '★문단시작★현진건',\n",
              " '★문단시작★새침하게 흐린 품이 눈이 올 듯하더니 눈은 아니 오고 얼다가 만 비가 추 적추적 내리는 날이었다.',\n",
              " '★문단시작★이날이야말로 동소문 안에서 인력거꾼 노릇을 하는 김첨지에게는 오래간만 에도 닥친 운수 좋은 날이었다. 문안에 거기도 문밖은 아니지만 들어간답 시는 앞집 마마님을 전찻길까지 모셔다 드린 것을 비롯으로 행여나 손님이 있을까 하고 정류장에서 어정어정하며 내리는 사람 하나하나에게 거의 비는 듯한 눈결을 보내고 있다가 마침내 교원인 듯한 양복쟁이를 동광학교(東光 學校)까지 태워다 주기로 되었다.',\n",
              " '★문단시작★첫 번에 삼십전, 둘째 번에 오십전 - 아침 댓바람에 그리 흉치 않은 일이 었다. 그야말로 재수가 옴불어서 근 열흘 동안 돈 구경도 못한 김첨지는 십 전짜리 백동화 서 푼, 또는 다섯 푼이 찰깍 하고 손바닥에 떨어질 제 거의 눈물을 흘릴 만큼 기뻤었다. 더구나 이날 이때에 이 팔십 전이라는 돈이 그 에게 얼마나 유용한지 몰랐다. 컬컬한 목에 모주 한 잔도 적실 수 있거니와 그보다도 앓는 아내에게 설렁탕 한 그릇도 사다 줄 수 있음이다.',\n",
              " '★문단시작★그의 아내가 기침으로 쿨룩거리기는 벌써 달포가 넘었다. 조밥도 굶기를 먹다시피 하는 형편이니 물론 약 한 첩 써본 일이 없다. 구태여 쓰려면 못 쓸 바도 아니로되 그는 병이란 놈에게 약을 주어 보내면 재미를 붙여서 자 꾸 온다는 자기의 신조(信)에 어디까지 충실하였다. 따라서 의사에게 보 인 적이 없으니 무슨 병인지는 알 수 없으되 반듯이 누워 가지고 일어나기 는 새로 모로도 못 눕는 걸 보면 중증은 중증인 듯. 병이 이대도록 심해지 기는 열흘전에 조밥을 먹고 체한 때문이다. 그때도 김첨지가 오래간만에 돈 을 얻어서 좁쌀 한 뇌와 십 전짜리 나무 한 단을 사다 주었더니 김첨지의 말에 의지하면 그 오라질 년이 천방지축으로 냄비에 대고 끓였다. 마음은 급하고 불길은 달지 않아 채 익지도 않은 것을 그 오라질년이 숟가락은 고 만두고 손으로 움켜서 두 뺨에 주먹덩이 같은 혹이 불거지도록 누가 빼앗을 듯이 처박질하더니만 그날 저녁부터 가슴이 땡긴다. 배가 켕긴다고 눈을 흡 뜨고 지랄병을 하였다. 그때 김첨지는 열화와 같이 성을 내며,',\n",
              " '★문단시작★“에이, 오라질년, 조랑복은 할 수가 없어, 못 먹어 병, 먹어서 병! 어쩌 란 말이야! 왜 눈을 바루 뜨지 못해!\"',\n",
              " '★문단시작★하고 앓는 이의 뺨을 한 번 후려갈겼다. 흡뜬 눈은 조금 바루어졌건만 이슬',\n",
              " '★문단시작★의 기색을 살피며,',\n",
              " '★문단시작★\"아씨, 정거장 애들보담 아주 싸게 모셔다 드리겠습니다. 댁이 어디신가 요.\"',\n",
              " '★문단시작★하고 추근추근하게도 그 여자의 들고 있는 일본식 버들고리짝에 제 손을 대 었다.',\n",
              " '★문단시작★\"왜 이래, 남 귀치않게.\"',\n",
              " '★문단시작★소리를 벽력같이 지르고는 돌아선다. 김첨지는 어랍시요 하고 물러섰다. 전차는 왔다. 김첨지는 원망스럽게 전차 타는 이를 노리고 있었다. 그러나 그의 예감은 틀리지 않았다. 전차가 빡빡하게 사람을 싣고 움직이기 시작하였을 제 타고 남은 손 하나가 있었다. 굉장하게 큰 가방을 들고 있는 걸 보면 아마 붐비는 차 안에 짐이 크다 하여 차장에게 밀려 내려온 눈치였 다. 김첨지는 대어섰다.',\n",
              " '★문단시작★\"인력거를 타시랍시요.\"',\n",
              " '★문단시작★한동안 값으로 승강이를 하다가 육십 전에 인사동까지 태워다 주기로 하였 다. 인력거가 무거워지매 그의 몸은 이상하게도 가벼워졌고 그리고 또 인력 거가 가벼워지니 몸은 다시금 무거워졌건만 이번에는 마음조차 초조해 온 다. 집의 광경이 자꾸 눈앞에 어른거리어 인제 요행을 바랄 여유도 없었다. 나무 등걸이나 무엇 같고 제 것 같지도 않은 다리를 연해 꾸짖으며 질팡갈 팡 뛰는 수밖에 없었다. 저놈의 인력거꾼이 저렇게 술이 취해 가지고 이 진 땅에 어찌 가노, 라고 길 가는 사람이 걱정을 하리만큼 그의 걸음은 황급하 였다. 흐리고 비 오는 하늘은 어둠침침하게 벌써 황혼에 가까운 듯하다. 창 경원 앞까지 다다라서야 그는 턱에 닿은 숨을 돌리고 걸음도 늦추잡았다. 한 걸음 두 걸음 집이 가까워 갈수록 그의 마음조차 괴상하게 누그러웠다. 그런데 이 누그러움은 안심에서 오는 게 아니요 자기를 덮친 무서운 불행을 빈틈없이 알게 될 때가 박두한 것을 두리는 마음에서 오는 것이다. 그는 불 행에 다닥치기 전 시간을 얼마쯤이라도 늘이려고 버르적거렸다. 기적(奇蹟) 에 가까운 벌이를 하였다는 기쁨을 할 수 있으면 오래 지니고 싶었다. 그는 두리번두리번 사면을 살피었다. 그 모양은 마치 자기 집 곧 불행을 향하 고 달아가는 제 다리를 제 힘으로는 도저히 어찌할 수 없으니 누구든지 나 를 좀 잡아 다고, 구해 다고 하는 듯하였다.',\n",
              " '★문단시작★그럴 즈음에 마침 길가 선술집에서 그의 친구 치삼이가 나온다. 그의 우글 우글 살찐 얼굴에 주홍이 덧는 듯, 온 턱과 뺨을 시커멓게 구레나룻이 덮였 거늘 노르탱탱한 얼굴이 바짝 말라서 여기저기 고랑이 패고 수염도 있대야 턱밑에만 마치 솔잎 송이를 거꾸로 붙여 놓은 듯한 김첨지의 풍채 하고는 기']"
            ]
          },
          "metadata": {},
          "execution_count": 27
        }
      ]
    },
    {
      "cell_type": "code",
      "source": [
        "# 문단 리스트를 512 토큰으로 나누기\n",
        "from transformers import BartForConditionalGeneration, PreTrainedTokenizerFast\n",
        "\n",
        "# 입력문장 리스트\n",
        "paragraphs\n",
        "\n",
        "# 모델 입력 데이터 생성\n",
        "input_data = []\n",
        "\n",
        "# 현재까지의 토큰 수 초기화\n",
        "current_token_count = 0\n",
        "\n",
        "for paragraph in paragraphs:\n",
        "    # '★문단시작★'를 제거하고 문단을 토큰화\n",
        "    paragraph_tokens = tokenizer(paragraph.replace('★문단시작★', ''), return_tensors='pt', add_special_tokens=True).input_ids\n",
        "\n",
        "    # 현재 문단을 추가해도 512 토큰을 넘지 않으면 추가\n",
        "    if current_token_count + len(paragraph_tokens[0]) <= 512:\n",
        "        if not input_data:\n",
        "            input_data.append(paragraph_tokens)\n",
        "            current_token_count += len(paragraph_tokens[0])\n",
        "        else:\n",
        "            # 이미 문단이 추가되어 있는 경우 이어서 추가\n",
        "            input_data[-1] = torch.cat((input_data[-1], paragraph_tokens), dim=-1)\n",
        "            current_token_count += len(paragraph_tokens[0])\n",
        "    else:\n",
        "        # 512 토큰을 넘어가면 새로운 입력으로 시작\n",
        "        input_data.append(paragraph_tokens)\n",
        "        current_token_count = len(paragraph_tokens[0])"
      ],
      "metadata": {
        "id": "cUkyEG-iBqv2"
      },
      "execution_count": null,
      "outputs": []
    },
    {
      "cell_type": "markdown",
      "source": [
        "## 키워드 추출\n"
      ],
      "metadata": {
        "id": "GsqtRjqz1mSA"
      }
    },
    {
      "cell_type": "code",
      "source": [
        "!pip install keybert\n",
        "!pip install kiwipiepy"
      ],
      "metadata": {
        "id": "RP-O1Us-1oL4"
      },
      "execution_count": null,
      "outputs": []
    },
    {
      "cell_type": "code",
      "source": [
        "from keybert import KeyBERT\n",
        "from kiwipiepy import Kiwi\n",
        "from transformers import BertModel"
      ],
      "metadata": {
        "id": "43ekHv3xjYtp"
      },
      "execution_count": null,
      "outputs": []
    },
    {
      "cell_type": "code",
      "source": [
        "txt= \"\"\"<그 애> 작자미상 우리는 개천 쪽으로 문이 난 납작한 집들이 게딱지처럼 따닥따닥 붙어있는 동네에서 자 랐다. 그 동네에선 누구나 그렇듯 그 애와 나도 가난했다. 물론 다른 점도 있었다. 내 아 버지는 번번히 월급이 밀리는 시원찮은 회사의 영업사원이었다. 그 애의 아버지는 한쪽 안구에 개 눈을 박아 넣고 지하철에서 구걸을 했다. 내 어머니는 방 한가운데 산처럼 쌓 아 놓은 개구리 인형에 눈을 박았다. 그 애의 어머니는 청계천 골목에서 커피도 팔고 박 카스도 팔고 이따금 곱창집 뒷 방에서 몸도 팔았다. 우리집은 네 가족이 방 두 개짜리 전세금에 쩔쩔맸고, 그 애는 화장실 옆 천막을 치고 아궁이를 걸어 간이 부엌을 만든 하코방에서 살았다. 나는 어린이날 탕수육을 못 먹고 짜장면만 먹는다고 울었고, 그 애는 엄마가 외박하는 밤이면 아버지의 허리띠를 피해서 맨발로 포도를 다다다닥 달렸다. 말하자면 그렇다. 우리집은 가난했고, 그 애는 불행했다. 가난한 동네는 국민학교도 작았다. 우리는 4학년때 처음 한 반이 되었다. 우연히 그 애 집을 지나가다가 길가로 훤히 드러나는 아궁이에다 라면을 끓이는 그 애를 보았다. 그 애가 입은 늘어난 러닝셔츠엔 김치국물이 묻어 있었고 얼굴엔 김치국물 같은 핏자국이 말라붙어 있었다. 눈싸움인지 서로를 노려보다가 내가 먼저 말했다. 너네 부엌 뽑기 만들 기에 최고다. 나는 집에서 국자와 설탕을 훔쳐왔고, 국자바닥을 까맣게 태우면서 우리는 친구가 되었다. 사정이 좀 풀려서 우리집은 서울 반대편으로 이사를 했다. 아버지는 친척이 소개 시켜준 회사에 나갔다. 월급은 밀리지 않았고 어머니는 부업을 그만두었다. 나는 가끔 그 애에게 편지를 썼다. 크리스마스에는 일년동안 쓴 딱딱한 커버의 일기장을 그 애에게 보내기도 했다. 그 애는 얇은 공책을 하나 보냈다. 일기는 몇 장 되지 않았다. decoded_paragraphs=[3월 4일 개학했다. 선생님한테 맞았다. 6월 1일 딸기를 먹었다. 9월 3일 누나가 아파서 아버지가 화냈다. 11 월 4일 생일이다. 그 애는 딸기를 먹으면 일기를 썼다. 딸기를 먹는 것이 일기를 쓸만한 일이었다. 우리는 중학생이 되었다.\"\"\""
      ],
      "metadata": {
        "id": "0n2stuA03MNh"
      },
      "execution_count": null,
      "outputs": []
    },
    {
      "cell_type": "code",
      "source": [
        "# 출력 및 시간 test\n",
        "model = BertModel.from_pretrained('skt/kobert-base-v1')\n",
        "kw_model = KeyBERT(model) # 로드까지 26초\n",
        "keywords = kw_model.extract_keywords(txt, keyphrase_ngram_range=(1, 1), stop_words=None, top_n=10)\n",
        "keywords # 모델이 로드된 상태라면 7초,글자수 1041"
      ],
      "metadata": {
        "colab": {
          "base_uri": "https://localhost:8080/"
        },
        "id": "w345JfTHUsUc",
        "outputId": "218bce84-48fc-4f16-cd25-be4fc56585dc"
      },
      "execution_count": null,
      "outputs": [
        {
          "output_type": "execute_result",
          "data": {
            "text/plain": [
              "[('가난한', 0.381),\n",
              " ('집들이', 0.3747),\n",
              " ('우리집은', 0.3392),\n",
              " ('가난했다', 0.3392),\n",
              " ('동네는', 0.3289),\n",
              " ('4학년때', 0.3283),\n",
              " ('동네에선', 0.3246),\n",
              " ('불행했다', 0.3224),\n",
              " ('동네에서', 0.3208),\n",
              " ('있었다', 0.3196)]"
            ]
          },
          "metadata": {},
          "execution_count": 16
        }
      ]
    },
    {
      "cell_type": "code",
      "source": [
        "### 키워드 명사로만 제공\n",
        "from kiwipiepy import Kiwi\n",
        "from transformers import BertModel\n",
        "from keybert import KeyBERT\n",
        "\n",
        "# 텍스트 입력\n",
        "text= \"\"\"<그 애> 작자미상 우리는 개천 쪽으로 문이 난 납작한 집들이 게딱지처럼 따닥따닥 붙어있는 동네에서 자 랐다. 그 동네에선 누구나 그렇듯 그 애와 나도 가난했다. 물론 다른 점도 있었다. 내 아 버지는 번번히 월급이 밀리는 시원찮은 회사의 영업사원이었다. 그 애의 아버지는 한쪽 안구에 개 눈을 박아 넣고 지하철에서 구걸을 했다. 내 어머니는 방 한가운데 산처럼 쌓 아 놓은 개구리 인형에 눈을 박았다. 그 애의 어머니는 청계천 골목에서 커피도 팔고 박 카스도 팔고 이따금 곱창집 뒷 방에서 몸도 팔았다. 우리집은 네 가족이 방 두 개짜리 전세금에 쩔쩔맸고, 그 애는 화장실 옆 천막을 치고 아궁이를 걸어 간이 부엌을 만든 하코방에서 살았다. 나는 어린이날 탕수육을 못 먹고 짜장면만 먹는다고 울었고, 그 애는 엄마가 외박하는 밤이면 아버지의 허리띠를 피해서 맨발로 포도를 다다다닥 달렸다. 말하자면 그렇다. 우리집은 가난했고, 그 애는 불행했다. 가난한 동네는 국민학교도 작았다. 우리는 4학년때 처음 한 반이 되었다. 우연히 그 애 집을 지나가다가 길가로 훤히 드러나는 아궁이에다 라면을 끓이는 그 애를 보았다. 그 애가 입은 늘어난 러닝셔츠엔 김치국물이 묻어 있었고 얼굴엔 김치국물 같은 핏자국이 말라붙어 있었다. 눈싸움인지 서로를 노려보다가 내가 먼저 말했다. 너네 부엌 뽑기 만들 기에 최고다. 나는 집에서 국자와 설탕을 훔쳐왔고, 국자바닥을 까맣게 태우면서 우리는 친구가 되었다. 사정이 좀 풀려서 우리집은 서울 반대편으로 이사를 했다. 아버지는 친척이 소개 시켜준 회사에 나갔다. 월급은 밀리지 않았고 어머니는 부업을 그만두었다. 나는 가끔 그 애에게 편지를 썼다. 크리스마스에는 일년동안 쓴 딱딱한 커버의 일기장을 그 애에게 보내기도 했다. 그 애는 얇은 공책을 하나 보냈다. 일기는 몇 장 되지 않았다. decoded_paragraphs=[3월 4일 개학했다. 선생님한테 맞았다. 6월 1일 딸기를 먹었다. 9월 3일 누나가 아파서 아버지가 화냈다. 11 월 4일 생일이다. 그 애는 딸기를 먹으면 일기를 썼다. 딸기를 먹는 것이 일기를 쓸만한 일이었다. 우리는 중학생이 되었다.\"\"\"\n",
        "# Kiwi 형태소 분석기 초기화\n",
        "kiwi = Kiwi()\n",
        "kiwi.analyze(text)\n",
        "\n",
        "# BERT 모델 로드\n",
        "model = BertModel.from_pretrained('skt/kobert-base-v1')\n",
        "\n",
        "# KeyBERT 모델 초기화\n",
        "kw_model = KeyBERT(model)\n",
        "\n",
        "# 키워드 추출\n",
        "keywords = kw_model.extract_keywords(text, keyphrase_ngram_range=(1, 1), stop_words=None, top_n=10)\n",
        "\n",
        "# 명사 키워드 추출 함수 정의\n",
        "def extract_nouns(keyword_list):\n",
        "    noun_keywords = []\n",
        "    keywordscore = []\n",
        "    for keyword, score in keywords:\n",
        "        # 형태소 분석 수행\n",
        "        tokens = kiwi.analyze(keyword)\n",
        "        # print(tokens)\n",
        "        for tk in tokens[0][0]:\n",
        "            # print(tk)\n",
        "            if tk.tag == \"NNG\":\n",
        "                if tk.form not in noun_keywords:\n",
        "                    noun_keywords.append(tk.form)\n",
        "                    keywordscore.append((tk.form,score))\n",
        "\n",
        "    return noun_keywords, keywordscore"
      ],
      "metadata": {
        "id": "lqK1-LAJy5g_"
      },
      "execution_count": null,
      "outputs": []
    },
    {
      "cell_type": "code",
      "source": [
        "# 명사 키워드 추출\n",
        "noun_keywords, keywordscore = extract_nouns(keywords)\n",
        "print('noun_keywords:', noun_keywords)\n",
        "print('keywordscore:', keywordscore)"
      ],
      "metadata": {
        "colab": {
          "base_uri": "https://localhost:8080/"
        },
        "id": "W2XgdpHh94Gc",
        "outputId": "6438d934-d238-40c1-d4c9-bf0548e31d5a"
      },
      "execution_count": null,
      "outputs": [
        {
          "output_type": "stream",
          "name": "stdout",
          "text": [
            "noun_keywords: ['가난', '집', '동네', '학년', '때', '불행']\n",
            "keywordscore: [('가난', 0.381), ('집', 0.3747), ('동네', 0.3289), ('학년', 0.3283), ('때', 0.3283), ('불행', 0.3224)]\n"
          ]
        }
      ]
    }
  ]
}
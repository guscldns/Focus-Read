{
 "cells": [
  {
   "cell_type": "code",
   "execution_count": 1,
   "metadata": {},
   "outputs": [],
   "source": [
    "import zipfile\n",
    "import os\n",
    "file_path = '/home/alpaco/Web_project'\n",
    "\n",
    "zip_file = zipfile.ZipFile(file_path + \"/web_output.zip\", \"w\")\n",
    "for (path, dir, files) in os.walk(file_path):\n",
    "    for file in files:\n",
    "        zip_file.write(os.path.join(path, file), compress_type=zipfile.ZIP_DEFLATED)\n",
    "\n",
    "zip_file.close()"
   ]
  },
  {
   "cell_type": "code",
   "execution_count": null,
   "metadata": {},
   "outputs": [],
   "source": [
    "# -*- coding: utf-8 -*-\n",
    "from transformers import PreTrainedTokenizerFast\n",
    "from transformers.models.bart import BartForConditionalGeneration, BartForCausalLM\n",
    "from transformers import BartForConditionalGeneration, PreTrainedTokenizerFast\n",
    "from kiwipiepy import Kiwi\n",
    "from transformers import BertModel\n",
    "from keybert import KeyBERT\n",
    "\n",
    "from transformers import PreTrainedTokenizerFast\n",
    "from transformers.models.bart import BartForConditionalGeneration\n",
    "\n",
    "# Kiwi, BERT 모델 및 KeyBERT 모델 초기화\n",
    "kiwi = Kiwi()\n",
    "keywords_model = BertModel.from_pretrained('skt/kobert-base-v1')\n",
    "kw_model = KeyBERT(keywords_model)\n",
    "# 요약 모델 및 토크나이저 초기화\n",
    "summary_model = BartForConditionalGeneration.from_pretrained('./KoBART-summarization/kobart_summary')\n",
    "summary_tokenizer = PreTrainedTokenizerFast.from_pretrained('gogamza/kobart-base-v1')"
   ]
  }
 ],
 "metadata": {
  "kernelspec": {
   "display_name": "hcw",
   "language": "python",
   "name": "python3"
  },
  "language_info": {
   "codemirror_mode": {
    "name": "ipython",
    "version": 3
   },
   "file_extension": ".py",
   "mimetype": "text/x-python",
   "name": "python",
   "nbconvert_exporter": "python",
   "pygments_lexer": "ipython3",
   "version": "3.8.18"
  },
  "orig_nbformat": 4
 },
 "nbformat": 4,
 "nbformat_minor": 2
}
